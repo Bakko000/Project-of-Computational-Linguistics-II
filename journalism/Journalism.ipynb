{
 "cells": [
  {
   "cell_type": "code",
   "execution_count": 6,
   "metadata": {
    "id": "YDFVaasYJd1N"
   },
   "outputs": [],
   "source": [
    "import re #pacchetto per espressioni regolari\n",
    "import os #pacchetto per muoversi nelle cartelle\n",
    "import sys\n",
    "sys.path.append('..')  # Add parent directory to the Python path\n",
    "from utils.helpers import *\n"
   ]
  },
  {
   "cell_type": "code",
   "execution_count": 7,
   "metadata": {
    "id": "-fz29DcAJjYg"
   },
   "outputs": [],
   "source": [
    "train_path = 'data/training.txt'\n",
    "test_path = 'data/test.txt'\n",
    "\n",
    "out_dir = 'data/profiling_input'"
   ]
  },
  {
   "cell_type": "code",
   "execution_count": 8,
   "metadata": {
    "colab": {
     "base_uri": "https://localhost:8080/",
     "height": 35
    },
    "id": "PzlbaMNkKghP",
    "outputId": "bd47cea7-a5d1-494d-ead4-882054451f60"
   },
   "outputs": [
    {
     "data": {
      "text/plain": [
       "'test'"
      ]
     },
     "execution_count": 8,
     "metadata": {},
     "output_type": "execute_result"
    }
   ],
   "source": [
    "split = get_split(test_path)\n",
    "split"
   ]
  },
  {
   "cell_type": "code",
   "execution_count": 9,
   "metadata": {
    "colab": {
     "base_uri": "https://localhost:8080/",
     "height": 35
    },
    "id": "XEwWq0-hKj4n",
    "outputId": "61db2db7-cd5a-4d57-d39c-aee71e463df3"
   },
   "outputs": [
    {
     "data": {
      "text/plain": [
       "'M'"
      ]
     },
     "execution_count": 9,
     "metadata": {},
     "output_type": "execute_result"
    }
   ],
   "source": [
    "header = '<doc id=\"1\" genre=\"journalism\" gender=\"M\">'\n",
    "\n",
    "#doc_id = re.findall(r'genre=\"(.*?)\"', header)[0] # il \"?\" serve per prendere l'occorrenza più piccola\n",
    "doc_id = re.search(r'gender=\"(.*?)\"', header).group(1)\n",
    "doc_id"
   ]
  },
  {
   "cell_type": "code",
   "execution_count": 10,
   "metadata": {
    "colab": {
     "base_uri": "https://localhost:8080/"
    },
    "id": "oaHIl9kuLMyL",
    "outputId": "4319ca32-62dd-4809-ad4c-6104252c658e"
   },
   "outputs": [
    {
     "data": {
      "text/plain": [
       "('1', 'journalism', 'M')"
      ]
     },
     "execution_count": 10,
     "metadata": {},
     "output_type": "execute_result"
    }
   ],
   "source": [
    "doc_id, genre, gender = get_doc_info(header)\n",
    "doc_id, genre, gender"
   ]
  },
  {
   "cell_type": "code",
   "execution_count": 11,
   "metadata": {
    "colab": {
     "base_uri": "https://localhost:8080/",
     "height": 35
    },
    "id": "ZVZN646nLW44",
    "outputId": "57a54178-1001-4adf-bb05-8365ebe1932d"
   },
   "outputs": [
    {
     "data": {
      "text/plain": [
       "'data/profiling_input\\\\test#1#journalism#M.txt'"
      ]
     },
     "execution_count": 11,
     "metadata": {},
     "output_type": "execute_result"
    }
   ],
   "source": [
    "out_file_name = f'{split}#{doc_id}#{genre}#{gender}.txt'\n",
    "out_file_path = os.path.join(out_dir, out_file_name)\n",
    "out_file_path"
   ]
  },
  {
   "cell_type": "code",
   "execution_count": 12,
   "metadata": {
    "id": "owFqgHYtLjpf"
   },
   "outputs": [],
   "source": [
    "# Necessario eitchettare il blind test\n",
    "\n",
    "# Read gold.txt file and extract gender values\n",
    "with open(\"data/gold.txt\", \"r\") as gold_file:\n",
    "    gold_data = gold_file.readlines()\n",
    "\n",
    "# Extract gender labels\n",
    "gender_list = [line.split()[1].strip() for line in gold_data]\n",
    "\n",
    "# Read test.txt file\n",
    "with open(\"data/test.txt\", \"r\") as test_file:\n",
    "    test_data = test_file.readlines()\n",
    "\n",
    "# Replace \"?\" with gender labels sequentially\n",
    "updated_test_data = []\n",
    "gender_index = 0  # Index to track which gender label to use\n",
    "in_doc = False\n",
    "for line in test_data:\n",
    "    if '<doc id=\"' in line:\n",
    "        in_doc = True\n",
    "        if '?' in line:\n",
    "            label = gender_list[gender_index]\n",
    "            updated_line = line.replace(\"?\", label)\n",
    "            gender_index += 1\n",
    "        else:\n",
    "            updated_line = line\n",
    "    elif \"</doc>\" in line:\n",
    "        in_doc = False\n",
    "        updated_line = line\n",
    "    elif in_doc:\n",
    "        # If inside a <doc>...</doc> block, continue appending the lines\n",
    "        updated_line = line.replace(\"?\", label)\n",
    "    else:\n",
    "        updated_line = line\n",
    "    updated_test_data.append(updated_line)\n",
    "\n",
    "# Write the updated test data to a new file\n",
    "with open(\"data/test.txt\", \"w\") as updated_test_file:\n",
    "    updated_test_file.writelines(updated_test_data)\n"
   ]
  },
  {
   "cell_type": "code",
   "execution_count": 13,
   "metadata": {},
   "outputs": [],
   "source": [
    "for file_path in [train_path, test_path]:\n",
    "    split = get_split(file_path)\n",
    "\n",
    "    for line in open(file_path, 'r'):\n",
    "        line = line.strip() # rimuoviamo eventuali spazi e ritorni a capo\n",
    "\n",
    "        if '<doc id=\"' in line:    # troviamo un nuovo documento\n",
    "            doc_id, genre, gender = get_doc_info(line)\n",
    "            out_file_name = f'{split}#{doc_id}#{genre}#{gender}.txt'\n",
    "            out_file_path = os.path.join(out_dir, out_file_name)\n",
    "            user_post = []\n",
    "\n",
    "        elif '</doc>' in line:     # fine dell'utente\n",
    "            with open(out_file_path, 'w') as out_file:\n",
    "                for post in user_post:\n",
    "                    out_file.write(post)\n",
    "                    out_file.write('\\n')\n",
    "\n",
    "        elif line != '':  # siamo in corrispondenza del testo di un post\n",
    "            user_post.append(line)"
   ]
  },
  {
   "cell_type": "markdown",
   "metadata": {
    "id": "IfNuv14DUM1e"
   },
   "source": [
    "## Utilizzo dell'output profiling ud"
   ]
  },
  {
   "cell_type": "code",
   "execution_count": 126,
   "metadata": {
    "id": "YnAzr2RgUQMt"
   },
   "outputs": [],
   "source": [
    "import numpy as np\n",
    "import csv\n",
    "profiling_output_path = '/content/profiling_output/11152.csv'\n"
   ]
  },
  {
   "cell_type": "code",
   "execution_count": 127,
   "metadata": {
    "id": "qTe6G8l2ad_i"
   },
   "outputs": [],
   "source": [
    "import pandas as pd\n",
    "\n",
    "df = pd.read_csv(profiling_output_path, sep=\"\\t\")"
   ]
  },
  {
   "cell_type": "code",
   "execution_count": 128,
   "metadata": {
    "colab": {
     "base_uri": "https://localhost:8080/",
     "height": 443
    },
    "id": "mrHMH9VMai9s",
    "outputId": "52f0c397-4906-4a3d-9fca-32527ff299f4"
   },
   "outputs": [
    {
     "data": {
      "application/vnd.google.colaboratory.intrinsic+json": {
       "type": "dataframe",
       "variable_name": "df"
      },
      "text/html": [
       "\n",
       "  <div id=\"df-f61ebdba-b18b-442c-83fc-8d3f6e0908da\" class=\"colab-df-container\">\n",
       "    <div>\n",
       "<style scoped>\n",
       "    .dataframe tbody tr th:only-of-type {\n",
       "        vertical-align: middle;\n",
       "    }\n",
       "\n",
       "    .dataframe tbody tr th {\n",
       "        vertical-align: top;\n",
       "    }\n",
       "\n",
       "    .dataframe thead th {\n",
       "        text-align: right;\n",
       "    }\n",
       "</style>\n",
       "<table border=\"1\" class=\"dataframe\">\n",
       "  <thead>\n",
       "    <tr style=\"text-align: right;\">\n",
       "      <th></th>\n",
       "      <th>Filename</th>\n",
       "      <th>n_sentences</th>\n",
       "      <th>n_tokens</th>\n",
       "      <th>tokens_per_sent</th>\n",
       "      <th>char_per_tok</th>\n",
       "      <th>ttr_lemma_chunks_100</th>\n",
       "      <th>ttr_lemma_chunks_200</th>\n",
       "      <th>ttr_form_chunks_100</th>\n",
       "      <th>ttr_form_chunks_200</th>\n",
       "      <th>upos_dist_ADJ</th>\n",
       "      <th>...</th>\n",
       "      <th>principal_proposition_dist</th>\n",
       "      <th>subordinate_proposition_dist</th>\n",
       "      <th>subordinate_post</th>\n",
       "      <th>subordinate_pre</th>\n",
       "      <th>avg_subordinate_chain_len</th>\n",
       "      <th>subordinate_dist_1</th>\n",
       "      <th>subordinate_dist_2</th>\n",
       "      <th>subordinate_dist_3</th>\n",
       "      <th>subordinate_dist_4</th>\n",
       "      <th>subordinate_dist_5</th>\n",
       "    </tr>\n",
       "  </thead>\n",
       "  <tbody>\n",
       "    <tr>\n",
       "      <th>0</th>\n",
       "      <td>training#107#journalism#F.conllu</td>\n",
       "      <td>35</td>\n",
       "      <td>769</td>\n",
       "      <td>21.971429</td>\n",
       "      <td>4.761035</td>\n",
       "      <td>0.67</td>\n",
       "      <td>0.640</td>\n",
       "      <td>0.74</td>\n",
       "      <td>0.680</td>\n",
       "      <td>4.811443</td>\n",
       "      <td>...</td>\n",
       "      <td>42.372881</td>\n",
       "      <td>57.627119</td>\n",
       "      <td>91.176471</td>\n",
       "      <td>8.823529</td>\n",
       "      <td>1.360000</td>\n",
       "      <td>72.000000</td>\n",
       "      <td>20.000000</td>\n",
       "      <td>8.000000</td>\n",
       "      <td>0.0</td>\n",
       "      <td>0.0</td>\n",
       "    </tr>\n",
       "    <tr>\n",
       "      <th>1</th>\n",
       "      <td>training#97#journalism#M.conllu</td>\n",
       "      <td>62</td>\n",
       "      <td>1189</td>\n",
       "      <td>19.177419</td>\n",
       "      <td>4.541121</td>\n",
       "      <td>0.64</td>\n",
       "      <td>0.520</td>\n",
       "      <td>0.77</td>\n",
       "      <td>0.645</td>\n",
       "      <td>4.793944</td>\n",
       "      <td>...</td>\n",
       "      <td>47.500000</td>\n",
       "      <td>52.500000</td>\n",
       "      <td>76.190476</td>\n",
       "      <td>23.809524</td>\n",
       "      <td>1.122807</td>\n",
       "      <td>87.719298</td>\n",
       "      <td>12.280702</td>\n",
       "      <td>0.000000</td>\n",
       "      <td>0.0</td>\n",
       "      <td>0.0</td>\n",
       "    </tr>\n",
       "    <tr>\n",
       "      <th>2</th>\n",
       "      <td>test#80#journalism#M.conllu</td>\n",
       "      <td>33</td>\n",
       "      <td>654</td>\n",
       "      <td>19.818182</td>\n",
       "      <td>4.560345</td>\n",
       "      <td>0.68</td>\n",
       "      <td>0.600</td>\n",
       "      <td>0.78</td>\n",
       "      <td>0.675</td>\n",
       "      <td>5.810398</td>\n",
       "      <td>...</td>\n",
       "      <td>40.000000</td>\n",
       "      <td>60.000000</td>\n",
       "      <td>75.000000</td>\n",
       "      <td>25.000000</td>\n",
       "      <td>1.241379</td>\n",
       "      <td>75.862069</td>\n",
       "      <td>24.137931</td>\n",
       "      <td>0.000000</td>\n",
       "      <td>0.0</td>\n",
       "      <td>0.0</td>\n",
       "    </tr>\n",
       "    <tr>\n",
       "      <th>3</th>\n",
       "      <td>test#160#journalism#F.conllu</td>\n",
       "      <td>38</td>\n",
       "      <td>660</td>\n",
       "      <td>17.368421</td>\n",
       "      <td>4.491259</td>\n",
       "      <td>0.72</td>\n",
       "      <td>0.620</td>\n",
       "      <td>0.79</td>\n",
       "      <td>0.695</td>\n",
       "      <td>6.060606</td>\n",
       "      <td>...</td>\n",
       "      <td>51.724138</td>\n",
       "      <td>48.275862</td>\n",
       "      <td>85.714286</td>\n",
       "      <td>14.285714</td>\n",
       "      <td>1.272727</td>\n",
       "      <td>72.727273</td>\n",
       "      <td>27.272727</td>\n",
       "      <td>0.000000</td>\n",
       "      <td>0.0</td>\n",
       "      <td>0.0</td>\n",
       "    </tr>\n",
       "    <tr>\n",
       "      <th>4</th>\n",
       "      <td>test#86#journalism#F.conllu</td>\n",
       "      <td>22</td>\n",
       "      <td>519</td>\n",
       "      <td>23.590909</td>\n",
       "      <td>4.615385</td>\n",
       "      <td>0.61</td>\n",
       "      <td>0.525</td>\n",
       "      <td>0.75</td>\n",
       "      <td>0.635</td>\n",
       "      <td>5.973025</td>\n",
       "      <td>...</td>\n",
       "      <td>44.444444</td>\n",
       "      <td>55.555556</td>\n",
       "      <td>68.000000</td>\n",
       "      <td>32.000000</td>\n",
       "      <td>1.190476</td>\n",
       "      <td>80.952381</td>\n",
       "      <td>19.047619</td>\n",
       "      <td>0.000000</td>\n",
       "      <td>0.0</td>\n",
       "      <td>0.0</td>\n",
       "    </tr>\n",
       "    <tr>\n",
       "      <th>...</th>\n",
       "      <td>...</td>\n",
       "      <td>...</td>\n",
       "      <td>...</td>\n",
       "      <td>...</td>\n",
       "      <td>...</td>\n",
       "      <td>...</td>\n",
       "      <td>...</td>\n",
       "      <td>...</td>\n",
       "      <td>...</td>\n",
       "      <td>...</td>\n",
       "      <td>...</td>\n",
       "      <td>...</td>\n",
       "      <td>...</td>\n",
       "      <td>...</td>\n",
       "      <td>...</td>\n",
       "      <td>...</td>\n",
       "      <td>...</td>\n",
       "      <td>...</td>\n",
       "      <td>...</td>\n",
       "      <td>...</td>\n",
       "      <td>...</td>\n",
       "    </tr>\n",
       "    <tr>\n",
       "      <th>395</th>\n",
       "      <td>test#59#journalism#M.conllu</td>\n",
       "      <td>26</td>\n",
       "      <td>538</td>\n",
       "      <td>20.692308</td>\n",
       "      <td>4.824153</td>\n",
       "      <td>0.67</td>\n",
       "      <td>0.570</td>\n",
       "      <td>0.78</td>\n",
       "      <td>0.665</td>\n",
       "      <td>7.620818</td>\n",
       "      <td>...</td>\n",
       "      <td>43.181818</td>\n",
       "      <td>56.818182</td>\n",
       "      <td>88.000000</td>\n",
       "      <td>12.000000</td>\n",
       "      <td>1.136364</td>\n",
       "      <td>90.909091</td>\n",
       "      <td>4.545455</td>\n",
       "      <td>4.545455</td>\n",
       "      <td>0.0</td>\n",
       "      <td>0.0</td>\n",
       "    </tr>\n",
       "    <tr>\n",
       "      <th>396</th>\n",
       "      <td>test#13#journalism#F.conllu</td>\n",
       "      <td>19</td>\n",
       "      <td>479</td>\n",
       "      <td>25.210526</td>\n",
       "      <td>4.413636</td>\n",
       "      <td>0.57</td>\n",
       "      <td>0.510</td>\n",
       "      <td>0.68</td>\n",
       "      <td>0.580</td>\n",
       "      <td>4.175365</td>\n",
       "      <td>...</td>\n",
       "      <td>40.000000</td>\n",
       "      <td>60.000000</td>\n",
       "      <td>100.000000</td>\n",
       "      <td>0.000000</td>\n",
       "      <td>1.250000</td>\n",
       "      <td>75.000000</td>\n",
       "      <td>25.000000</td>\n",
       "      <td>0.000000</td>\n",
       "      <td>0.0</td>\n",
       "      <td>0.0</td>\n",
       "    </tr>\n",
       "    <tr>\n",
       "      <th>397</th>\n",
       "      <td>test#10#journalism#F.conllu</td>\n",
       "      <td>40</td>\n",
       "      <td>847</td>\n",
       "      <td>21.175000</td>\n",
       "      <td>4.428958</td>\n",
       "      <td>0.59</td>\n",
       "      <td>0.525</td>\n",
       "      <td>0.72</td>\n",
       "      <td>0.615</td>\n",
       "      <td>4.250295</td>\n",
       "      <td>...</td>\n",
       "      <td>51.515152</td>\n",
       "      <td>48.484848</td>\n",
       "      <td>75.000000</td>\n",
       "      <td>25.000000</td>\n",
       "      <td>1.142857</td>\n",
       "      <td>89.285714</td>\n",
       "      <td>7.142857</td>\n",
       "      <td>3.571429</td>\n",
       "      <td>0.0</td>\n",
       "      <td>0.0</td>\n",
       "    </tr>\n",
       "    <tr>\n",
       "      <th>398</th>\n",
       "      <td>training#172#journalism#F.conllu</td>\n",
       "      <td>17</td>\n",
       "      <td>295</td>\n",
       "      <td>17.352941</td>\n",
       "      <td>4.606742</td>\n",
       "      <td>0.67</td>\n",
       "      <td>0.570</td>\n",
       "      <td>0.75</td>\n",
       "      <td>0.680</td>\n",
       "      <td>3.050847</td>\n",
       "      <td>...</td>\n",
       "      <td>43.243243</td>\n",
       "      <td>56.756757</td>\n",
       "      <td>90.476190</td>\n",
       "      <td>9.523810</td>\n",
       "      <td>1.400000</td>\n",
       "      <td>66.666667</td>\n",
       "      <td>26.666667</td>\n",
       "      <td>6.666667</td>\n",
       "      <td>0.0</td>\n",
       "      <td>0.0</td>\n",
       "    </tr>\n",
       "    <tr>\n",
       "      <th>399</th>\n",
       "      <td>training#133#journalism#F.conllu</td>\n",
       "      <td>18</td>\n",
       "      <td>337</td>\n",
       "      <td>18.722222</td>\n",
       "      <td>4.576547</td>\n",
       "      <td>0.55</td>\n",
       "      <td>0.475</td>\n",
       "      <td>0.71</td>\n",
       "      <td>0.595</td>\n",
       "      <td>4.154303</td>\n",
       "      <td>...</td>\n",
       "      <td>61.538462</td>\n",
       "      <td>38.461538</td>\n",
       "      <td>90.000000</td>\n",
       "      <td>10.000000</td>\n",
       "      <td>1.111111</td>\n",
       "      <td>88.888889</td>\n",
       "      <td>11.111111</td>\n",
       "      <td>0.000000</td>\n",
       "      <td>0.0</td>\n",
       "      <td>0.0</td>\n",
       "    </tr>\n",
       "  </tbody>\n",
       "</table>\n",
       "<p>400 rows × 141 columns</p>\n",
       "</div>\n",
       "    <div class=\"colab-df-buttons\">\n",
       "\n",
       "  <div class=\"colab-df-container\">\n",
       "    <button class=\"colab-df-convert\" onclick=\"convertToInteractive('df-f61ebdba-b18b-442c-83fc-8d3f6e0908da')\"\n",
       "            title=\"Convert this dataframe to an interactive table.\"\n",
       "            style=\"display:none;\">\n",
       "\n",
       "  <svg xmlns=\"http://www.w3.org/2000/svg\" height=\"24px\" viewBox=\"0 -960 960 960\">\n",
       "    <path d=\"M120-120v-720h720v720H120Zm60-500h600v-160H180v160Zm220 220h160v-160H400v160Zm0 220h160v-160H400v160ZM180-400h160v-160H180v160Zm440 0h160v-160H620v160ZM180-180h160v-160H180v160Zm440 0h160v-160H620v160Z\"/>\n",
       "  </svg>\n",
       "    </button>\n",
       "\n",
       "  <style>\n",
       "    .colab-df-container {\n",
       "      display:flex;\n",
       "      gap: 12px;\n",
       "    }\n",
       "\n",
       "    .colab-df-convert {\n",
       "      background-color: #E8F0FE;\n",
       "      border: none;\n",
       "      border-radius: 50%;\n",
       "      cursor: pointer;\n",
       "      display: none;\n",
       "      fill: #1967D2;\n",
       "      height: 32px;\n",
       "      padding: 0 0 0 0;\n",
       "      width: 32px;\n",
       "    }\n",
       "\n",
       "    .colab-df-convert:hover {\n",
       "      background-color: #E2EBFA;\n",
       "      box-shadow: 0px 1px 2px rgba(60, 64, 67, 0.3), 0px 1px 3px 1px rgba(60, 64, 67, 0.15);\n",
       "      fill: #174EA6;\n",
       "    }\n",
       "\n",
       "    .colab-df-buttons div {\n",
       "      margin-bottom: 4px;\n",
       "    }\n",
       "\n",
       "    [theme=dark] .colab-df-convert {\n",
       "      background-color: #3B4455;\n",
       "      fill: #D2E3FC;\n",
       "    }\n",
       "\n",
       "    [theme=dark] .colab-df-convert:hover {\n",
       "      background-color: #434B5C;\n",
       "      box-shadow: 0px 1px 3px 1px rgba(0, 0, 0, 0.15);\n",
       "      filter: drop-shadow(0px 1px 2px rgba(0, 0, 0, 0.3));\n",
       "      fill: #FFFFFF;\n",
       "    }\n",
       "  </style>\n",
       "\n",
       "    <script>\n",
       "      const buttonEl =\n",
       "        document.querySelector('#df-f61ebdba-b18b-442c-83fc-8d3f6e0908da button.colab-df-convert');\n",
       "      buttonEl.style.display =\n",
       "        google.colab.kernel.accessAllowed ? 'block' : 'none';\n",
       "\n",
       "      async function convertToInteractive(key) {\n",
       "        const element = document.querySelector('#df-f61ebdba-b18b-442c-83fc-8d3f6e0908da');\n",
       "        const dataTable =\n",
       "          await google.colab.kernel.invokeFunction('convertToInteractive',\n",
       "                                                    [key], {});\n",
       "        if (!dataTable) return;\n",
       "\n",
       "        const docLinkHtml = 'Like what you see? Visit the ' +\n",
       "          '<a target=\"_blank\" href=https://colab.research.google.com/notebooks/data_table.ipynb>data table notebook</a>'\n",
       "          + ' to learn more about interactive tables.';\n",
       "        element.innerHTML = '';\n",
       "        dataTable['output_type'] = 'display_data';\n",
       "        await google.colab.output.renderOutput(dataTable, element);\n",
       "        const docLink = document.createElement('div');\n",
       "        docLink.innerHTML = docLinkHtml;\n",
       "        element.appendChild(docLink);\n",
       "      }\n",
       "    </script>\n",
       "  </div>\n",
       "\n",
       "\n",
       "<div id=\"df-c46b1ad5-ad86-4ae2-9e28-b2e8f1f4db00\">\n",
       "  <button class=\"colab-df-quickchart\" onclick=\"quickchart('df-c46b1ad5-ad86-4ae2-9e28-b2e8f1f4db00')\"\n",
       "            title=\"Suggest charts\"\n",
       "            style=\"display:none;\">\n",
       "\n",
       "<svg xmlns=\"http://www.w3.org/2000/svg\" height=\"24px\"viewBox=\"0 0 24 24\"\n",
       "     width=\"24px\">\n",
       "    <g>\n",
       "        <path d=\"M19 3H5c-1.1 0-2 .9-2 2v14c0 1.1.9 2 2 2h14c1.1 0 2-.9 2-2V5c0-1.1-.9-2-2-2zM9 17H7v-7h2v7zm4 0h-2V7h2v10zm4 0h-2v-4h2v4z\"/>\n",
       "    </g>\n",
       "</svg>\n",
       "  </button>\n",
       "\n",
       "<style>\n",
       "  .colab-df-quickchart {\n",
       "      --bg-color: #E8F0FE;\n",
       "      --fill-color: #1967D2;\n",
       "      --hover-bg-color: #E2EBFA;\n",
       "      --hover-fill-color: #174EA6;\n",
       "      --disabled-fill-color: #AAA;\n",
       "      --disabled-bg-color: #DDD;\n",
       "  }\n",
       "\n",
       "  [theme=dark] .colab-df-quickchart {\n",
       "      --bg-color: #3B4455;\n",
       "      --fill-color: #D2E3FC;\n",
       "      --hover-bg-color: #434B5C;\n",
       "      --hover-fill-color: #FFFFFF;\n",
       "      --disabled-bg-color: #3B4455;\n",
       "      --disabled-fill-color: #666;\n",
       "  }\n",
       "\n",
       "  .colab-df-quickchart {\n",
       "    background-color: var(--bg-color);\n",
       "    border: none;\n",
       "    border-radius: 50%;\n",
       "    cursor: pointer;\n",
       "    display: none;\n",
       "    fill: var(--fill-color);\n",
       "    height: 32px;\n",
       "    padding: 0;\n",
       "    width: 32px;\n",
       "  }\n",
       "\n",
       "  .colab-df-quickchart:hover {\n",
       "    background-color: var(--hover-bg-color);\n",
       "    box-shadow: 0 1px 2px rgba(60, 64, 67, 0.3), 0 1px 3px 1px rgba(60, 64, 67, 0.15);\n",
       "    fill: var(--button-hover-fill-color);\n",
       "  }\n",
       "\n",
       "  .colab-df-quickchart-complete:disabled,\n",
       "  .colab-df-quickchart-complete:disabled:hover {\n",
       "    background-color: var(--disabled-bg-color);\n",
       "    fill: var(--disabled-fill-color);\n",
       "    box-shadow: none;\n",
       "  }\n",
       "\n",
       "  .colab-df-spinner {\n",
       "    border: 2px solid var(--fill-color);\n",
       "    border-color: transparent;\n",
       "    border-bottom-color: var(--fill-color);\n",
       "    animation:\n",
       "      spin 1s steps(1) infinite;\n",
       "  }\n",
       "\n",
       "  @keyframes spin {\n",
       "    0% {\n",
       "      border-color: transparent;\n",
       "      border-bottom-color: var(--fill-color);\n",
       "      border-left-color: var(--fill-color);\n",
       "    }\n",
       "    20% {\n",
       "      border-color: transparent;\n",
       "      border-left-color: var(--fill-color);\n",
       "      border-top-color: var(--fill-color);\n",
       "    }\n",
       "    30% {\n",
       "      border-color: transparent;\n",
       "      border-left-color: var(--fill-color);\n",
       "      border-top-color: var(--fill-color);\n",
       "      border-right-color: var(--fill-color);\n",
       "    }\n",
       "    40% {\n",
       "      border-color: transparent;\n",
       "      border-right-color: var(--fill-color);\n",
       "      border-top-color: var(--fill-color);\n",
       "    }\n",
       "    60% {\n",
       "      border-color: transparent;\n",
       "      border-right-color: var(--fill-color);\n",
       "    }\n",
       "    80% {\n",
       "      border-color: transparent;\n",
       "      border-right-color: var(--fill-color);\n",
       "      border-bottom-color: var(--fill-color);\n",
       "    }\n",
       "    90% {\n",
       "      border-color: transparent;\n",
       "      border-bottom-color: var(--fill-color);\n",
       "    }\n",
       "  }\n",
       "</style>\n",
       "\n",
       "  <script>\n",
       "    async function quickchart(key) {\n",
       "      const quickchartButtonEl =\n",
       "        document.querySelector('#' + key + ' button');\n",
       "      quickchartButtonEl.disabled = true;  // To prevent multiple clicks.\n",
       "      quickchartButtonEl.classList.add('colab-df-spinner');\n",
       "      try {\n",
       "        const charts = await google.colab.kernel.invokeFunction(\n",
       "            'suggestCharts', [key], {});\n",
       "      } catch (error) {\n",
       "        console.error('Error during call to suggestCharts:', error);\n",
       "      }\n",
       "      quickchartButtonEl.classList.remove('colab-df-spinner');\n",
       "      quickchartButtonEl.classList.add('colab-df-quickchart-complete');\n",
       "    }\n",
       "    (() => {\n",
       "      let quickchartButtonEl =\n",
       "        document.querySelector('#df-c46b1ad5-ad86-4ae2-9e28-b2e8f1f4db00 button');\n",
       "      quickchartButtonEl.style.display =\n",
       "        google.colab.kernel.accessAllowed ? 'block' : 'none';\n",
       "    })();\n",
       "  </script>\n",
       "</div>\n",
       "    </div>\n",
       "  </div>\n"
      ],
      "text/plain": [
       "                             Filename  n_sentences  n_tokens  tokens_per_sent  \\\n",
       "0    training#107#journalism#F.conllu           35       769        21.971429   \n",
       "1     training#97#journalism#M.conllu           62      1189        19.177419   \n",
       "2         test#80#journalism#M.conllu           33       654        19.818182   \n",
       "3        test#160#journalism#F.conllu           38       660        17.368421   \n",
       "4         test#86#journalism#F.conllu           22       519        23.590909   \n",
       "..                                ...          ...       ...              ...   \n",
       "395       test#59#journalism#M.conllu           26       538        20.692308   \n",
       "396       test#13#journalism#F.conllu           19       479        25.210526   \n",
       "397       test#10#journalism#F.conllu           40       847        21.175000   \n",
       "398  training#172#journalism#F.conllu           17       295        17.352941   \n",
       "399  training#133#journalism#F.conllu           18       337        18.722222   \n",
       "\n",
       "     char_per_tok  ttr_lemma_chunks_100  ttr_lemma_chunks_200  \\\n",
       "0        4.761035                  0.67                 0.640   \n",
       "1        4.541121                  0.64                 0.520   \n",
       "2        4.560345                  0.68                 0.600   \n",
       "3        4.491259                  0.72                 0.620   \n",
       "4        4.615385                  0.61                 0.525   \n",
       "..            ...                   ...                   ...   \n",
       "395      4.824153                  0.67                 0.570   \n",
       "396      4.413636                  0.57                 0.510   \n",
       "397      4.428958                  0.59                 0.525   \n",
       "398      4.606742                  0.67                 0.570   \n",
       "399      4.576547                  0.55                 0.475   \n",
       "\n",
       "     ttr_form_chunks_100  ttr_form_chunks_200  upos_dist_ADJ  ...  \\\n",
       "0                   0.74                0.680       4.811443  ...   \n",
       "1                   0.77                0.645       4.793944  ...   \n",
       "2                   0.78                0.675       5.810398  ...   \n",
       "3                   0.79                0.695       6.060606  ...   \n",
       "4                   0.75                0.635       5.973025  ...   \n",
       "..                   ...                  ...            ...  ...   \n",
       "395                 0.78                0.665       7.620818  ...   \n",
       "396                 0.68                0.580       4.175365  ...   \n",
       "397                 0.72                0.615       4.250295  ...   \n",
       "398                 0.75                0.680       3.050847  ...   \n",
       "399                 0.71                0.595       4.154303  ...   \n",
       "\n",
       "     principal_proposition_dist  subordinate_proposition_dist  \\\n",
       "0                     42.372881                     57.627119   \n",
       "1                     47.500000                     52.500000   \n",
       "2                     40.000000                     60.000000   \n",
       "3                     51.724138                     48.275862   \n",
       "4                     44.444444                     55.555556   \n",
       "..                          ...                           ...   \n",
       "395                   43.181818                     56.818182   \n",
       "396                   40.000000                     60.000000   \n",
       "397                   51.515152                     48.484848   \n",
       "398                   43.243243                     56.756757   \n",
       "399                   61.538462                     38.461538   \n",
       "\n",
       "     subordinate_post  subordinate_pre  avg_subordinate_chain_len  \\\n",
       "0           91.176471         8.823529                   1.360000   \n",
       "1           76.190476        23.809524                   1.122807   \n",
       "2           75.000000        25.000000                   1.241379   \n",
       "3           85.714286        14.285714                   1.272727   \n",
       "4           68.000000        32.000000                   1.190476   \n",
       "..                ...              ...                        ...   \n",
       "395         88.000000        12.000000                   1.136364   \n",
       "396        100.000000         0.000000                   1.250000   \n",
       "397         75.000000        25.000000                   1.142857   \n",
       "398         90.476190         9.523810                   1.400000   \n",
       "399         90.000000        10.000000                   1.111111   \n",
       "\n",
       "     subordinate_dist_1  subordinate_dist_2  subordinate_dist_3  \\\n",
       "0             72.000000           20.000000            8.000000   \n",
       "1             87.719298           12.280702            0.000000   \n",
       "2             75.862069           24.137931            0.000000   \n",
       "3             72.727273           27.272727            0.000000   \n",
       "4             80.952381           19.047619            0.000000   \n",
       "..                  ...                 ...                 ...   \n",
       "395           90.909091            4.545455            4.545455   \n",
       "396           75.000000           25.000000            0.000000   \n",
       "397           89.285714            7.142857            3.571429   \n",
       "398           66.666667           26.666667            6.666667   \n",
       "399           88.888889           11.111111            0.000000   \n",
       "\n",
       "     subordinate_dist_4  subordinate_dist_5  \n",
       "0                   0.0                 0.0  \n",
       "1                   0.0                 0.0  \n",
       "2                   0.0                 0.0  \n",
       "3                   0.0                 0.0  \n",
       "4                   0.0                 0.0  \n",
       "..                  ...                 ...  \n",
       "395                 0.0                 0.0  \n",
       "396                 0.0                 0.0  \n",
       "397                 0.0                 0.0  \n",
       "398                 0.0                 0.0  \n",
       "399                 0.0                 0.0  \n",
       "\n",
       "[400 rows x 141 columns]"
      ]
     },
     "execution_count": 128,
     "metadata": {},
     "output_type": "execute_result"
    }
   ],
   "source": [
    "df"
   ]
  },
  {
   "cell_type": "code",
   "execution_count": 13,
   "metadata": {
    "id": "kb50Xc9jbQel"
   },
   "outputs": [],
   "source": [
    "# Remove final part before \".conllu\" and replace \"F\" or \"M\" with just the letter\n",
    "df['Filename'] = df['Filename'].str.replace(r'F_\\d+\\.conllu$', 'F.conllu', regex=True).str.replace(r'M_\\d+\\.conllu$', 'M.conllu', regex=True)"
   ]
  },
  {
   "cell_type": "code",
   "execution_count": 14,
   "metadata": {
    "id": "oOkHC4PzbShu"
   },
   "outputs": [],
   "source": [
    "df.to_csv('/content/profiling_output/11137.csv', index=False)"
   ]
  },
  {
   "cell_type": "code",
   "execution_count": 129,
   "metadata": {
    "id": "_yKEjGuJUZt5"
   },
   "outputs": [],
   "source": [
    "def load_dataset(src_path):\n",
    "    features_names = None\n",
    "    documents_info = []\n",
    "    features = []\n",
    "    with open(src_path, 'r') as src_file:\n",
    "        csv_reader = csv.reader(src_file, delimiter='\\t')\n",
    "        for row in csv_reader:\n",
    "            if features_names is None: # la prima riga del csv contiene 'Filename' e tutti i nomi delle features\n",
    "                features_names = row[1:]\n",
    "            else:\n",
    "                documents_info.append(row[0]) # il primo elemento di ogni riga contiene il nome del file, dove sono codificati lo split e le feature\n",
    "                features.append(row[1:]) # dal secondo elemento in poi ci sono le features\n",
    "    return features_names, documents_info, features"
   ]
  },
  {
   "cell_type": "code",
   "execution_count": 130,
   "metadata": {
    "id": "2AKVddcrUdAE"
   },
   "outputs": [],
   "source": [
    "features_names, documents_info, features = load_dataset(profiling_output_path)\n"
   ]
  },
  {
   "cell_type": "code",
   "execution_count": 131,
   "metadata": {
    "colab": {
     "base_uri": "https://localhost:8080/"
    },
    "id": "DDX9bSY9UvHD",
    "outputId": "8018d45a-da8c-4e5d-d324-6f6279948654"
   },
   "outputs": [
    {
     "name": "stdout",
     "output_type": "stream",
     "text": [
      "Numero features: 140\n",
      "\n",
      "Lista features:\n",
      "['n_sentences', 'n_tokens', 'tokens_per_sent', 'char_per_tok', 'ttr_lemma_chunks_100', 'ttr_lemma_chunks_200', 'ttr_form_chunks_100', 'ttr_form_chunks_200', 'upos_dist_ADJ', 'upos_dist_ADP']\n"
     ]
    }
   ],
   "source": [
    "print(f'Numero features: {len(features_names)}')\n",
    "print('\\nLista features:')\n",
    "print(features_names[:10])"
   ]
  },
  {
   "cell_type": "code",
   "execution_count": 132,
   "metadata": {
    "colab": {
     "base_uri": "https://localhost:8080/"
    },
    "id": "vSsjm-XeUyBf",
    "outputId": "b0d50bea-86b0-4b44-cb80-7a710bf9ad05"
   },
   "outputs": [
    {
     "name": "stdout",
     "output_type": "stream",
     "text": [
      "Primo documento:\n",
      "Document info: training#107#journalism#F.conllu\n",
      "Features: ['35', '769', '21.97142857142857', '4.76103500761035', '0.67', '0.64', '0.74', '0.68', '4.811443433029909', '15.604681404421326']\n"
     ]
    }
   ],
   "source": [
    "print('Primo documento:')\n",
    "print(f'Document info: {documents_info[0]}')\n",
    "print(f'Features: {features[0][:10]}')"
   ]
  },
  {
   "cell_type": "code",
   "execution_count": 133,
   "metadata": {
    "colab": {
     "base_uri": "https://localhost:8080/"
    },
    "id": "tb3OMzPzVB5C",
    "outputId": "a5b31fae-6078-4b2b-dbdf-c7e2b5acece0"
   },
   "outputs": [
    {
     "name": "stdout",
     "output_type": "stream",
     "text": [
      "Document info: training#107#journalism#F.conllu\n",
      "Document info senza estensione: training#107#journalism#F\n",
      "Split su #: ['training', '107', 'journalism', 'F']\n",
      "Label: F\n"
     ]
    }
   ],
   "source": [
    "document_info = documents_info[0] # consideriamo il primo documento\n",
    "\n",
    "print('Document info:', document_info)\n",
    "\n",
    "document_info = document_info[0:-len('.conllu')]\n",
    "print('Document info senza estensione:', document_info)\n",
    "\n",
    "splitted_document_info = document_info.split('#')\n",
    "print('Split su #:', splitted_document_info)\n",
    "\n",
    "label = splitted_document_info[3]\n",
    "print('Label:', label)"
   ]
  },
  {
   "cell_type": "code",
   "execution_count": 134,
   "metadata": {
    "id": "eC-6jh0qVebd"
   },
   "outputs": [],
   "source": [
    "def create_label_list(documents_info):\n",
    "    labels = []\n",
    "    for doc_info in documents_info:\n",
    "\n",
    "        doc_info = doc_info[0:-len('.conllu')]\n",
    "        splitted_doc_info = doc_info.split('#')\n",
    "\n",
    "        genre = splitted_doc_info[2]\n",
    "        gender = splitted_doc_info[3]\n",
    "\n",
    "        labels.append(gender)\n",
    "    return labels"
   ]
  },
  {
   "cell_type": "code",
   "execution_count": 135,
   "metadata": {
    "id": "ecsTCbXpVgxW"
   },
   "outputs": [],
   "source": [
    "labels = create_label_list(documents_info)\n"
   ]
  },
  {
   "cell_type": "code",
   "execution_count": 136,
   "metadata": {
    "colab": {
     "base_uri": "https://localhost:8080/"
    },
    "id": "dV3HZYRmWS3K",
    "outputId": "ca6bc904-5a63-40a7-a31c-ae4252cdcc51"
   },
   "outputs": [
    {
     "data": {
      "text/plain": [
       "['F',\n",
       " 'M',\n",
       " 'M',\n",
       " 'F',\n",
       " 'F',\n",
       " 'M',\n",
       " 'F',\n",
       " 'F',\n",
       " 'F',\n",
       " 'M',\n",
       " 'F',\n",
       " 'M',\n",
       " 'F',\n",
       " 'F',\n",
       " 'M',\n",
       " 'M',\n",
       " 'M',\n",
       " 'F',\n",
       " 'M',\n",
       " 'F',\n",
       " 'F',\n",
       " 'F',\n",
       " 'M',\n",
       " 'M',\n",
       " 'F',\n",
       " 'M',\n",
       " 'M',\n",
       " 'M',\n",
       " 'M',\n",
       " 'F',\n",
       " 'M',\n",
       " 'M',\n",
       " 'F',\n",
       " 'F',\n",
       " 'F',\n",
       " 'M',\n",
       " 'M',\n",
       " 'M',\n",
       " 'M',\n",
       " 'F',\n",
       " 'F',\n",
       " 'F',\n",
       " 'M',\n",
       " 'F',\n",
       " 'M',\n",
       " 'F',\n",
       " 'F',\n",
       " 'M',\n",
       " 'F',\n",
       " 'M',\n",
       " 'M',\n",
       " 'M',\n",
       " 'F',\n",
       " 'M',\n",
       " 'M',\n",
       " 'F',\n",
       " 'F',\n",
       " 'M',\n",
       " 'F',\n",
       " 'F',\n",
       " 'M',\n",
       " 'M',\n",
       " 'M',\n",
       " 'M',\n",
       " 'M',\n",
       " 'F',\n",
       " 'M',\n",
       " 'M',\n",
       " 'M',\n",
       " 'F',\n",
       " 'M',\n",
       " 'M',\n",
       " 'M',\n",
       " 'F',\n",
       " 'M',\n",
       " 'F',\n",
       " 'M',\n",
       " 'M',\n",
       " 'F',\n",
       " 'M',\n",
       " 'M',\n",
       " 'F',\n",
       " 'F',\n",
       " 'M',\n",
       " 'F',\n",
       " 'M',\n",
       " 'M',\n",
       " 'M',\n",
       " 'F',\n",
       " 'M',\n",
       " 'M',\n",
       " 'M',\n",
       " 'M',\n",
       " 'M',\n",
       " 'F',\n",
       " 'M',\n",
       " 'F',\n",
       " 'M',\n",
       " 'M',\n",
       " 'F',\n",
       " 'M',\n",
       " 'F',\n",
       " 'F',\n",
       " 'F',\n",
       " 'F',\n",
       " 'F',\n",
       " 'F',\n",
       " 'M',\n",
       " 'F',\n",
       " 'F',\n",
       " 'F',\n",
       " 'M',\n",
       " 'M',\n",
       " 'F',\n",
       " 'M',\n",
       " 'F',\n",
       " 'F',\n",
       " 'M',\n",
       " 'M',\n",
       " 'M',\n",
       " 'F',\n",
       " 'F',\n",
       " 'F',\n",
       " 'F',\n",
       " 'F',\n",
       " 'F',\n",
       " 'F',\n",
       " 'F',\n",
       " 'M',\n",
       " 'M',\n",
       " 'M',\n",
       " 'F',\n",
       " 'M',\n",
       " 'M',\n",
       " 'M',\n",
       " 'F',\n",
       " 'F',\n",
       " 'M',\n",
       " 'F',\n",
       " 'F',\n",
       " 'M',\n",
       " 'M',\n",
       " 'M',\n",
       " 'F',\n",
       " 'M',\n",
       " 'F',\n",
       " 'M',\n",
       " 'M',\n",
       " 'M',\n",
       " 'F',\n",
       " 'M',\n",
       " 'M',\n",
       " 'F',\n",
       " 'M',\n",
       " 'F',\n",
       " 'F',\n",
       " 'F',\n",
       " 'F',\n",
       " 'F',\n",
       " 'F',\n",
       " 'F',\n",
       " 'M',\n",
       " 'M',\n",
       " 'F',\n",
       " 'F',\n",
       " 'F',\n",
       " 'F',\n",
       " 'M',\n",
       " 'F',\n",
       " 'F',\n",
       " 'M',\n",
       " 'F',\n",
       " 'M',\n",
       " 'M',\n",
       " 'M',\n",
       " 'F',\n",
       " 'M',\n",
       " 'M',\n",
       " 'F',\n",
       " 'F',\n",
       " 'M',\n",
       " 'F',\n",
       " 'F',\n",
       " 'F',\n",
       " 'M',\n",
       " 'F',\n",
       " 'M',\n",
       " 'F',\n",
       " 'M',\n",
       " 'M',\n",
       " 'M',\n",
       " 'M',\n",
       " 'F',\n",
       " 'M',\n",
       " 'F',\n",
       " 'M',\n",
       " 'M',\n",
       " 'F',\n",
       " 'F',\n",
       " 'M',\n",
       " 'F',\n",
       " 'F',\n",
       " 'F',\n",
       " 'M',\n",
       " 'M',\n",
       " 'F',\n",
       " 'F',\n",
       " 'M',\n",
       " 'M',\n",
       " 'F',\n",
       " 'M',\n",
       " 'F',\n",
       " 'F',\n",
       " 'F',\n",
       " 'F',\n",
       " 'F',\n",
       " 'M',\n",
       " 'M',\n",
       " 'M',\n",
       " 'F',\n",
       " 'M',\n",
       " 'F',\n",
       " 'F',\n",
       " 'F',\n",
       " 'M',\n",
       " 'M',\n",
       " 'M',\n",
       " 'F',\n",
       " 'F',\n",
       " 'F',\n",
       " 'M',\n",
       " 'M',\n",
       " 'M',\n",
       " 'F',\n",
       " 'M',\n",
       " 'F',\n",
       " 'M',\n",
       " 'F',\n",
       " 'F',\n",
       " 'M',\n",
       " 'M',\n",
       " 'M',\n",
       " 'M',\n",
       " 'M',\n",
       " 'F',\n",
       " 'F',\n",
       " 'F',\n",
       " 'M',\n",
       " 'F',\n",
       " 'F',\n",
       " 'M',\n",
       " 'M',\n",
       " 'M',\n",
       " 'M',\n",
       " 'M',\n",
       " 'M',\n",
       " 'F',\n",
       " 'F',\n",
       " 'M',\n",
       " 'F',\n",
       " 'F',\n",
       " 'M',\n",
       " 'F',\n",
       " 'F',\n",
       " 'M',\n",
       " 'M',\n",
       " 'M',\n",
       " 'M',\n",
       " 'F',\n",
       " 'F',\n",
       " 'M',\n",
       " 'F',\n",
       " 'F',\n",
       " 'M',\n",
       " 'F',\n",
       " 'M',\n",
       " 'M',\n",
       " 'M',\n",
       " 'M',\n",
       " 'F',\n",
       " 'F',\n",
       " 'F',\n",
       " 'M',\n",
       " 'M',\n",
       " 'M',\n",
       " 'M',\n",
       " 'F',\n",
       " 'F',\n",
       " 'M',\n",
       " 'F',\n",
       " 'F',\n",
       " 'F',\n",
       " 'F',\n",
       " 'F',\n",
       " 'M',\n",
       " 'M',\n",
       " 'F',\n",
       " 'F',\n",
       " 'M',\n",
       " 'M',\n",
       " 'M',\n",
       " 'F',\n",
       " 'M',\n",
       " 'M',\n",
       " 'M',\n",
       " 'F',\n",
       " 'F',\n",
       " 'M',\n",
       " 'F',\n",
       " 'F',\n",
       " 'M',\n",
       " 'M',\n",
       " 'F',\n",
       " 'F',\n",
       " 'F',\n",
       " 'M',\n",
       " 'F',\n",
       " 'M',\n",
       " 'F',\n",
       " 'M',\n",
       " 'M',\n",
       " 'M',\n",
       " 'M',\n",
       " 'F',\n",
       " 'F',\n",
       " 'M',\n",
       " 'F',\n",
       " 'F',\n",
       " 'M',\n",
       " 'M',\n",
       " 'M',\n",
       " 'F',\n",
       " 'F',\n",
       " 'F',\n",
       " 'M',\n",
       " 'F',\n",
       " 'M',\n",
       " 'M',\n",
       " 'M',\n",
       " 'F',\n",
       " 'M',\n",
       " 'F',\n",
       " 'F',\n",
       " 'F',\n",
       " 'F',\n",
       " 'M',\n",
       " 'M',\n",
       " 'F',\n",
       " 'F',\n",
       " 'M',\n",
       " 'M',\n",
       " 'F',\n",
       " 'M',\n",
       " 'M',\n",
       " 'M',\n",
       " 'F',\n",
       " 'F',\n",
       " 'M',\n",
       " 'F',\n",
       " 'F',\n",
       " 'M',\n",
       " 'F',\n",
       " 'F',\n",
       " 'F',\n",
       " 'F',\n",
       " 'M',\n",
       " 'F',\n",
       " 'M',\n",
       " 'F',\n",
       " 'F',\n",
       " 'M',\n",
       " 'M',\n",
       " 'F',\n",
       " 'F',\n",
       " 'F',\n",
       " 'M',\n",
       " 'M',\n",
       " 'F',\n",
       " 'M',\n",
       " 'M',\n",
       " 'F',\n",
       " 'M',\n",
       " 'F',\n",
       " 'F',\n",
       " 'M',\n",
       " 'F',\n",
       " 'M',\n",
       " 'M',\n",
       " 'F',\n",
       " 'F',\n",
       " 'F',\n",
       " 'F',\n",
       " 'M',\n",
       " 'M',\n",
       " 'M',\n",
       " 'M',\n",
       " 'F',\n",
       " 'F',\n",
       " 'F',\n",
       " 'F']"
      ]
     },
     "execution_count": 136,
     "metadata": {},
     "output_type": "execute_result"
    }
   ],
   "source": [
    "labels"
   ]
  },
  {
   "cell_type": "code",
   "execution_count": 137,
   "metadata": {
    "colab": {
     "base_uri": "https://localhost:8080/"
    },
    "id": "5wkuIDYWWidB",
    "outputId": "25609122-47aa-4be4-d307-392801cf111d"
   },
   "outputs": [
    {
     "data": {
      "text/plain": [
       "400"
      ]
     },
     "execution_count": 137,
     "metadata": {},
     "output_type": "execute_result"
    }
   ],
   "source": [
    "len(labels)"
   ]
  },
  {
   "cell_type": "code",
   "execution_count": 138,
   "metadata": {
    "id": "RXUUKGylWpga"
   },
   "outputs": [],
   "source": [
    "def train_test_split(documents_info, features, labels):\n",
    "    train_features, test_features = [], []\n",
    "    train_labels, test_labels = [], []\n",
    "\n",
    "    for doc_info, doc_features, doc_label in zip(documents_info, features, labels): # for idx in range(len(documents_info)):\n",
    "        if 'training' in doc_info:\n",
    "            train_features.append(doc_features)                                     # train_features.append(documents_info[idx])\n",
    "            train_labels.append(doc_label)\n",
    "        else: # if 'test' in file_name\n",
    "            test_features.append(doc_features)\n",
    "            test_labels.append(doc_label)\n",
    "\n",
    "    return train_features, train_labels, test_features, test_labels"
   ]
  },
  {
   "cell_type": "code",
   "execution_count": 206,
   "metadata": {
    "colab": {
     "base_uri": "https://localhost:8080/"
    },
    "id": "bTP0mN9HWs6D",
    "outputId": "fa557af9-bd5b-4ad5-e8ff-69485f4de61b"
   },
   "outputs": [
    {
     "name": "stdout",
     "output_type": "stream",
     "text": [
      "Documenti training set: 200 200\n",
      "Documenti test set: 200 200\n"
     ]
    }
   ],
   "source": [
    "train_features, train_labels, test_features, test_labels = train_test_split(documents_info, features, labels)\n",
    "\n",
    "print('Documenti training set:', len(train_features), len(train_labels))\n",
    "print('Documenti test set:', len(test_features), len(test_labels))"
   ]
  },
  {
   "cell_type": "code",
   "execution_count": null,
   "metadata": {
    "id": "8RWYauWCjByb"
   },
   "outputs": [],
   "source": [
    "from sklearn.model_selection import train_test_split\n",
    "\n",
    "X_train, X_test, y_train, y_test = train_test_split(train_features, train_labels, test_size=0.2, random_state=42)"
   ]
  },
  {
   "cell_type": "code",
   "execution_count": 207,
   "metadata": {
    "id": "Yl-CNAXOWy-p"
   },
   "outputs": [],
   "source": [
    "from sklearn.preprocessing import MinMaxScaler"
   ]
  },
  {
   "cell_type": "code",
   "execution_count": 208,
   "metadata": {
    "id": "AeiBYDz7W3P_"
   },
   "outputs": [],
   "source": [
    "scaler = MinMaxScaler()\n",
    "X_train = scaler.fit_transform(train_features)"
   ]
  },
  {
   "cell_type": "code",
   "execution_count": 209,
   "metadata": {
    "id": "klDBv_ZuW6GM"
   },
   "outputs": [],
   "source": [
    "from sklearn.svm import LinearSVC"
   ]
  },
  {
   "cell_type": "code",
   "execution_count": 210,
   "metadata": {
    "colab": {
     "base_uri": "https://localhost:8080/"
    },
    "id": "iYt-dWbRm4VK",
    "outputId": "bd92621f-d898-4fad-9563-b0051ce3b277"
   },
   "outputs": [
    {
     "name": "stdout",
     "output_type": "stream",
     "text": [
      "Best parameters found: {'C': 0.1, 'dual': True}\n",
      "Best score found: 0.67\n"
     ]
    }
   ],
   "source": [
    "from sklearn.model_selection import GridSearchCV\n",
    "from sklearn.svm import LinearSVC\n",
    "\n",
    "# Define the parameter grid to search through\n",
    "param_grid = {\n",
    "    'C': [0.1, 0.01, 0.001, 0.0001],  # Regularization parameter\n",
    "    'dual': [True, False]\n",
    "}\n",
    "\n",
    "# Initialize SVM with linear kernel\n",
    "svc = LinearSVC()\n",
    "\n",
    "# Initialize GridSearchCV with 5-fold cross-validation\n",
    "grid_search = GridSearchCV(estimator=svc, param_grid=param_grid, cv=5)\n",
    "\n",
    "# Fit the grid search to your data\n",
    "grid_search.fit(X_train, train_labels)\n",
    "\n",
    "# Get mean test scores across folds\n",
    "mean_test_scores = grid_search.cv_results_['mean_test_score']\n",
    "\n",
    "# Print the best parameters and best score\n",
    "print(\"Best parameters found:\", grid_search.best_params_)\n",
    "print(\"Best score found:\", grid_search.best_score_)"
   ]
  },
  {
   "cell_type": "code",
   "execution_count": 211,
   "metadata": {
    "id": "8YVKY4MIpsQA"
   },
   "outputs": [],
   "source": [
    "X_test = scaler.transform(test_features)"
   ]
  },
  {
   "cell_type": "code",
   "execution_count": 212,
   "metadata": {
    "id": "YOMtEUoNW87O"
   },
   "outputs": [],
   "source": [
    "# Get the best estimator (model) found by grid search\n",
    "best_model = grid_search.best_estimator_\n",
    "\n",
    "# Now, you can use this best_model to make predictions on new data\n",
    "# For example, if you have new data X_new, you can predict its labels as follows:\n",
    "predictions = best_model.predict(X_test)"
   ]
  },
  {
   "cell_type": "code",
   "execution_count": 213,
   "metadata": {
    "colab": {
     "base_uri": "https://localhost:8080/"
    },
    "id": "tOf8b4y7W_3b",
    "outputId": "8b904f89-3ca0-4553-ae18-b80e111cb646"
   },
   "outputs": [
    {
     "name": "stdout",
     "output_type": "stream",
     "text": [
      "              precision    recall  f1-score   support\n",
      "\n",
      "           F       0.57      0.59      0.58       100\n",
      "           M       0.57      0.55      0.56       100\n",
      "\n",
      "    accuracy                           0.57       200\n",
      "   macro avg       0.57      0.57      0.57       200\n",
      "weighted avg       0.57      0.57      0.57       200\n",
      "\n"
     ]
    }
   ],
   "source": [
    "from sklearn.metrics import classification_report, ConfusionMatrixDisplay, confusion_matrix\n",
    "test_predictions = predictions\n",
    "print(classification_report(test_labels, test_predictions, zero_division=0)) # output_dict=True"
   ]
  },
  {
   "cell_type": "code",
   "execution_count": 214,
   "metadata": {
    "colab": {
     "base_uri": "https://localhost:8080/"
    },
    "id": "h5wlvrtnjhHD",
    "outputId": "6f663e26-190b-4ae1-fec9-dc66c63b7bc4"
   },
   "outputs": [
    {
     "name": "stdout",
     "output_type": "stream",
     "text": [
      "[[59 41]\n",
      " [45 55]]\n"
     ]
    }
   ],
   "source": [
    "print(confusion_matrix(test_labels, test_predictions))"
   ]
  },
  {
   "cell_type": "code",
   "execution_count": 215,
   "metadata": {
    "colab": {
     "base_uri": "https://localhost:8080/",
     "height": 447
    },
    "id": "SNFpmZ_8jY10",
    "outputId": "53b601b3-4952-47e6-a299-b1c9bd69f6ae"
   },
   "outputs": [
    {
     "data": {
      "image/png": "[encoded data removed]",
      "text/plain": [
       "<Figure size 640x480 with 2 Axes>"
      ]
     },
     "metadata": {},
     "output_type": "display_data"
    }
   ],
   "source": [
    "ConfusionMatrixDisplay.from_predictions(test_labels, test_predictions, xticks_rotation='vertical', cmap='Blues');"
   ]
  },
  {
   "cell_type": "markdown",
   "metadata": {
    "id": "PTHG7HnIj3TA"
   },
   "source": [
    "# Il modello è buono? Vediamo le baseline"
   ]
  },
  {
   "cell_type": "code",
   "execution_count": 216,
   "metadata": {
    "colab": {
     "base_uri": "https://localhost:8080/"
    },
    "id": "RRHb0I0fj5tI",
    "outputId": "87c9f010-95d8-4c46-813c-c0061a8fc10d"
   },
   "outputs": [
    {
     "name": "stdout",
     "output_type": "stream",
     "text": [
      "              precision    recall  f1-score   support\n",
      "\n",
      "           F       0.50      1.00      0.67       100\n",
      "           M       0.00      0.00      0.00       100\n",
      "\n",
      "    accuracy                           0.50       200\n",
      "   macro avg       0.25      0.50      0.33       200\n",
      "weighted avg       0.25      0.50      0.33       200\n",
      "\n"
     ]
    }
   ],
   "source": [
    "from sklearn.dummy import DummyClassifier\n",
    "baseline_classifier = DummyClassifier(strategy=\"most_frequent\")\n",
    "baseline_classifier.fit(X_train, train_labels)\n",
    "baseline_test_predictions = baseline_classifier.predict(X_test)\n",
    "print(classification_report(test_labels, baseline_test_predictions, zero_division=0))"
   ]
  },
  {
   "cell_type": "markdown",
   "metadata": {
    "id": "EAazQmmKkMqJ"
   },
   "source": [
    "# Kfold 10"
   ]
  },
  {
   "cell_type": "code",
   "execution_count": 217,
   "metadata": {
    "id": "KnvTENMWkN5F"
   },
   "outputs": [],
   "source": [
    "from sklearn.metrics import accuracy_score\n",
    "from sklearn.model_selection import KFold"
   ]
  },
  {
   "cell_type": "code",
   "execution_count": 218,
   "metadata": {
    "id": "_4-_bq5ikPci"
   },
   "outputs": [],
   "source": [
    "y_train = np.asarray(train_labels)"
   ]
  },
  {
   "cell_type": "code",
   "execution_count": 219,
   "metadata": {
    "id": "Wm4SdSfMmsR9"
   },
   "outputs": [],
   "source": [
    "X_train = scaler.transform(np.asarray(train_features))"
   ]
  },
  {
   "cell_type": "code",
   "execution_count": 224,
   "metadata": {
    "colab": {
     "base_uri": "https://localhost:8080/"
    },
    "id": "Phu-a7pekVJf",
    "outputId": "a58cbc3b-eb12-4520-8f08-a9be37ae478d"
   },
   "outputs": [
    {
     "name": "stdout",
     "output_type": "stream",
     "text": [
      "180 20\n",
      "180 20\n",
      "180 20\n",
      "180 20\n",
      "180 20\n",
      "180 20\n",
      "180 20\n",
      "180 20\n",
      "180 20\n",
      "180 20\n"
     ]
    }
   ],
   "source": [
    "splitter = KFold(n_splits=10, random_state=42, shuffle=True)\n",
    "folds = list(splitter.split(X_train))\n",
    "\n",
    "for i in range(len(folds)):\n",
    "    print(len(folds[i][0]), len(folds[i][1]))"
   ]
  },
  {
   "cell_type": "code",
   "execution_count": 225,
   "metadata": {
    "colab": {
     "base_uri": "https://localhost:8080/"
    },
    "id": "D1sM1DTCkaN4",
    "outputId": "772e1340-b10e-4b8b-bda0-26f6aceb82ea"
   },
   "outputs": [
    {
     "name": "stdout",
     "output_type": "stream",
     "text": [
      "Accuracy fold 1: 0.5\n",
      "Accuracy fold 2: 0.7\n",
      "Accuracy fold 3: 0.7\n",
      "Accuracy fold 4: 0.75\n",
      "Accuracy fold 5: 0.65\n",
      "Accuracy fold 6: 0.6\n",
      "Accuracy fold 7: 0.4\n",
      "Accuracy fold 8: 0.7\n",
      "Accuracy fold 9: 0.65\n",
      "Accuracy fold 10: 0.55\n"
     ]
    }
   ],
   "source": [
    "all_y_true = []\n",
    "all_y_pred = []\n",
    "\n",
    "# for i, (train_ids, test_ids) in enumerate(splitter.split(X_train)):\n",
    "for i in range(len(folds)):\n",
    "    train_ids = folds[i][0]\n",
    "    test_ids = folds[i][1]\n",
    "\n",
    "\n",
    "    fold_X_train = X_train[train_ids]\n",
    "    fold_y_train = y_train[train_ids]\n",
    "\n",
    "    fold_X_test = X_train[test_ids]\n",
    "    fold_y_test = y_train[test_ids]\n",
    "\n",
    "    kfold_svc = LinearSVC(dual=True, C=0.1)\n",
    "    kfold_svc.fit(fold_X_train, fold_y_train)\n",
    "    fold_y_pred = kfold_svc.predict(fold_X_test)\n",
    "    fold_accuracy = accuracy_score(fold_y_test, fold_y_pred)\n",
    "\n",
    "    all_y_true += fold_y_test.tolist()\n",
    "    all_y_pred += fold_y_pred.tolist()\n",
    "    print(f\"Accuracy fold {i+1}: {fold_accuracy}\")"
   ]
  },
  {
   "cell_type": "code",
   "execution_count": 226,
   "metadata": {
    "colab": {
     "base_uri": "https://localhost:8080/"
    },
    "id": "-Kth5QkZkxJ2",
    "outputId": "69a0fd7e-41c7-482d-dcb9-4b3f4631053c"
   },
   "outputs": [
    {
     "name": "stdout",
     "output_type": "stream",
     "text": [
      "              precision    recall  f1-score   support\n",
      "\n",
      "           F       0.62      0.62      0.62       100\n",
      "           M       0.62      0.62      0.62       100\n",
      "\n",
      "    accuracy                           0.62       200\n",
      "   macro avg       0.62      0.62      0.62       200\n",
      "weighted avg       0.62      0.62      0.62       200\n",
      "\n"
     ]
    }
   ],
   "source": [
    "print(classification_report(all_y_true, all_y_pred, zero_division=0))"
   ]
  },
  {
   "cell_type": "code",
   "execution_count": 227,
   "metadata": {
    "colab": {
     "base_uri": "https://localhost:8080/",
     "height": 447
    },
    "id": "vzEMuFuOk0JX",
    "outputId": "fcc07d22-b186-4627-de7a-1e514fbb8e94"
   },
   "outputs": [
    {
     "data": {
      "image/png": "[encoded data removed]",
      "text/plain": [
       "<Figure size 640x480 with 2 Axes>"
      ]
     },
     "metadata": {},
     "output_type": "display_data"
    }
   ],
   "source": [
    "ConfusionMatrixDisplay.from_predictions(all_y_true, all_y_pred, xticks_rotation='vertical', cmap='Blues');"
   ]
  },
  {
   "cell_type": "markdown",
   "metadata": {
    "id": "6xMFjUwxoXhz"
   },
   "source": [
    "# Prediction scores"
   ]
  },
  {
   "cell_type": "code",
   "execution_count": 158,
   "metadata": {
    "colab": {
     "base_uri": "https://localhost:8080/"
    },
    "id": "ocP9Y0TWobJK",
    "outputId": "2f61889b-8bad-437e-aae0-367ece698f84"
   },
   "outputs": [
    {
     "name": "stdout",
     "output_type": "stream",
     "text": [
      "Predicted class: F\n",
      "Scores:\n",
      "F -0.2129965003746418\n"
     ]
    }
   ],
   "source": [
    "test_sample = X_test[50].reshape(1, -1)\n",
    "print('Predicted class:', svc.predict(test_sample)[0])\n",
    "print('Scores:')\n",
    "prediction_scores = [svc.decision_function(test_sample)[0]]  # Wrap the score in a list\n",
    "\n",
    "# Check if svc.classes_ contains a single class label or an iterable sequence\n",
    "if isinstance(svc.classes_, np.ndarray):\n",
    "    classes = svc.classes_\n",
    "else:\n",
    "    classes = [svc.classes_]  # Wrap the single class label in a list\n",
    "\n",
    "for label, score in zip(classes, prediction_scores):\n",
    "    print(label, score)\n"
   ]
  },
  {
   "cell_type": "code",
   "execution_count": 159,
   "metadata": {
    "colab": {
     "base_uri": "https://localhost:8080/"
    },
    "id": "HGfSeNjGopC3",
    "outputId": "43ce5647-d73b-4264-a46b-c20fa1cbf1c2"
   },
   "outputs": [
    {
     "data": {
      "text/plain": [
       "array(['F', 'M'], dtype='<U1')"
      ]
     },
     "execution_count": 159,
     "metadata": {},
     "output_type": "execute_result"
    }
   ],
   "source": [
    "svc.classes_"
   ]
  },
  {
   "cell_type": "code",
   "execution_count": 160,
   "metadata": {
    "colab": {
     "base_uri": "https://localhost:8080/"
    },
    "id": "2Xx8IUWcosoM",
    "outputId": "379e6a3a-a0ce-42dd-dace-4404eaf719ef"
   },
   "outputs": [
    {
     "data": {
      "text/plain": [
       "(1, 140)"
      ]
     },
     "execution_count": 160,
     "metadata": {},
     "output_type": "execute_result"
    }
   ],
   "source": [
    "coefs = svc.coef_ # ndarray of shape (1, n_features) if n_classes == 2 else (n_classes, n_features)\n",
    "coefs.shape"
   ]
  },
  {
   "cell_type": "code",
   "execution_count": 161,
   "metadata": {
    "colab": {
     "base_uri": "https://localhost:8080/",
     "height": 447
    },
    "id": "sngte5pYo0z-",
    "outputId": "5dd4db98-8c81-4bcc-9d88-dd99bb89a49a"
   },
   "outputs": [
    {
     "name": "stdout",
     "output_type": "stream",
     "text": [
      "Feature importance class F\n"
     ]
    },
    {
     "data": {
      "image/png": "[encoded data removed]",
      "text/plain": [
       "<Figure size 640x480 with 1 Axes>"
      ]
     },
     "metadata": {},
     "output_type": "display_data"
    }
   ],
   "source": [
    "import matplotlib.pyplot as plt\n",
    "\n",
    "# Assuming `coefs` is your coefficients obtained from the SVM model\n",
    "# Assuming `features_names` is a list containing the names of your features\n",
    "idx = 0\n",
    "class_coefs = coefs[idx]\n",
    "\n",
    "feature_importances = {feature_name: coef for feature_name, coef in zip(features_names, class_coefs)}\n",
    "sorted_feature_importances = dict(sorted(feature_importances.items(), key=lambda item: item[1], reverse=True))\n",
    "\n",
    "num_to_plot = 20\n",
    "print(f'Feature importance class {svc.classes_[idx]}')\n",
    "plt.barh(range(num_to_plot), list(sorted_feature_importances.values())[:num_to_plot], align='center')\n",
    "plt.yticks(range(num_to_plot), list(sorted_feature_importances.keys())[:num_to_plot])\n",
    "plt.show()\n"
   ]
  },
  {
   "cell_type": "code",
   "execution_count": 162,
   "metadata": {
    "colab": {
     "base_uri": "https://localhost:8080/",
     "height": 492
    },
    "id": "wdwYISZGvEo-",
    "outputId": "2802c724-9af4-4fbb-9c93-dcebf4b1f03a"
   },
   "outputs": [
    {
     "data": {
      "image/png": "[encoded data removed]",
      "text/plain": [
       "<Figure size 1500x500 with 1 Axes>"
      ]
     },
     "metadata": {},
     "output_type": "display_data"
    }
   ],
   "source": [
    " coef = coefs.ravel()\n",
    " top_positive_coefficients = np.argsort(coef)[-20:]\n",
    " top_negative_coefficients = np.argsort(coef)[:20]\n",
    " top_coefficients = np.hstack([top_negative_coefficients, top_positive_coefficients])\n",
    " # create plot\n",
    " plt.figure(figsize=(15, 5))\n",
    " colors = [\"red\" if c < 0 else \"blue\" for c in coef[top_coefficients]]\n",
    " plt.bar(np.arange(2 * 20), coef[top_coefficients], color=colors)\n",
    " feature_names = np.array(features_names)\n",
    " plt.xticks(np.arange(1, 1 + 2 * 20), feature_names[top_coefficients], rotation=60, ha=\"right\")\n",
    " plt.show()"
   ]
  },
  {
   "cell_type": "code",
   "execution_count": 163,
   "metadata": {
    "colab": {
     "base_uri": "https://localhost:8080/",
     "height": 891
    },
    "id": "kGH7ScWNrzy3",
    "outputId": "9b604734-0058-4906-c6c5-211c1eaddefa"
   },
   "outputs": [
    {
     "name": "stdout",
     "output_type": "stream",
     "text": [
      "Feature importance class F\n"
     ]
    },
    {
     "data": {
      "image/png": "[encoded data removed]",
      "text/plain": [
       "<Figure size 1000x800 with 1 Axes>"
      ]
     },
     "metadata": {},
     "output_type": "display_data"
    },
    {
     "ename": "IndexError",
     "evalue": "index 1 is out of bounds for axis 0 with size 1",
     "output_type": "error",
     "traceback": [
      "\u001b[0;31m---------------------------------------------------------------------------\u001b[0m",
      "\u001b[0;31mIndexError\u001b[0m                                Traceback (most recent call last)",
      "\u001b[0;32m<ipython-input-163-cbb0db519e4b>\u001b[0m in \u001b[0;36m<cell line: 6>\u001b[0;34m()\u001b[0m\n\u001b[1;32m      5\u001b[0m \u001b[0;31m# Assuming `svc.classes_` contains the class labels 'F' and 'M'\u001b[0m\u001b[0;34m\u001b[0m\u001b[0;34m\u001b[0m\u001b[0m\n\u001b[1;32m      6\u001b[0m \u001b[0;32mfor\u001b[0m \u001b[0midx\u001b[0m\u001b[0;34m,\u001b[0m \u001b[0mclass_label\u001b[0m \u001b[0;32min\u001b[0m \u001b[0menumerate\u001b[0m\u001b[0;34m(\u001b[0m\u001b[0msvc\u001b[0m\u001b[0;34m.\u001b[0m\u001b[0mclasses_\u001b[0m\u001b[0;34m)\u001b[0m\u001b[0;34m:\u001b[0m\u001b[0;34m\u001b[0m\u001b[0;34m\u001b[0m\u001b[0m\n\u001b[0;32m----> 7\u001b[0;31m     \u001b[0mclass_coefs\u001b[0m \u001b[0;34m=\u001b[0m \u001b[0mcoefs\u001b[0m\u001b[0;34m[\u001b[0m\u001b[0midx\u001b[0m\u001b[0;34m]\u001b[0m\u001b[0;34m\u001b[0m\u001b[0;34m\u001b[0m\u001b[0m\n\u001b[0m\u001b[1;32m      8\u001b[0m \u001b[0;34m\u001b[0m\u001b[0m\n\u001b[1;32m      9\u001b[0m     \u001b[0mfeature_importances\u001b[0m \u001b[0;34m=\u001b[0m \u001b[0;34m{\u001b[0m\u001b[0mfeature_name\u001b[0m\u001b[0;34m:\u001b[0m \u001b[0mcoef\u001b[0m \u001b[0;32mfor\u001b[0m \u001b[0mfeature_name\u001b[0m\u001b[0;34m,\u001b[0m \u001b[0mcoef\u001b[0m \u001b[0;32min\u001b[0m \u001b[0mzip\u001b[0m\u001b[0;34m(\u001b[0m\u001b[0mfeatures_names\u001b[0m\u001b[0;34m,\u001b[0m \u001b[0mclass_coefs\u001b[0m\u001b[0;34m)\u001b[0m\u001b[0;34m}\u001b[0m\u001b[0;34m\u001b[0m\u001b[0;34m\u001b[0m\u001b[0m\n",
      "\u001b[0;31mIndexError\u001b[0m: index 1 is out of bounds for axis 0 with size 1"
     ]
    }
   ],
   "source": [
    "import matplotlib.pyplot as plt\n",
    "\n",
    "# Assuming `coefs` is your coefficients obtained from the SVM model\n",
    "# Assuming `features_names` is a list containing the names of your features\n",
    "# Assuming `svc.classes_` contains the class labels 'F' and 'M'\n",
    "for idx, class_label in enumerate(svc.classes_):\n",
    "    class_coefs = coefs[idx]\n",
    "\n",
    "    feature_importances = {feature_name: coef for feature_name, coef in zip(features_names, class_coefs)}\n",
    "    sorted_feature_importances = dict(sorted(feature_importances.items(), key=lambda item: item[1], reverse=True))\n",
    "\n",
    "    num_to_plot = 20\n",
    "    print(f'Feature importance class {class_label}')\n",
    "    plt.figure(figsize=(10, 8))\n",
    "    plt.barh(range(num_to_plot), list(sorted_feature_importances.values())[:num_to_plot], align='center')\n",
    "    plt.yticks(range(num_to_plot), list(sorted_feature_importances.keys())[:num_to_plot])\n",
    "    plt.title(f'Feature importance class {class_label}')\n",
    "    plt.xlabel('Coefficient Values')\n",
    "    plt.ylabel('Top 20 Important Features')\n",
    "    plt.show()\n"
   ]
  }
 ],
 "metadata": {
  "colab": {
   "provenance": []
  },
  "kernelspec": {
   "display_name": "base",
   "language": "python",
   "name": "python3"
  },
  "language_info": {
   "codemirror_mode": {
    "name": "ipython",
    "version": 3
   },
   "file_extension": ".py",
   "mimetype": "text/x-python",
   "name": "python",
   "nbconvert_exporter": "python",
   "pygments_lexer": "ipython3",
   "version": "3.9.17"
  }
 },
 "nbformat": 4,
 "nbformat_minor": 0
}
