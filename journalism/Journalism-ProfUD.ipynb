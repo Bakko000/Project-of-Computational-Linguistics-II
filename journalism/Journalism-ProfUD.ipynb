{
 "cells": [
  {
   "cell_type": "code",
   "execution_count": 5,
   "metadata": {
    "id": "YDFVaasYJd1N"
   },
   "outputs": [],
   "source": [
    "import re #pacchetto per espressioni regolari\n",
    "import os #pacchetto per muoversi nelle cartelle\n",
    "import sys\n",
    "sys.path.append('..')  # Add parent directory to the Python path\n",
    "from utils.helpers import *\n"
   ]
  },
  {
   "cell_type": "code",
   "execution_count": 6,
   "metadata": {
    "id": "-fz29DcAJjYg"
   },
   "outputs": [],
   "source": [
    "train_path = 'data/training.txt'\n",
    "test_path = 'data/test.txt'\n",
    "\n",
    "out_dir = 'data/profiling_input'"
   ]
  },
  {
   "cell_type": "code",
   "execution_count": 7,
   "metadata": {
    "colab": {
     "base_uri": "https://localhost:8080/",
     "height": 35
    },
    "id": "PzlbaMNkKghP",
    "outputId": "bd47cea7-a5d1-494d-ead4-882054451f60"
   },
   "outputs": [
    {
     "data": {
      "text/plain": [
       "'test'"
      ]
     },
     "execution_count": 7,
     "metadata": {},
     "output_type": "execute_result"
    }
   ],
   "source": [
    "split = get_split(test_path)\n",
    "split"
   ]
  },
  {
   "cell_type": "code",
   "execution_count": null,
   "metadata": {
    "id": "owFqgHYtLjpf"
   },
   "outputs": [],
   "source": [
    "# Necessario eitchettare il blind test\n",
    "\"\"\"\n",
    "# Read gold.txt file and extract gender values\n",
    "with open(\"data/gold.txt\", \"r\") as gold_file:\n",
    "    gold_data = gold_file.readlines()\n",
    "\n",
    "# Extract gender labels\n",
    "gender_list = [line.split()[1].strip() for line in gold_data]\n",
    "\n",
    "# Read test.txt file\n",
    "with open(\"data/test.txt\", \"r\") as test_file:\n",
    "    test_data = test_file.readlines()\n",
    "\n",
    "# Replace \"?\" with gender labels sequentially\n",
    "updated_test_data = []\n",
    "gender_index = 0  # Index to track which gender label to use\n",
    "in_doc = False\n",
    "for line in test_data:\n",
    "    if '<doc id=\"' in line:\n",
    "        in_doc = True\n",
    "        if '?' in line:\n",
    "            label = gender_list[gender_index]\n",
    "            updated_line = line.replace(\"?\", label)\n",
    "            gender_index += 1\n",
    "        else:\n",
    "            updated_line = line\n",
    "    elif \"</doc>\" in line:\n",
    "        in_doc = False\n",
    "        updated_line = line\n",
    "    elif in_doc:\n",
    "        # If inside a <doc>...</doc> block, continue appending the lines\n",
    "        updated_line = line.replace(\"?\", label)\n",
    "    else:\n",
    "        updated_line = line\n",
    "    updated_test_data.append(updated_line)\n",
    "\n",
    "# Write the updated test data to a new file\n",
    "with open(\"data/test.txt\", \"w\") as updated_test_file:\n",
    "    updated_test_file.writelines(updated_test_data)\n",
    "\"\"\""
   ]
  },
  {
   "cell_type": "code",
   "execution_count": null,
   "metadata": {},
   "outputs": [],
   "source": [
    "for file_path in [train_path, test_path]:\n",
    "    split = get_split(file_path)\n",
    "\n",
    "    for line in open(file_path, 'r'):\n",
    "        line = line.strip() # rimuoviamo eventuali spazi e ritorni a capo\n",
    "\n",
    "        if '<doc id=\"' in line:    # troviamo un nuovo documento\n",
    "            doc_id, genre, gender = get_doc_info(line)\n",
    "            out_file_name = f'{split}#{doc_id}#{genre}#{gender}.txt'\n",
    "            out_file_path = os.path.join(out_dir, out_file_name)\n",
    "            user_post = []\n",
    "\n",
    "        elif '</doc>' in line:     # fine dell'utente\n",
    "            with open(out_file_path, 'w') as out_file:\n",
    "                for post in user_post:\n",
    "                    out_file.write(post)\n",
    "                    out_file.write('\\n')\n",
    "\n",
    "        elif line != '':  # siamo in corrispondenza del testo di un post\n",
    "            user_post.append(line)"
   ]
  },
  {
   "cell_type": "markdown",
   "metadata": {
    "id": "IfNuv14DUM1e"
   },
   "source": [
    "## Utilizzo dell'output profiling ud"
   ]
  },
  {
   "cell_type": "code",
   "execution_count": 9,
   "metadata": {
    "id": "YnAzr2RgUQMt"
   },
   "outputs": [],
   "source": [
    "import numpy as np\n",
    "import csv\n",
    "profiling_output_path = 'data/profiling_output/13854.csv'\n"
   ]
  },
  {
   "cell_type": "code",
   "execution_count": 10,
   "metadata": {
    "id": "2AKVddcrUdAE"
   },
   "outputs": [],
   "source": [
    "features_names, documents_info, features = load_dataset(profiling_output_path)\n"
   ]
  },
  {
   "cell_type": "code",
   "execution_count": 11,
   "metadata": {
    "colab": {
     "base_uri": "https://localhost:8080/"
    },
    "id": "DDX9bSY9UvHD",
    "outputId": "8018d45a-da8c-4e5d-d324-6f6279948654"
   },
   "outputs": [
    {
     "name": "stdout",
     "output_type": "stream",
     "text": [
      "Numero features: 140\n",
      "\n",
      "Lista features:\n",
      "['n_sentences', 'n_tokens', 'tokens_per_sent', 'char_per_tok', 'ttr_lemma_chunks_100', 'ttr_lemma_chunks_200', 'ttr_form_chunks_100', 'ttr_form_chunks_200', 'upos_dist_ADJ', 'upos_dist_ADP']\n"
     ]
    }
   ],
   "source": [
    "print(f'Numero features: {len(features_names)}')\n",
    "print('\\nLista features:')\n",
    "print(features_names[:10])"
   ]
  },
  {
   "cell_type": "code",
   "execution_count": 12,
   "metadata": {
    "id": "ecsTCbXpVgxW"
   },
   "outputs": [],
   "source": [
    "labels = create_label_list(documents_info)\n"
   ]
  },
  {
   "cell_type": "code",
   "execution_count": 13,
   "metadata": {
    "colab": {
     "base_uri": "https://localhost:8080/"
    },
    "id": "dV3HZYRmWS3K",
    "outputId": "ca6bc904-5a63-40a7-a31c-ae4252cdcc51"
   },
   "outputs": [
    {
     "data": {
      "text/plain": [
       "['F',\n",
       " 'M',\n",
       " 'M',\n",
       " 'F',\n",
       " 'F',\n",
       " 'M',\n",
       " 'F',\n",
       " 'F',\n",
       " 'F',\n",
       " 'M',\n",
       " 'F',\n",
       " 'M',\n",
       " 'F',\n",
       " 'F',\n",
       " 'M',\n",
       " 'M',\n",
       " 'M',\n",
       " 'F',\n",
       " 'M',\n",
       " 'F',\n",
       " 'F',\n",
       " 'F',\n",
       " 'M',\n",
       " 'M',\n",
       " 'F',\n",
       " 'M',\n",
       " 'M',\n",
       " 'M',\n",
       " 'M',\n",
       " 'F',\n",
       " 'M',\n",
       " 'M',\n",
       " 'F',\n",
       " 'F',\n",
       " 'F',\n",
       " 'M',\n",
       " 'M',\n",
       " 'M',\n",
       " 'M',\n",
       " 'F',\n",
       " 'F',\n",
       " 'F',\n",
       " 'M',\n",
       " 'F',\n",
       " 'M',\n",
       " 'F',\n",
       " 'F',\n",
       " 'M',\n",
       " 'F',\n",
       " 'M',\n",
       " 'M',\n",
       " 'M',\n",
       " 'F',\n",
       " 'M',\n",
       " 'M',\n",
       " 'F',\n",
       " 'F',\n",
       " 'M',\n",
       " 'F',\n",
       " 'F',\n",
       " 'M',\n",
       " 'M',\n",
       " 'M',\n",
       " 'M',\n",
       " 'M',\n",
       " 'F',\n",
       " 'M',\n",
       " 'M',\n",
       " 'M',\n",
       " 'F',\n",
       " 'M',\n",
       " 'M',\n",
       " 'M',\n",
       " 'F',\n",
       " 'M',\n",
       " 'F',\n",
       " 'M',\n",
       " 'M',\n",
       " 'F',\n",
       " 'M',\n",
       " 'M',\n",
       " 'F',\n",
       " 'F',\n",
       " 'M',\n",
       " 'F',\n",
       " 'M',\n",
       " 'M',\n",
       " 'M',\n",
       " 'F',\n",
       " 'M',\n",
       " 'M',\n",
       " 'M',\n",
       " 'M',\n",
       " 'M',\n",
       " 'F',\n",
       " 'M',\n",
       " 'F',\n",
       " 'M',\n",
       " 'M',\n",
       " 'F',\n",
       " 'M',\n",
       " 'F',\n",
       " 'F',\n",
       " 'F',\n",
       " 'F',\n",
       " 'F',\n",
       " 'F',\n",
       " 'M',\n",
       " 'F',\n",
       " 'F',\n",
       " 'F',\n",
       " 'M',\n",
       " 'M',\n",
       " 'F',\n",
       " 'M',\n",
       " 'F',\n",
       " 'F',\n",
       " 'M',\n",
       " 'M',\n",
       " 'M',\n",
       " 'F',\n",
       " 'F',\n",
       " 'F',\n",
       " 'F',\n",
       " 'F',\n",
       " 'F',\n",
       " 'F',\n",
       " 'F',\n",
       " 'M',\n",
       " 'M',\n",
       " 'M',\n",
       " 'F',\n",
       " 'M',\n",
       " 'M',\n",
       " 'M',\n",
       " 'F',\n",
       " 'F',\n",
       " 'M',\n",
       " 'F',\n",
       " 'F',\n",
       " 'M',\n",
       " 'M',\n",
       " 'M',\n",
       " 'F',\n",
       " 'M',\n",
       " 'F',\n",
       " 'M',\n",
       " 'M',\n",
       " 'M',\n",
       " 'F',\n",
       " 'M',\n",
       " 'M',\n",
       " 'F',\n",
       " 'M',\n",
       " 'F',\n",
       " 'F',\n",
       " 'F',\n",
       " 'F',\n",
       " 'F',\n",
       " 'F',\n",
       " 'F',\n",
       " 'M',\n",
       " 'M',\n",
       " 'F',\n",
       " 'F',\n",
       " 'F',\n",
       " 'F',\n",
       " 'M',\n",
       " 'F',\n",
       " 'F',\n",
       " 'M',\n",
       " 'F',\n",
       " 'M',\n",
       " 'M',\n",
       " 'M',\n",
       " 'F',\n",
       " 'M',\n",
       " 'M',\n",
       " 'F',\n",
       " 'F',\n",
       " 'M',\n",
       " 'F',\n",
       " 'F',\n",
       " 'F',\n",
       " 'M',\n",
       " 'F',\n",
       " 'M',\n",
       " 'F',\n",
       " 'M',\n",
       " 'M',\n",
       " 'M',\n",
       " 'M',\n",
       " 'F',\n",
       " 'M',\n",
       " 'F',\n",
       " 'M',\n",
       " 'M',\n",
       " 'F',\n",
       " 'F',\n",
       " 'M',\n",
       " 'F',\n",
       " 'F',\n",
       " 'F',\n",
       " 'M',\n",
       " 'M',\n",
       " 'F',\n",
       " 'F',\n",
       " 'M',\n",
       " 'M',\n",
       " 'F',\n",
       " 'M',\n",
       " 'F',\n",
       " 'F',\n",
       " 'F',\n",
       " 'F',\n",
       " 'F',\n",
       " 'M',\n",
       " 'M',\n",
       " 'M',\n",
       " 'F',\n",
       " 'M',\n",
       " 'F',\n",
       " 'F',\n",
       " 'F',\n",
       " 'M',\n",
       " 'M',\n",
       " 'M',\n",
       " 'F',\n",
       " 'F',\n",
       " 'F',\n",
       " 'M',\n",
       " 'M',\n",
       " 'M',\n",
       " 'F',\n",
       " 'M',\n",
       " 'F',\n",
       " 'M',\n",
       " 'F',\n",
       " 'F',\n",
       " 'M',\n",
       " 'M',\n",
       " 'M',\n",
       " 'M',\n",
       " 'M',\n",
       " 'F',\n",
       " 'F',\n",
       " 'F',\n",
       " 'M',\n",
       " 'F',\n",
       " 'F',\n",
       " 'M',\n",
       " 'M',\n",
       " 'M',\n",
       " 'M',\n",
       " 'M',\n",
       " 'M',\n",
       " 'F',\n",
       " 'F',\n",
       " 'M',\n",
       " 'F',\n",
       " 'F',\n",
       " 'M',\n",
       " 'F',\n",
       " 'F',\n",
       " 'M',\n",
       " 'M',\n",
       " 'M',\n",
       " 'M',\n",
       " 'F',\n",
       " 'F',\n",
       " 'M',\n",
       " 'F',\n",
       " 'F',\n",
       " 'M',\n",
       " 'F',\n",
       " 'M',\n",
       " 'M',\n",
       " 'M',\n",
       " 'M',\n",
       " 'F',\n",
       " 'F',\n",
       " 'F',\n",
       " 'M',\n",
       " 'M',\n",
       " 'M',\n",
       " 'M',\n",
       " 'F',\n",
       " 'F',\n",
       " 'M',\n",
       " 'F',\n",
       " 'F',\n",
       " 'F',\n",
       " 'F',\n",
       " 'F',\n",
       " 'M',\n",
       " 'M',\n",
       " 'F',\n",
       " 'F',\n",
       " 'M',\n",
       " 'M',\n",
       " 'M',\n",
       " 'F',\n",
       " 'M',\n",
       " 'M',\n",
       " 'M',\n",
       " 'F',\n",
       " 'F',\n",
       " 'M',\n",
       " 'F',\n",
       " 'F',\n",
       " 'M',\n",
       " 'M',\n",
       " 'F',\n",
       " 'F',\n",
       " 'F',\n",
       " 'M',\n",
       " 'F',\n",
       " 'M',\n",
       " 'F',\n",
       " 'M',\n",
       " 'M',\n",
       " 'M',\n",
       " 'M',\n",
       " 'F',\n",
       " 'F',\n",
       " 'M',\n",
       " 'F',\n",
       " 'F',\n",
       " 'M',\n",
       " 'M',\n",
       " 'M',\n",
       " 'F',\n",
       " 'F',\n",
       " 'F',\n",
       " 'M',\n",
       " 'F',\n",
       " 'M',\n",
       " 'M',\n",
       " 'M',\n",
       " 'F',\n",
       " 'M',\n",
       " 'F',\n",
       " 'F',\n",
       " 'F',\n",
       " 'F',\n",
       " 'M',\n",
       " 'M',\n",
       " 'F',\n",
       " 'F',\n",
       " 'M',\n",
       " 'M',\n",
       " 'F',\n",
       " 'M',\n",
       " 'M',\n",
       " 'M',\n",
       " 'F',\n",
       " 'F',\n",
       " 'M',\n",
       " 'F',\n",
       " 'F',\n",
       " 'M',\n",
       " 'F',\n",
       " 'F',\n",
       " 'F',\n",
       " 'F',\n",
       " 'M',\n",
       " 'F',\n",
       " 'M',\n",
       " 'F',\n",
       " 'F',\n",
       " 'M',\n",
       " 'M',\n",
       " 'F',\n",
       " 'F',\n",
       " 'F',\n",
       " 'M',\n",
       " 'M',\n",
       " 'F',\n",
       " 'M',\n",
       " 'M',\n",
       " 'F',\n",
       " 'M',\n",
       " 'F',\n",
       " 'F',\n",
       " 'M',\n",
       " 'F',\n",
       " 'M',\n",
       " 'M',\n",
       " 'F',\n",
       " 'F',\n",
       " 'F',\n",
       " 'F',\n",
       " 'M',\n",
       " 'M',\n",
       " 'M',\n",
       " 'M',\n",
       " 'F',\n",
       " 'F',\n",
       " 'F',\n",
       " 'F']"
      ]
     },
     "execution_count": 13,
     "metadata": {},
     "output_type": "execute_result"
    }
   ],
   "source": [
    "labels"
   ]
  },
  {
   "cell_type": "code",
   "execution_count": 14,
   "metadata": {
    "colab": {
     "base_uri": "https://localhost:8080/"
    },
    "id": "5wkuIDYWWidB",
    "outputId": "25609122-47aa-4be4-d307-392801cf111d"
   },
   "outputs": [
    {
     "data": {
      "text/plain": [
       "400"
      ]
     },
     "execution_count": 14,
     "metadata": {},
     "output_type": "execute_result"
    }
   ],
   "source": [
    "len(labels)"
   ]
  },
  {
   "cell_type": "code",
   "execution_count": 15,
   "metadata": {
    "colab": {
     "base_uri": "https://localhost:8080/"
    },
    "id": "bTP0mN9HWs6D",
    "outputId": "fa557af9-bd5b-4ad5-e8ff-69485f4de61b"
   },
   "outputs": [
    {
     "name": "stdout",
     "output_type": "stream",
     "text": [
      "Documenti training set: 200 200\n",
      "Documenti test set: 200 200\n"
     ]
    }
   ],
   "source": [
    "train_features, train_labels, test_features, test_labels = train_test_split(documents_info, features, labels)\n",
    "\n",
    "print('Documenti training set:', len(train_features), len(train_labels))\n",
    "print('Documenti test set:', len(test_features), len(test_labels))"
   ]
  },
  {
   "cell_type": "code",
   "execution_count": 16,
   "metadata": {
    "id": "Yl-CNAXOWy-p"
   },
   "outputs": [],
   "source": [
    "from sklearn.preprocessing import MinMaxScaler"
   ]
  },
  {
   "cell_type": "code",
   "execution_count": 17,
   "metadata": {
    "id": "AeiBYDz7W3P_"
   },
   "outputs": [],
   "source": [
    "scaler = MinMaxScaler()\n",
    "X_train = scaler.fit_transform(train_features)"
   ]
  },
  {
   "cell_type": "code",
   "execution_count": 18,
   "metadata": {
    "id": "klDBv_ZuW6GM"
   },
   "outputs": [],
   "source": [
    "from sklearn.svm import LinearSVC"
   ]
  },
  {
   "cell_type": "code",
   "execution_count": null,
   "metadata": {
    "colab": {
     "base_uri": "https://localhost:8080/"
    },
    "id": "iYt-dWbRm4VK",
    "outputId": "bd92621f-d898-4fad-9563-b0051ce3b277"
   },
   "outputs": [
    {
     "name": "stderr",
     "output_type": "stream",
     "text": [
      "c:\\Users\\corra\\anaconda3\\lib\\site-packages\\sklearn\\svm\\_base.py:1237: ConvergenceWarning: Liblinear failed to converge, increase the number of iterations.\n",
      "  warnings.warn(\n",
      "c:\\Users\\corra\\anaconda3\\lib\\site-packages\\sklearn\\svm\\_base.py:1237: ConvergenceWarning: Liblinear failed to converge, increase the number of iterations.\n",
      "  warnings.warn(\n",
      "c:\\Users\\corra\\anaconda3\\lib\\site-packages\\sklearn\\svm\\_base.py:1237: ConvergenceWarning: Liblinear failed to converge, increase the number of iterations.\n",
      "  warnings.warn(\n",
      "c:\\Users\\corra\\anaconda3\\lib\\site-packages\\sklearn\\svm\\_base.py:1237: ConvergenceWarning: Liblinear failed to converge, increase the number of iterations.\n",
      "  warnings.warn(\n",
      "c:\\Users\\corra\\anaconda3\\lib\\site-packages\\sklearn\\svm\\_base.py:1237: ConvergenceWarning: Liblinear failed to converge, increase the number of iterations.\n",
      "  warnings.warn(\n"
     ]
    },
    {
     "name": "stdout",
     "output_type": "stream",
     "text": [
      "Best parameters found: {'C': 0.1, 'dual': True}\n",
      "Best score found: 0.67\n"
     ]
    }
   ],
   "source": [
    "from sklearn.model_selection import GridSearchCV\n",
    "from sklearn.svm import LinearSVC\n",
    "\n",
    "# Define the parameter grid to search through\n",
    "param_grid = {\n",
    "    'C': [10, 1, 0.1, 0.01, 0.001],  # Regularization parameter\n",
    "    'dual': [True, False]\n",
    "}\n",
    "\n",
    "# Initialize SVM with linear kernel\n",
    "svc = LinearSVC()\n",
    "\n",
    "# Initialize GridSearchCV with 5-fold cross-validation\n",
    "grid_search = GridSearchCV(estimator=svc, param_grid=param_grid, cv=5)\n",
    "\n",
    "# Fit the grid search to your data\n",
    "grid_search.fit(X_train, train_labels)\n",
    "\n",
    "# Get mean test scores across folds\n",
    "mean_test_scores = grid_search.cv_results_['mean_test_score']\n",
    "\n",
    "# Print the best parameters and best score\n",
    "print(\"Best parameters found:\", grid_search.best_params_)\n",
    "print(\"Best score found:\", grid_search.best_score_)"
   ]
  },
  {
   "cell_type": "code",
   "execution_count": 20,
   "metadata": {
    "id": "8YVKY4MIpsQA"
   },
   "outputs": [],
   "source": [
    "X_test = scaler.transform(test_features)"
   ]
  },
  {
   "cell_type": "code",
   "execution_count": 21,
   "metadata": {
    "id": "YOMtEUoNW87O"
   },
   "outputs": [],
   "source": [
    "# Get the best estimator (model) found by grid search\n",
    "best_model = grid_search.best_estimator_\n",
    "\n",
    "# Now, you can use this best_model to make predictions on new data\n",
    "# For example, if you have new data X_new, you can predict its labels as follows:\n",
    "predictions = best_model.predict(X_test)"
   ]
  },
  {
   "cell_type": "code",
   "execution_count": 22,
   "metadata": {
    "colab": {
     "base_uri": "https://localhost:8080/"
    },
    "id": "tOf8b4y7W_3b",
    "outputId": "8b904f89-3ca0-4553-ae18-b80e111cb646"
   },
   "outputs": [
    {
     "name": "stdout",
     "output_type": "stream",
     "text": [
      "              precision    recall  f1-score   support\n",
      "\n",
      "           F       0.57      0.60      0.58       100\n",
      "           M       0.57      0.54      0.56       100\n",
      "\n",
      "    accuracy                           0.57       200\n",
      "   macro avg       0.57      0.57      0.57       200\n",
      "weighted avg       0.57      0.57      0.57       200\n",
      "\n"
     ]
    }
   ],
   "source": [
    "from sklearn.metrics import classification_report, ConfusionMatrixDisplay, confusion_matrix\n",
    "test_predictions = predictions\n",
    "print(classification_report(test_labels, test_predictions, zero_division=0)) # output_dict=True"
   ]
  },
  {
   "cell_type": "code",
   "execution_count": 23,
   "metadata": {
    "colab": {
     "base_uri": "https://localhost:8080/",
     "height": 447
    },
    "id": "SNFpmZ_8jY10",
    "outputId": "53b601b3-4952-47e6-a299-b1c9bd69f6ae"
   },
   "outputs": [
    {
     "data": {
      "image/png": "[encoded data removed]",
      "text/plain": [
       "<Figure size 432x288 with 2 Axes>"
      ]
     },
     "metadata": {
      "needs_background": "light"
     },
     "output_type": "display_data"
    }
   ],
   "source": [
    "ConfusionMatrixDisplay.from_predictions(test_labels, test_predictions, xticks_rotation='vertical', cmap='Blues');"
   ]
  },
  {
   "cell_type": "code",
   "execution_count": 24,
   "metadata": {
    "colab": {
     "base_uri": "https://localhost:8080/"
    },
    "id": "2Xx8IUWcosoM",
    "outputId": "379e6a3a-a0ce-42dd-dace-4404eaf719ef"
   },
   "outputs": [
    {
     "data": {
      "text/plain": [
       "(1, 140)"
      ]
     },
     "execution_count": 24,
     "metadata": {},
     "output_type": "execute_result"
    }
   ],
   "source": [
    "svc= best_model\n",
    "coefs = svc.coef_ # ndarray of shape (1, n_features) if n_classes == 2 else (n_classes, n_features)\n",
    "coefs.shape"
   ]
  },
  {
   "cell_type": "code",
   "execution_count": 25,
   "metadata": {
    "colab": {
     "base_uri": "https://localhost:8080/",
     "height": 447
    },
    "id": "sngte5pYo0z-",
    "outputId": "5dd4db98-8c81-4bcc-9d88-dd99bb89a49a"
   },
   "outputs": [
    {
     "name": "stdout",
     "output_type": "stream",
     "text": [
      "Feature importance\n"
     ]
    },
    {
     "data": {
      "image/png": "[encoded data removed]",
      "text/plain": [
       "<Figure size 720x576 with 1 Axes>"
      ]
     },
     "metadata": {
      "needs_background": "light"
     },
     "output_type": "display_data"
    }
   ],
   "source": [
    "import matplotlib.pyplot as plt\n",
    "\n",
    "# Assuming `coefs` is your coefficients obtained from the SVM model\n",
    "# Assuming `features_names` is a list containing the names of your features\n",
    "idx = 0\n",
    "class_coefs = coefs[idx]\n",
    "\n",
    "feature_importances = {feature_name: coef for feature_name, coef in zip(features_names, class_coefs)}\n",
    "sorted_feature_importances = dict(sorted(feature_importances.items(), key=lambda item: item[1], reverse=True))\n",
    "\n",
    "num_to_plot = 15\n",
    "print(f'Feature importance')\n",
    "plt.figure(figsize=(10, 8))\n",
    "plt.barh(range(num_to_plot), list(sorted_feature_importances.values())[:num_to_plot], align='center')\n",
    "plt.yticks(range(num_to_plot), list(sorted_feature_importances.keys())[:num_to_plot])\n",
    "plt.show()\n"
   ]
  },
  {
   "cell_type": "code",
   "execution_count": 26,
   "metadata": {
    "colab": {
     "base_uri": "https://localhost:8080/",
     "height": 492
    },
    "id": "wdwYISZGvEo-",
    "outputId": "2802c724-9af4-4fbb-9c93-dcebf4b1f03a"
   },
   "outputs": [
    {
     "data": {
      "image/png": "[encoded data removed]",
      "text/plain": [
       "<Figure size 1080x360 with 1 Axes>"
      ]
     },
     "metadata": {
      "needs_background": "light"
     },
     "output_type": "display_data"
    }
   ],
   "source": [
    " coef = coefs.ravel()\n",
    " top_positive_coefficients = np.argsort(coef)[-20:]\n",
    " top_negative_coefficients = np.argsort(coef)[:20]\n",
    " top_coefficients = np.hstack([top_negative_coefficients, top_positive_coefficients])\n",
    " # create plot\n",
    " plt.figure(figsize=(15, 5))\n",
    " colors = [\"red\" if c < 0 else \"blue\" for c in coef[top_coefficients]]\n",
    " plt.bar(np.arange(2 * 20), coef[top_coefficients], color=colors)\n",
    " feature_names = np.array(features_names)\n",
    " plt.xticks(np.arange(1, 1 + 2 * 20), feature_names[top_coefficients], rotation=60, ha=\"right\")\n",
    " plt.show()"
   ]
  }
 ],
 "metadata": {
  "colab": {
   "provenance": []
  },
  "kernelspec": {
   "display_name": "base",
   "language": "python",
   "name": "python3"
  },
  "language_info": {
   "codemirror_mode": {
    "name": "ipython",
    "version": 3
   },
   "file_extension": ".py",
   "mimetype": "text/x-python",
   "name": "python",
   "nbconvert_exporter": "python",
   "pygments_lexer": "ipython3",
   "version": "3.9.17"
  }
 },
 "nbformat": 4,
 "nbformat_minor": 0
}
