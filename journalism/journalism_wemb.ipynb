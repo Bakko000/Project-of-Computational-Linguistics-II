{
 "cells": [
  {
   "cell_type": "code",
   "execution_count": 1,
   "metadata": {},
   "outputs": [],
   "source": [
    "import sqlite3\n",
    "import numpy as np"
   ]
  },
  {
   "cell_type": "code",
   "execution_count": 21,
   "metadata": {},
   "outputs": [],
   "source": [
    "import os\n",
    "\n",
    "dim = 128\n",
    "dir = 'itwac'\n",
    "\n",
    "parent_dir = os.path.abspath(os.path.join(os.getcwd(), os.pardir))\n",
    "\n",
    "sql_path = f'{parent_dir}/{dir}/itwac{dim}.sqlite'\n",
    "txt_path = f'{parent_dir}/{dir}/itwac{dim}.txt'"
   ]
  },
  {
   "cell_type": "code",
   "execution_count": 22,
   "metadata": {},
   "outputs": [],
   "source": [
    "con = sqlite3.connect(sql_path)"
   ]
  },
  {
   "cell_type": "code",
   "execution_count": 148,
   "metadata": {},
   "outputs": [],
   "source": [
    "cur = con.cursor()"
   ]
  },
  {
   "cell_type": "code",
   "execution_count": 149,
   "metadata": {},
   "outputs": [],
   "source": [
    "with open(txt_path, 'w+') as out_file:\n",
    "    for embedding in cur.execute(\"SELECT * FROM store\"):\n",
    "        str_embedding = [str(el) for el in embedding[:-1]]\n",
    "        out_file.write('\\t'.join(str_embedding)+'\\n')\n",
    "\n",
    "out_file.close()"
   ]
  },
  {
   "cell_type": "code",
   "execution_count": 150,
   "metadata": {},
   "outputs": [],
   "source": [
    "embeddings_dim = 128\n",
    "embeddings_path = f'itwac/itwac{embeddings_dim}.txt'"
   ]
  },
  {
   "cell_type": "code",
   "execution_count": 151,
   "metadata": {},
   "outputs": [],
   "source": [
    "def load_word_embeddings(src_path):\n",
    "    embeddings = dict()\n",
    "    for line in open(src_path, 'r'):\n",
    "        line = line.strip().split('\\t')\n",
    "        word = line[0]\n",
    "        embedding = line[1:]\n",
    "        embedding = [float(comp) for comp in embedding] # convertiamo le componenti dell'embedding in float\n",
    "        embeddings[word] = np.asarray(embedding) # trasformiamo la lista delle componenti in un vettore di numpy\n",
    "    return embeddings"
   ]
  },
  {
   "cell_type": "code",
   "execution_count": 152,
   "metadata": {},
   "outputs": [],
   "source": [
    "embeddings = load_word_embeddings(embeddings_path)\n"
   ]
  },
  {
   "cell_type": "code",
   "execution_count": 154,
   "metadata": {},
   "outputs": [
    {
     "data": {
      "text/plain": [
       "array([-0.16270669,  0.19565818,  0.02219515,  0.03182968,  0.06380708,\n",
       "       -0.01253813,  0.03079295, -0.02601201, -0.01590329,  0.13031897,\n",
       "        0.05081404, -0.09052757,  0.09895489, -0.00091873, -0.07020305,\n",
       "       -0.0220238 ,  0.12410183,  0.11773505,  0.14741947, -0.14965008,\n",
       "        0.00541563,  0.18609737, -0.07359025, -0.07256421,  0.04886822,\n",
       "       -0.03960319,  0.02102794, -0.03483714, -0.10940406,  0.07425313,\n",
       "       -0.08097353, -0.02414978,  0.04955766, -0.04534756, -0.02043084,\n",
       "        0.18009825,  0.19754723, -0.03405125, -0.00367098,  0.05356506,\n",
       "       -0.0309161 ,  0.08483381,  0.01752819, -0.01335294,  0.06633461,\n",
       "        0.09349912,  0.01673704, -0.0625938 ,  0.08394236,  0.09841841,\n",
       "        0.02892375,  0.13715596,  0.03394483, -0.18145959,  0.17724273,\n",
       "       -0.05658317,  0.01744641,  0.09634059, -0.03066679,  0.1391481 ,\n",
       "       -0.0314896 ,  0.00351192,  0.14712372,  0.11076981, -0.12062329,\n",
       "        0.04014482,  0.18628895,  0.03587203,  0.07064996,  0.01516967,\n",
       "        0.09654021, -0.03637864, -0.08936849, -0.07399403, -0.08399028,\n",
       "       -0.08222272, -0.14150234,  0.04232899,  0.12098793, -0.06529933,\n",
       "       -0.04121637, -0.04434806, -0.06995156,  0.00431628, -0.15020932,\n",
       "       -0.04349687,  0.05534409, -0.09281139,  0.06027988, -0.08445466,\n",
       "       -0.03463372, -0.03634286,  0.18131386,  0.1399311 , -0.02726946,\n",
       "       -0.10567413, -0.02685007, -0.0373211 ,  0.11347076,  0.01706114,\n",
       "        0.07539681,  0.08606515,  0.00907274, -0.04618081,  0.21249479,\n",
       "       -0.07759202, -0.03907417,  0.15807195, -0.00236244, -0.07180665,\n",
       "       -0.05517622, -0.01936767, -0.00320438, -0.0499431 ,  0.03284442,\n",
       "        0.04229959, -0.05383529,  0.11507437, -0.00689598,  0.03102759,\n",
       "       -0.06952723,  0.00128188, -0.01040994,  0.01093136,  0.07716087,\n",
       "        0.15550351,  0.14793772, -0.06756625])"
      ]
     },
     "execution_count": 154,
     "metadata": {},
     "output_type": "execute_result"
    }
   ],
   "source": [
    "embeddings['veder-']"
   ]
  },
  {
   "cell_type": "code",
   "execution_count": 155,
   "metadata": {},
   "outputs": [
    {
     "name": "stdout",
     "output_type": "stream",
     "text": [
      "Valore minimo = -0.45757773518562317\n",
      "Valore massimo = 0.4659615755081177\n"
     ]
    }
   ],
   "source": [
    "min_value = 99999\n",
    "max_value = -99999\n",
    "for word in embeddings:\n",
    "    for comp in embeddings[word]:\n",
    "        if comp > max_value:\n",
    "            max_value = comp\n",
    "        elif comp < min_value:\n",
    "            min_value = comp\n",
    "\n",
    "print(f'Valore minimo = {min_value}')\n",
    "print(f'Valore massimo = {max_value}')"
   ]
  },
  {
   "cell_type": "code",
   "execution_count": 156,
   "metadata": {},
   "outputs": [],
   "source": [
    "words = ['mela', 'pera', 'banana', 'arancia', 'kiwi', 'mandarino', 'automobile', 'camion', 'pullman', 'moto', 'bici', 'autobus']\n",
    "\n",
    "embs = [embeddings[word] for word in words] \n",
    "embs = np.stack(embs, axis=0) # la funzione stack \"attacca\" una lista di vettori, creando una matrice"
   ]
  },
  {
   "cell_type": "code",
   "execution_count": 157,
   "metadata": {},
   "outputs": [
    {
     "data": {
      "text/plain": [
       "(12, 128)"
      ]
     },
     "execution_count": 157,
     "metadata": {},
     "output_type": "execute_result"
    }
   ],
   "source": [
    "embs.shape\n"
   ]
  },
  {
   "cell_type": "code",
   "execution_count": 158,
   "metadata": {},
   "outputs": [],
   "source": [
    "from sklearn.manifold import TSNE\n",
    "reduced_embs = TSNE(n_components=2, learning_rate='auto', init='random', perplexity=3).fit_transform(embs)"
   ]
  },
  {
   "cell_type": "code",
   "execution_count": 159,
   "metadata": {},
   "outputs": [
    {
     "data": {
      "image/png": "[encoded data removed]",
      "text/plain": [
       "<Figure size 432x288 with 1 Axes>"
      ]
     },
     "metadata": {
      "needs_background": "light"
     },
     "output_type": "display_data"
    }
   ],
   "source": [
    "import matplotlib.pyplot as plt\n",
    "fig, ax = plt.subplots()\n",
    "ax.scatter(reduced_embs[:,0], reduced_embs[:,1])\n",
    "for i, word in enumerate(words):\n",
    "    ax.annotate(word, (reduced_embs[i,0]+0.5, reduced_embs[i, 1]+0.5))"
   ]
  },
  {
   "cell_type": "code",
   "execution_count": 160,
   "metadata": {},
   "outputs": [],
   "source": [
    "conllu_dir = 'profiling_output/11152'"
   ]
  },
  {
   "cell_type": "code",
   "execution_count": 161,
   "metadata": {},
   "outputs": [],
   "source": [
    "import os\n",
    "all_documents_paths = []\n",
    "for file_name in os.listdir(conllu_dir):\n",
    "    file_path = os.path.join(conllu_dir, file_name)\n",
    "    all_documents_paths.append(file_path)\n"
   ]
  },
  {
   "cell_type": "code",
   "execution_count": 162,
   "metadata": {},
   "outputs": [],
   "source": [
    "import re\n",
    "\n",
    "def get_digits(text):\n",
    "    try:\n",
    "      val = int(text)\n",
    "    except:\n",
    "      text = re.sub('\\d', '@Dg', text)\n",
    "      return text\n",
    "    if val >= 0 and val < 2100:\n",
    "      return str(val)\n",
    "    else:\n",
    "      return \"DIGLEN_\" + str(len(str(val)))\n",
    "\n",
    "def normalize_text(word):\n",
    "    if \"http\" in word or (\".\" in word and \"/\" in word):\n",
    "      word = str(\"___URL___\")\n",
    "      return word\n",
    "    if len(word) > 26:\n",
    "      return \"__LONG-LONG__\"\n",
    "    new_word = get_digits(word)\n",
    "    if new_word != word:\n",
    "      word = new_word\n",
    "    if word[0].isupper():\n",
    "      word = word.capitalize()\n",
    "    else:\n",
    "      word = word.lower()\n",
    "    return word"
   ]
  },
  {
   "cell_type": "code",
   "execution_count": 163,
   "metadata": {},
   "outputs": [],
   "source": [
    "def get_tokens_from_file(src_path):\n",
    "    document_tokens = []\n",
    "    lines_to_skip = 0\n",
    "    take_pos = False\n",
    "    for line in open(src_path, 'r'):\n",
    "        # print(f'\\nRiga: {line.strip()}')\n",
    "        if line[0].isdigit():\n",
    "            splitted_line = line.strip().split('\\t')\n",
    "            if '-' in splitted_line[0]:\n",
    "                # print('Ho trovato un - ')\n",
    "                skip_ids = splitted_line[0].split('-')\n",
    "                # print('Indici da saltare', skip_ids)\n",
    "                lines_to_skip = int(skip_ids[1]) - int(skip_ids[0]) + 1 # l'indice ci indica quali righe saltare\n",
    "                take_pos = True # booleano che indica che dobbiamo prendere la pos della prossima parola\n",
    "                word = normalize_text(splitted_line[1])\n",
    "                pos = splitted_line[3]\n",
    "                token = {\n",
    "                    'word': word,\n",
    "                    'pos': '_'\n",
    "                }\n",
    "                # print(f'Preso token {word}')\n",
    "                document_tokens.append(token)\n",
    "            else:\n",
    "                if lines_to_skip == 0:\n",
    "                    \n",
    "                    word = normalize_text(splitted_line[1])\n",
    "                    pos = splitted_line[3]\n",
    "                    token = {\n",
    "                        'word': word,\n",
    "                        'pos': pos\n",
    "                    }\n",
    "                    # print(f'Preso token {word}')\n",
    "                    document_tokens.append(token)\n",
    "                if take_pos:\n",
    "                    pos = splitted_line[3]\n",
    "                    document_tokens[-1]['pos'] = pos\n",
    "                    take_pos = False\n",
    "                lines_to_skip = max(0, lines_to_skip-1)\n",
    "    return document_tokens"
   ]
  },
  {
   "cell_type": "code",
   "execution_count": 164,
   "metadata": {},
   "outputs": [],
   "source": [
    "all_documents = []\n",
    "\n",
    "for document_path in all_documents_paths:\n",
    "    document_tokens = get_tokens_from_file(document_path)\n",
    "    all_documents.append(document_tokens)"
   ]
  },
  {
   "cell_type": "code",
   "execution_count": 165,
   "metadata": {},
   "outputs": [
    {
     "data": {
      "text/plain": [
       "[{'word': '\"', 'pos': 'PUNCT'},\n",
       " {'word': 'Gay', 'pos': 'PROPN'},\n",
       " {'word': 'Pride', 'pos': 'PROPN'},\n",
       " {'word': '?', 'pos': 'PUNCT'},\n",
       " {'word': 'Solo', 'pos': 'ADV'},\n",
       " {'word': 'folklore', 'pos': 'NOUN'},\n",
       " {'word': '\"', 'pos': 'PUNCT'},\n",
       " {'word': '.', 'pos': 'PUNCT'},\n",
       " {'word': 'A', 'pos': 'ADP'},\n",
       " {'word': 'Novara', 'pos': 'PROPN'},\n",
       " {'word': 'il', 'pos': 'DET'},\n",
       " {'word': 'sindaco', 'pos': 'NOUN'},\n",
       " {'word': 'leghista', 'pos': 'ADJ'},\n",
       " {'word': 'nega', 'pos': 'VERB'},\n",
       " {'word': 'il', 'pos': 'DET'},\n",
       " {'word': 'patrocinio', 'pos': 'NOUN'},\n",
       " {'word': 'ed', 'pos': 'CCONJ'},\n",
       " {'word': 'è', 'pos': 'AUX'},\n",
       " {'word': 'polemica', 'pos': 'NOUN'},\n",
       " {'word': '\"', 'pos': 'PUNCT'}]"
      ]
     },
     "execution_count": 165,
     "metadata": {},
     "output_type": "execute_result"
    }
   ],
   "source": [
    "all_documents[0][:20]\n"
   ]
  },
  {
   "cell_type": "code",
   "execution_count": 166,
   "metadata": {},
   "outputs": [],
   "source": [
    "def compute_embeddings_mean(document_embeddings):\n",
    "    sum_array = np.sum(document_embeddings, axis=0)\n",
    "    mean_array = np.divide(sum_array, len(document_embeddings))\n",
    "    return mean_array"
   ]
  },
  {
   "cell_type": "code",
   "execution_count": 167,
   "metadata": {},
   "outputs": [],
   "source": [
    "def compute_filtered_embeddings_mean(document_tokens):\n",
    "    document_embeddings = []\n",
    "    \n",
    "    for token in document_tokens:\n",
    "        word = token['word']\n",
    "        pos = token['pos']\n",
    "        if word in embeddings and pos in ['ADJ', 'NOUN', 'VERB']:\n",
    "            document_embeddings.append(embeddings[word])\n",
    "    \n",
    "    if len(document_embeddings) == 0:\n",
    "        mean_document_embeddings = np.zeros(embeddings_dim)\n",
    "    else:\n",
    "        mean_document_embeddings = compute_embeddings_mean(document_embeddings)\n",
    "    return mean_document_embeddings"
   ]
  },
  {
   "cell_type": "code",
   "execution_count": 168,
   "metadata": {},
   "outputs": [],
   "source": [
    "def compute_filtered_embeddings_sep_means(document_tokens):\n",
    "    adj_embeddings = []\n",
    "    noun_embeddings = []\n",
    "    verb_embeddings = []\n",
    "    \n",
    "    for token in document_tokens:\n",
    "        word = token['word']\n",
    "        pos = token['pos']\n",
    "        if word in embeddings and pos in ['ADJ']:\n",
    "            adj_embeddings.append(embeddings[word])\n",
    "        elif word in embeddings and pos in ['NOUN']:\n",
    "            noun_embeddings.append(embeddings[word])\n",
    "        elif word in embeddings and pos in ['VERB']:\n",
    "            verb_embeddings.append(embeddings[word])\n",
    "    \n",
    "    if len(adj_embeddings) == 0:\n",
    "        mean_adj_embeddings = np.zeros(embeddings_dim)\n",
    "    else:\n",
    "        mean_adj_embeddings = compute_embeddings_mean(adj_embeddings)\n",
    "        \n",
    "    if len(noun_embeddings) == 0:\n",
    "        mean_noun_embeddings = np.zeros(embeddings_dim)\n",
    "    else:\n",
    "        mean_noun_embeddings = compute_embeddings_mean(noun_embeddings)\n",
    "        \n",
    "    if len(verb_embeddings) == 0:\n",
    "        mean_verb_embeddings = np.zeros(embeddings_dim)\n",
    "    else:\n",
    "        mean_verb_embeddings = compute_embeddings_mean(verb_embeddings)  \n",
    "    \n",
    "    \n",
    "    mean_document_embeddings = np.concatenate([mean_adj_embeddings, mean_noun_embeddings, mean_verb_embeddings], axis=None)\n",
    "    return mean_document_embeddings"
   ]
  },
  {
   "cell_type": "code",
   "execution_count": 201,
   "metadata": {},
   "outputs": [],
   "source": [
    "def extract_features(documents):\n",
    "    dataset_features = []\n",
    "    for document_tokens in documents:\n",
    "        # document_embeddings = compute_all_embeddings_mean(document_tokens)\n",
    "        document_embeddings = compute_filtered_embeddings_sep_means(document_tokens)\n",
    "        # document_embeddings = compute_filtered_embeddings_sep_means(document_tokens)\n",
    "        dataset_features.append(document_embeddings)\n",
    "    return dataset_features"
   ]
  },
  {
   "cell_type": "code",
   "execution_count": 202,
   "metadata": {},
   "outputs": [],
   "source": [
    "all_features = extract_features(all_documents)\n"
   ]
  },
  {
   "cell_type": "code",
   "execution_count": 203,
   "metadata": {},
   "outputs": [
    {
     "data": {
      "text/plain": [
       "(400, 384)"
      ]
     },
     "execution_count": 203,
     "metadata": {},
     "output_type": "execute_result"
    }
   ],
   "source": [
    "len(all_features), len(all_features[0])\n"
   ]
  },
  {
   "cell_type": "code",
   "execution_count": 204,
   "metadata": {},
   "outputs": [],
   "source": [
    "def create_label_list(all_documents_paths):\n",
    "    labels = []\n",
    "    for document_path in all_documents_paths:\n",
    "        document_path = document_path[:-len('.conllu')]\n",
    "        splitted_file_path = document_path.split('#')\n",
    "        genre = splitted_file_path[2]\n",
    "        gender = splitted_file_path[3]\n",
    "        labels.append(gender)\n",
    "    return labels"
   ]
  },
  {
   "cell_type": "code",
   "execution_count": 205,
   "metadata": {},
   "outputs": [],
   "source": [
    "all_labels = create_label_list(all_documents_paths)\n"
   ]
  },
  {
   "cell_type": "code",
   "execution_count": 206,
   "metadata": {},
   "outputs": [
    {
     "data": {
      "text/plain": [
       "['F', 'F', 'M', 'M', 'F', 'F', 'F', 'M', 'M', 'M']"
      ]
     },
     "execution_count": 206,
     "metadata": {},
     "output_type": "execute_result"
    }
   ],
   "source": [
    "all_labels[:10]\n"
   ]
  },
  {
   "cell_type": "code",
   "execution_count": 207,
   "metadata": {},
   "outputs": [],
   "source": [
    "def train_test_split(all_features, all_labels, all_documents_paths):\n",
    "    train_features, train_labels = [], []\n",
    "    test_features, test_labels = [], []\n",
    "    \n",
    "    for features, label,  document_path in zip(all_features, all_labels, all_documents_paths):\n",
    "        if 'training' in document_path:\n",
    "            train_features.append(features)\n",
    "            train_labels.append(label)\n",
    "        else:\n",
    "            test_features.append(features)\n",
    "            test_labels.append(label)\n",
    "    return train_features, train_labels, test_features, test_labels\n"
   ]
  },
  {
   "cell_type": "code",
   "execution_count": 208,
   "metadata": {},
   "outputs": [
    {
     "data": {
      "text/plain": [
       "(200, 200, 200, 200)"
      ]
     },
     "execution_count": 208,
     "metadata": {},
     "output_type": "execute_result"
    }
   ],
   "source": [
    "train_features, train_labels, test_features, test_labels = train_test_split(all_features, all_labels, all_documents_paths)\n",
    "len(train_features), len(train_labels), len(test_features), len(test_labels)"
   ]
  },
  {
   "cell_type": "code",
   "execution_count": null,
   "metadata": {},
   "outputs": [],
   "source": []
  },
  {
   "cell_type": "code",
   "execution_count": 209,
   "metadata": {},
   "outputs": [],
   "source": [
    "from sklearn.preprocessing import MinMaxScaler\n",
    "\n",
    "scaler = MinMaxScaler()\n",
    "# X_train = np.stack(train_features, axis=0)\n",
    "X_train = scaler.fit_transform(train_features)"
   ]
  },
  {
   "cell_type": "code",
   "execution_count": 210,
   "metadata": {},
   "outputs": [
    {
     "name": "stdout",
     "output_type": "stream",
     "text": [
      "Best parameters found: {'C': 0.1, 'dual': True}\n",
      "Best score found: 0.6050000000000001\n"
     ]
    }
   ],
   "source": [
    "from sklearn.model_selection import GridSearchCV\n",
    "from sklearn.svm import LinearSVC\n",
    "\n",
    "# Define the parameter grid to search through\n",
    "param_grid = {\n",
    "    'C': [0.1, 0.01, 0.001],  # Regularization parameter\n",
    "    'dual': [True, False]\n",
    "}\n",
    "\n",
    "# Initialize SVM with linear kernel\n",
    "svc = LinearSVC()\n",
    "\n",
    "# Initialize GridSearchCV with 5-fold cross-validation\n",
    "grid_search = GridSearchCV(estimator=svc, param_grid=param_grid, cv=5, refit=True)\n",
    "\n",
    "# Fit the grid search to your data\n",
    "grid_search.fit(X_train, train_labels)\n",
    "\n",
    "# Get mean test scores across folds\n",
    "mean_test_scores = grid_search.cv_results_['mean_test_score']\n",
    "\n",
    "# Print the best parameters and best score\n",
    "print(\"Best parameters found:\", grid_search.best_params_)\n",
    "print(\"Best score found:\", grid_search.best_score_)"
   ]
  },
  {
   "cell_type": "code",
   "execution_count": 211,
   "metadata": {},
   "outputs": [],
   "source": [
    "X_test = scaler.transform(test_features)\n",
    "# Get the best estimator (model) found by grid search\n",
    "best_model = grid_search.best_estimator_\n",
    "\n",
    "# Now, you can use this best_model to make predictions on new data\n",
    "# For example, if you have new data X_new, you can predict its labels as follows:\n",
    "predictions = best_model.predict(X_test)"
   ]
  },
  {
   "cell_type": "code",
   "execution_count": 212,
   "metadata": {},
   "outputs": [
    {
     "name": "stdout",
     "output_type": "stream",
     "text": [
      "              precision    recall  f1-score   support\n",
      "\n",
      "           F       0.54      0.66      0.59       100\n",
      "           M       0.56      0.44      0.49       100\n",
      "\n",
      "    accuracy                           0.55       200\n",
      "   macro avg       0.55      0.55      0.54       200\n",
      "weighted avg       0.55      0.55      0.54       200\n",
      "\n"
     ]
    }
   ],
   "source": [
    "from sklearn.metrics import classification_report, ConfusionMatrixDisplay, confusion_matrix\n",
    "test_predictions = predictions\n",
    "print(classification_report(test_labels, test_predictions, zero_division=0)) # output_dict=True"
   ]
  },
  {
   "cell_type": "markdown",
   "metadata": {},
   "source": [
    "# Kfold"
   ]
  },
  {
   "cell_type": "code",
   "execution_count": 213,
   "metadata": {},
   "outputs": [],
   "source": [
    "from sklearn.metrics import accuracy_score\n",
    "import numpy as np\n",
    "from sklearn.model_selection import KFold\n",
    "y_train = np.asarray(train_labels)"
   ]
  },
  {
   "cell_type": "code",
   "execution_count": 214,
   "metadata": {},
   "outputs": [
    {
     "name": "stdout",
     "output_type": "stream",
     "text": [
      "160 40\n",
      "160 40\n",
      "160 40\n",
      "160 40\n",
      "160 40\n"
     ]
    }
   ],
   "source": [
    "splitter = KFold(n_splits=5, random_state=42, shuffle=True)\n",
    "folds = list(splitter.split(X_train))\n",
    "\n",
    "for i in range(len(folds)):\n",
    "    print(len(folds[i][0]), len(folds[i][1]))"
   ]
  },
  {
   "cell_type": "code",
   "execution_count": 215,
   "metadata": {},
   "outputs": [
    {
     "name": "stdout",
     "output_type": "stream",
     "text": [
      "Accuracy fold 1: 0.65\n"
     ]
    },
    {
     "name": "stdout",
     "output_type": "stream",
     "text": [
      "Accuracy fold 2: 0.625\n",
      "Accuracy fold 3: 0.625\n",
      "Accuracy fold 4: 0.875\n",
      "Accuracy fold 5: 0.775\n"
     ]
    }
   ],
   "source": [
    "all_y_true = []\n",
    "all_y_pred = []\n",
    "\n",
    "# for i, (train_ids, test_ids) in enumerate(splitter.split(X_train)):\n",
    "for i in range(len(folds)):\n",
    "    train_ids = folds[i][0]\n",
    "    test_ids = folds[i][1]\n",
    "\n",
    "\n",
    "    fold_X_train = X_train[train_ids]\n",
    "    fold_y_train = y_train[train_ids]\n",
    "\n",
    "    fold_X_test = X_train[test_ids]\n",
    "    fold_y_test = y_train[test_ids]\n",
    "\n",
    "    kfold_svc = LinearSVC(dual=True, C=0.1)\n",
    "    kfold_svc.fit(fold_X_train, fold_y_train)\n",
    "    fold_y_pred = kfold_svc.predict(fold_X_test)\n",
    "    fold_accuracy = accuracy_score(fold_y_test, fold_y_pred)\n",
    "\n",
    "    all_y_true += fold_y_test.tolist()\n",
    "    all_y_pred += fold_y_pred.tolist()\n",
    "    print(f\"Accuracy fold {i+1}: {fold_accuracy}\")"
   ]
  },
  {
   "cell_type": "code",
   "execution_count": 216,
   "metadata": {},
   "outputs": [
    {
     "name": "stdout",
     "output_type": "stream",
     "text": [
      "              precision    recall  f1-score   support\n",
      "\n",
      "           F       0.72      0.69      0.70       100\n",
      "           M       0.70      0.73      0.72       100\n",
      "\n",
      "    accuracy                           0.71       200\n",
      "   macro avg       0.71      0.71      0.71       200\n",
      "weighted avg       0.71      0.71      0.71       200\n",
      "\n"
     ]
    }
   ],
   "source": [
    "print(classification_report(all_y_true, all_y_pred, zero_division=0))"
   ]
  }
 ],
 "metadata": {
  "kernelspec": {
   "display_name": "base",
   "language": "python",
   "name": "python3"
  },
  "language_info": {
   "codemirror_mode": {
    "name": "ipython",
    "version": 3
   },
   "file_extension": ".py",
   "mimetype": "text/x-python",
   "name": "python",
   "nbconvert_exporter": "python",
   "pygments_lexer": "ipython3",
   "version": "3.9.17"
  }
 },
 "nbformat": 4,
 "nbformat_minor": 2
}
