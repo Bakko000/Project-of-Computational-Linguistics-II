{
 "cells": [
  {
   "cell_type": "code",
   "execution_count": 59,
   "metadata": {},
   "outputs": [],
   "source": [
    "import sqlite3\n",
    "import os\n",
    "import sys\n",
    "sys.path.append('..')  # Add parent directory to the Python path\n",
    "from utils.helpers import *"
   ]
  },
  {
   "cell_type": "code",
   "execution_count": 60,
   "metadata": {},
   "outputs": [],
   "source": [
    "def compute_embeddings_mean(document_embeddings):\n",
    "    sum_array = np.sum(document_embeddings, axis=0)\n",
    "    mean_array = np.divide(sum_array, len(document_embeddings))\n",
    "    return mean_array\n",
    "\n",
    "def compute_all_embeddings_mean(document_tokens, embeddings_dim):\n",
    "    document_embeddings = []\n",
    "    \n",
    "    for token in document_tokens:\n",
    "        word = token['word']\n",
    "        if word in embeddings:\n",
    "            document_embeddings.append(embeddings[word])\n",
    "    \n",
    "    if len(document_embeddings) == 0:\n",
    "        mean_document_embeddings = np.zeros(embeddings_dim)\n",
    "    else:\n",
    "        mean_document_embeddings = compute_embeddings_mean(document_embeddings)\n",
    "    return mean_document_embeddings\n",
    "\n",
    "def compute_filtered_embeddings_mean(document_tokens, embeddings_dim):\n",
    "    document_embeddings = []\n",
    "    \n",
    "    for token in document_tokens:\n",
    "        word = token['word']\n",
    "        pos = token['pos']\n",
    "        if word in embeddings and pos in ['ADJ', 'NOUN', 'VERB']:\n",
    "            document_embeddings.append(embeddings[word])\n",
    "    \n",
    "    if len(document_embeddings) == 0:\n",
    "        mean_document_embeddings = np.zeros(embeddings_dim)\n",
    "    else:\n",
    "        mean_document_embeddings = compute_embeddings_mean(document_embeddings)\n",
    "    return mean_document_embeddings\n",
    "\n",
    "\n",
    "def compute_filtered_embeddings_sep_means(document_tokens, embeddings_dim):\n",
    "    adj_embeddings = []\n",
    "    noun_embeddings = []\n",
    "    verb_embeddings = []\n",
    "    \n",
    "    for token in document_tokens:\n",
    "        word = token['word']\n",
    "        pos = token['pos']\n",
    "        if word in embeddings and pos in ['ADJ']:\n",
    "            adj_embeddings.append(embeddings[word])\n",
    "        elif word in embeddings and pos in ['NOUN']:\n",
    "            noun_embeddings.append(embeddings[word])\n",
    "        elif word in embeddings and pos in ['VERB']:\n",
    "            verb_embeddings.append(embeddings[word])\n",
    "    \n",
    "    if len(adj_embeddings) == 0:\n",
    "        mean_adj_embeddings = np.zeros(embeddings_dim)\n",
    "    else:\n",
    "        mean_adj_embeddings = compute_embeddings_mean(adj_embeddings)\n",
    "        \n",
    "    if len(noun_embeddings) == 0:\n",
    "        mean_noun_embeddings = np.zeros(embeddings_dim)\n",
    "    else:\n",
    "        mean_noun_embeddings = compute_embeddings_mean(noun_embeddings)\n",
    "        \n",
    "    if len(verb_embeddings) == 0:\n",
    "        mean_verb_embeddings = np.zeros(embeddings_dim)\n",
    "    else:\n",
    "        mean_verb_embeddings = compute_embeddings_mean(verb_embeddings)\n",
    "    \n",
    "    \n",
    "    mean_document_embeddings = np.concatenate([mean_adj_embeddings, mean_noun_embeddings, mean_verb_embeddings], axis=None)\n",
    "    return mean_document_embeddings"
   ]
  },
  {
   "cell_type": "code",
   "execution_count": 61,
   "metadata": {},
   "outputs": [],
   "source": [
    "def extract_features(documents, embeddings_dim, pos=False):\n",
    "    dataset_features = []\n",
    "    for document_tokens in documents:\n",
    "        if not pos:\n",
    "            document_embeddings = compute_all_embeddings_mean(document_tokens, embeddings_dim)\n",
    "        else:\n",
    "        #document_embeddings = compute_filtered_embeddings_mean(document_tokens, embeddings_dim)\n",
    "            document_embeddings = compute_filtered_embeddings_sep_means(document_tokens, embeddings_dim)\n",
    "        dataset_features.append(document_embeddings)\n",
    "    return dataset_features"
   ]
  },
  {
   "cell_type": "code",
   "execution_count": 62,
   "metadata": {},
   "outputs": [],
   "source": [
    "def train_test_split(all_features, all_labels, all_documents_paths):\n",
    "    train_features, train_labels = [], []\n",
    "    test_features, test_labels = [], []\n",
    "    \n",
    "    for features, label,  document_path in zip(all_features, all_labels, all_documents_paths):\n",
    "        if 'training' in document_path:\n",
    "            train_features.append(features)\n",
    "            train_labels.append(label)\n",
    "        else:\n",
    "            test_features.append(features)\n",
    "            test_labels.append(label)\n",
    "    return train_features, train_labels, test_features, test_labels\n"
   ]
  },
  {
   "cell_type": "code",
   "execution_count": 63,
   "metadata": {},
   "outputs": [
    {
     "name": "stdout",
     "output_type": "stream",
     "text": [
      "\n",
      "Modello: Embedding Dim=32 di word\n"
     ]
    },
    {
     "name": "stderr",
     "output_type": "stream",
     "text": [
      "c:\\Users\\corra\\anaconda3\\lib\\site-packages\\sklearn\\svm\\_base.py:1237: ConvergenceWarning: Liblinear failed to converge, increase the number of iterations.\n",
      "  warnings.warn(\n",
      "c:\\Users\\corra\\anaconda3\\lib\\site-packages\\sklearn\\svm\\_base.py:1237: ConvergenceWarning: Liblinear failed to converge, increase the number of iterations.\n",
      "  warnings.warn(\n",
      "c:\\Users\\corra\\anaconda3\\lib\\site-packages\\sklearn\\svm\\_base.py:1237: ConvergenceWarning: Liblinear failed to converge, increase the number of iterations.\n",
      "  warnings.warn(\n",
      "c:\\Users\\corra\\anaconda3\\lib\\site-packages\\sklearn\\svm\\_base.py:1237: ConvergenceWarning: Liblinear failed to converge, increase the number of iterations.\n",
      "  warnings.warn(\n",
      "c:\\Users\\corra\\anaconda3\\lib\\site-packages\\sklearn\\svm\\_base.py:1237: ConvergenceWarning: Liblinear failed to converge, increase the number of iterations.\n",
      "  warnings.warn(\n"
     ]
    },
    {
     "name": "stdout",
     "output_type": "stream",
     "text": [
      "Validation accuracy 0.5865756541524461\n",
      "\n",
      "Modello: Embedding Dim=32 di word + pos\n",
      "Modalità di estrazione: all_mean\n"
     ]
    },
    {
     "name": "stderr",
     "output_type": "stream",
     "text": [
      "c:\\Users\\corra\\anaconda3\\lib\\site-packages\\sklearn\\svm\\_base.py:1237: ConvergenceWarning: Liblinear failed to converge, increase the number of iterations.\n",
      "  warnings.warn(\n",
      "c:\\Users\\corra\\anaconda3\\lib\\site-packages\\sklearn\\svm\\_base.py:1237: ConvergenceWarning: Liblinear failed to converge, increase the number of iterations.\n",
      "  warnings.warn(\n",
      "c:\\Users\\corra\\anaconda3\\lib\\site-packages\\sklearn\\svm\\_base.py:1237: ConvergenceWarning: Liblinear failed to converge, increase the number of iterations.\n",
      "  warnings.warn(\n",
      "c:\\Users\\corra\\anaconda3\\lib\\site-packages\\sklearn\\svm\\_base.py:1237: ConvergenceWarning: Liblinear failed to converge, increase the number of iterations.\n",
      "  warnings.warn(\n",
      "c:\\Users\\corra\\anaconda3\\lib\\site-packages\\sklearn\\svm\\_base.py:1237: ConvergenceWarning: Liblinear failed to converge, increase the number of iterations.\n",
      "  warnings.warn(\n"
     ]
    },
    {
     "name": "stdout",
     "output_type": "stream",
     "text": [
      "Validation accuracy 0.5865756541524461\n",
      "Modalità di estrazione: sep_means\n"
     ]
    },
    {
     "name": "stderr",
     "output_type": "stream",
     "text": [
      "c:\\Users\\corra\\anaconda3\\lib\\site-packages\\sklearn\\svm\\_base.py:1237: ConvergenceWarning: Liblinear failed to converge, increase the number of iterations.\n",
      "  warnings.warn(\n",
      "c:\\Users\\corra\\anaconda3\\lib\\site-packages\\sklearn\\svm\\_base.py:1237: ConvergenceWarning: Liblinear failed to converge, increase the number of iterations.\n",
      "  warnings.warn(\n",
      "c:\\Users\\corra\\anaconda3\\lib\\site-packages\\sklearn\\svm\\_base.py:1237: ConvergenceWarning: Liblinear failed to converge, increase the number of iterations.\n",
      "  warnings.warn(\n",
      "c:\\Users\\corra\\anaconda3\\lib\\site-packages\\sklearn\\svm\\_base.py:1237: ConvergenceWarning: Liblinear failed to converge, increase the number of iterations.\n",
      "  warnings.warn(\n",
      "c:\\Users\\corra\\anaconda3\\lib\\site-packages\\sklearn\\svm\\_base.py:1237: ConvergenceWarning: Liblinear failed to converge, increase the number of iterations.\n",
      "  warnings.warn(\n",
      "c:\\Users\\corra\\anaconda3\\lib\\site-packages\\sklearn\\svm\\_base.py:1237: ConvergenceWarning: Liblinear failed to converge, increase the number of iterations.\n",
      "  warnings.warn(\n",
      "c:\\Users\\corra\\anaconda3\\lib\\site-packages\\sklearn\\svm\\_base.py:1237: ConvergenceWarning: Liblinear failed to converge, increase the number of iterations.\n",
      "  warnings.warn(\n",
      "c:\\Users\\corra\\anaconda3\\lib\\site-packages\\sklearn\\svm\\_base.py:1237: ConvergenceWarning: Liblinear failed to converge, increase the number of iterations.\n",
      "  warnings.warn(\n"
     ]
    },
    {
     "name": "stdout",
     "output_type": "stream",
     "text": [
      "Validation accuracy 0.5667804323094426\n",
      "Modalità di estrazione: filtered\n"
     ]
    },
    {
     "name": "stderr",
     "output_type": "stream",
     "text": [
      "c:\\Users\\corra\\anaconda3\\lib\\site-packages\\sklearn\\svm\\_base.py:1237: ConvergenceWarning: Liblinear failed to converge, increase the number of iterations.\n",
      "  warnings.warn(\n",
      "c:\\Users\\corra\\anaconda3\\lib\\site-packages\\sklearn\\svm\\_base.py:1237: ConvergenceWarning: Liblinear failed to converge, increase the number of iterations.\n",
      "  warnings.warn(\n",
      "c:\\Users\\corra\\anaconda3\\lib\\site-packages\\sklearn\\svm\\_base.py:1237: ConvergenceWarning: Liblinear failed to converge, increase the number of iterations.\n",
      "  warnings.warn(\n",
      "c:\\Users\\corra\\anaconda3\\lib\\site-packages\\sklearn\\svm\\_base.py:1237: ConvergenceWarning: Liblinear failed to converge, increase the number of iterations.\n",
      "  warnings.warn(\n",
      "c:\\Users\\corra\\anaconda3\\lib\\site-packages\\sklearn\\svm\\_base.py:1237: ConvergenceWarning: Liblinear failed to converge, increase the number of iterations.\n",
      "  warnings.warn(\n"
     ]
    },
    {
     "name": "stdout",
     "output_type": "stream",
     "text": [
      "Validation accuracy 0.5731513083048919\n",
      "\n",
      "Modello: Embedding Dim=64 di word\n"
     ]
    },
    {
     "name": "stderr",
     "output_type": "stream",
     "text": [
      "c:\\Users\\corra\\anaconda3\\lib\\site-packages\\sklearn\\svm\\_base.py:1237: ConvergenceWarning: Liblinear failed to converge, increase the number of iterations.\n",
      "  warnings.warn(\n",
      "c:\\Users\\corra\\anaconda3\\lib\\site-packages\\sklearn\\svm\\_base.py:1237: ConvergenceWarning: Liblinear failed to converge, increase the number of iterations.\n",
      "  warnings.warn(\n",
      "c:\\Users\\corra\\anaconda3\\lib\\site-packages\\sklearn\\svm\\_base.py:1237: ConvergenceWarning: Liblinear failed to converge, increase the number of iterations.\n",
      "  warnings.warn(\n",
      "c:\\Users\\corra\\anaconda3\\lib\\site-packages\\sklearn\\svm\\_base.py:1237: ConvergenceWarning: Liblinear failed to converge, increase the number of iterations.\n",
      "  warnings.warn(\n",
      "c:\\Users\\corra\\anaconda3\\lib\\site-packages\\sklearn\\svm\\_base.py:1237: ConvergenceWarning: Liblinear failed to converge, increase the number of iterations.\n",
      "  warnings.warn(\n"
     ]
    },
    {
     "name": "stdout",
     "output_type": "stream",
     "text": [
      "Validation accuracy 0.5888509670079636\n",
      "\n",
      "Modello: Embedding Dim=64 di word + pos\n",
      "Modalità di estrazione: all_mean\n"
     ]
    },
    {
     "name": "stderr",
     "output_type": "stream",
     "text": [
      "c:\\Users\\corra\\anaconda3\\lib\\site-packages\\sklearn\\svm\\_base.py:1237: ConvergenceWarning: Liblinear failed to converge, increase the number of iterations.\n",
      "  warnings.warn(\n",
      "c:\\Users\\corra\\anaconda3\\lib\\site-packages\\sklearn\\svm\\_base.py:1237: ConvergenceWarning: Liblinear failed to converge, increase the number of iterations.\n",
      "  warnings.warn(\n",
      "c:\\Users\\corra\\anaconda3\\lib\\site-packages\\sklearn\\svm\\_base.py:1237: ConvergenceWarning: Liblinear failed to converge, increase the number of iterations.\n",
      "  warnings.warn(\n",
      "c:\\Users\\corra\\anaconda3\\lib\\site-packages\\sklearn\\svm\\_base.py:1237: ConvergenceWarning: Liblinear failed to converge, increase the number of iterations.\n",
      "  warnings.warn(\n",
      "c:\\Users\\corra\\anaconda3\\lib\\site-packages\\sklearn\\svm\\_base.py:1237: ConvergenceWarning: Liblinear failed to converge, increase the number of iterations.\n",
      "  warnings.warn(\n"
     ]
    },
    {
     "name": "stdout",
     "output_type": "stream",
     "text": [
      "Validation accuracy 0.5888509670079636\n",
      "Modalità di estrazione: sep_means\n"
     ]
    },
    {
     "name": "stderr",
     "output_type": "stream",
     "text": [
      "c:\\Users\\corra\\anaconda3\\lib\\site-packages\\sklearn\\svm\\_base.py:1237: ConvergenceWarning: Liblinear failed to converge, increase the number of iterations.\n",
      "  warnings.warn(\n",
      "c:\\Users\\corra\\anaconda3\\lib\\site-packages\\sklearn\\svm\\_base.py:1237: ConvergenceWarning: Liblinear failed to converge, increase the number of iterations.\n",
      "  warnings.warn(\n",
      "c:\\Users\\corra\\anaconda3\\lib\\site-packages\\sklearn\\svm\\_base.py:1237: ConvergenceWarning: Liblinear failed to converge, increase the number of iterations.\n",
      "  warnings.warn(\n",
      "c:\\Users\\corra\\anaconda3\\lib\\site-packages\\sklearn\\svm\\_base.py:1237: ConvergenceWarning: Liblinear failed to converge, increase the number of iterations.\n",
      "  warnings.warn(\n",
      "c:\\Users\\corra\\anaconda3\\lib\\site-packages\\sklearn\\svm\\_base.py:1237: ConvergenceWarning: Liblinear failed to converge, increase the number of iterations.\n",
      "  warnings.warn(\n",
      "c:\\Users\\corra\\anaconda3\\lib\\site-packages\\sklearn\\svm\\_base.py:1237: ConvergenceWarning: Liblinear failed to converge, increase the number of iterations.\n",
      "  warnings.warn(\n",
      "c:\\Users\\corra\\anaconda3\\lib\\site-packages\\sklearn\\svm\\_base.py:1237: ConvergenceWarning: Liblinear failed to converge, increase the number of iterations.\n",
      "  warnings.warn(\n",
      "c:\\Users\\corra\\anaconda3\\lib\\site-packages\\sklearn\\svm\\_base.py:1237: ConvergenceWarning: Liblinear failed to converge, increase the number of iterations.\n",
      "  warnings.warn(\n",
      "c:\\Users\\corra\\anaconda3\\lib\\site-packages\\sklearn\\svm\\_base.py:1237: ConvergenceWarning: Liblinear failed to converge, increase the number of iterations.\n",
      "  warnings.warn(\n",
      "c:\\Users\\corra\\anaconda3\\lib\\site-packages\\sklearn\\svm\\_base.py:1237: ConvergenceWarning: Liblinear failed to converge, increase the number of iterations.\n",
      "  warnings.warn(\n",
      "c:\\Users\\corra\\anaconda3\\lib\\site-packages\\sklearn\\svm\\_base.py:1237: ConvergenceWarning: Liblinear failed to converge, increase the number of iterations.\n",
      "  warnings.warn(\n"
     ]
    },
    {
     "name": "stdout",
     "output_type": "stream",
     "text": [
      "Validation accuracy 0.5681456200227532\n",
      "Modalità di estrazione: filtered\n"
     ]
    },
    {
     "name": "stderr",
     "output_type": "stream",
     "text": [
      "c:\\Users\\corra\\anaconda3\\lib\\site-packages\\sklearn\\svm\\_base.py:1237: ConvergenceWarning: Liblinear failed to converge, increase the number of iterations.\n",
      "  warnings.warn(\n",
      "c:\\Users\\corra\\anaconda3\\lib\\site-packages\\sklearn\\svm\\_base.py:1237: ConvergenceWarning: Liblinear failed to converge, increase the number of iterations.\n",
      "  warnings.warn(\n",
      "c:\\Users\\corra\\anaconda3\\lib\\site-packages\\sklearn\\svm\\_base.py:1237: ConvergenceWarning: Liblinear failed to converge, increase the number of iterations.\n",
      "  warnings.warn(\n",
      "c:\\Users\\corra\\anaconda3\\lib\\site-packages\\sklearn\\svm\\_base.py:1237: ConvergenceWarning: Liblinear failed to converge, increase the number of iterations.\n",
      "  warnings.warn(\n",
      "c:\\Users\\corra\\anaconda3\\lib\\site-packages\\sklearn\\svm\\_base.py:1237: ConvergenceWarning: Liblinear failed to converge, increase the number of iterations.\n",
      "  warnings.warn(\n"
     ]
    },
    {
     "name": "stdout",
     "output_type": "stream",
     "text": [
      "Validation accuracy 0.5717861205915813\n",
      "\n",
      "Modello: Embedding Dim=128 di word\n"
     ]
    },
    {
     "name": "stderr",
     "output_type": "stream",
     "text": [
      "c:\\Users\\corra\\anaconda3\\lib\\site-packages\\sklearn\\svm\\_base.py:1237: ConvergenceWarning: Liblinear failed to converge, increase the number of iterations.\n",
      "  warnings.warn(\n",
      "c:\\Users\\corra\\anaconda3\\lib\\site-packages\\sklearn\\svm\\_base.py:1237: ConvergenceWarning: Liblinear failed to converge, increase the number of iterations.\n",
      "  warnings.warn(\n",
      "c:\\Users\\corra\\anaconda3\\lib\\site-packages\\sklearn\\svm\\_base.py:1237: ConvergenceWarning: Liblinear failed to converge, increase the number of iterations.\n",
      "  warnings.warn(\n",
      "c:\\Users\\corra\\anaconda3\\lib\\site-packages\\sklearn\\svm\\_base.py:1237: ConvergenceWarning: Liblinear failed to converge, increase the number of iterations.\n",
      "  warnings.warn(\n",
      "c:\\Users\\corra\\anaconda3\\lib\\site-packages\\sklearn\\svm\\_base.py:1237: ConvergenceWarning: Liblinear failed to converge, increase the number of iterations.\n",
      "  warnings.warn(\n",
      "c:\\Users\\corra\\anaconda3\\lib\\site-packages\\sklearn\\svm\\_base.py:1237: ConvergenceWarning: Liblinear failed to converge, increase the number of iterations.\n",
      "  warnings.warn(\n",
      "c:\\Users\\corra\\anaconda3\\lib\\site-packages\\sklearn\\svm\\_base.py:1237: ConvergenceWarning: Liblinear failed to converge, increase the number of iterations.\n",
      "  warnings.warn(\n"
     ]
    },
    {
     "name": "stdout",
     "output_type": "stream",
     "text": [
      "Validation accuracy 0.5961319681456201\n",
      "\n",
      "Modello: Embedding Dim=128 di word + pos\n",
      "Modalità di estrazione: all_mean\n"
     ]
    },
    {
     "name": "stderr",
     "output_type": "stream",
     "text": [
      "c:\\Users\\corra\\anaconda3\\lib\\site-packages\\sklearn\\svm\\_base.py:1237: ConvergenceWarning: Liblinear failed to converge, increase the number of iterations.\n",
      "  warnings.warn(\n",
      "c:\\Users\\corra\\anaconda3\\lib\\site-packages\\sklearn\\svm\\_base.py:1237: ConvergenceWarning: Liblinear failed to converge, increase the number of iterations.\n",
      "  warnings.warn(\n",
      "c:\\Users\\corra\\anaconda3\\lib\\site-packages\\sklearn\\svm\\_base.py:1237: ConvergenceWarning: Liblinear failed to converge, increase the number of iterations.\n",
      "  warnings.warn(\n",
      "c:\\Users\\corra\\anaconda3\\lib\\site-packages\\sklearn\\svm\\_base.py:1237: ConvergenceWarning: Liblinear failed to converge, increase the number of iterations.\n",
      "  warnings.warn(\n",
      "c:\\Users\\corra\\anaconda3\\lib\\site-packages\\sklearn\\svm\\_base.py:1237: ConvergenceWarning: Liblinear failed to converge, increase the number of iterations.\n",
      "  warnings.warn(\n",
      "c:\\Users\\corra\\anaconda3\\lib\\site-packages\\sklearn\\svm\\_base.py:1237: ConvergenceWarning: Liblinear failed to converge, increase the number of iterations.\n",
      "  warnings.warn(\n"
     ]
    },
    {
     "name": "stdout",
     "output_type": "stream",
     "text": [
      "Validation accuracy 0.5961319681456201\n",
      "Modalità di estrazione: sep_means\n"
     ]
    },
    {
     "name": "stderr",
     "output_type": "stream",
     "text": [
      "c:\\Users\\corra\\anaconda3\\lib\\site-packages\\sklearn\\svm\\_base.py:1237: ConvergenceWarning: Liblinear failed to converge, increase the number of iterations.\n",
      "  warnings.warn(\n",
      "c:\\Users\\corra\\anaconda3\\lib\\site-packages\\sklearn\\svm\\_base.py:1237: ConvergenceWarning: Liblinear failed to converge, increase the number of iterations.\n",
      "  warnings.warn(\n",
      "c:\\Users\\corra\\anaconda3\\lib\\site-packages\\sklearn\\svm\\_base.py:1237: ConvergenceWarning: Liblinear failed to converge, increase the number of iterations.\n",
      "  warnings.warn(\n",
      "c:\\Users\\corra\\anaconda3\\lib\\site-packages\\sklearn\\svm\\_base.py:1237: ConvergenceWarning: Liblinear failed to converge, increase the number of iterations.\n",
      "  warnings.warn(\n",
      "c:\\Users\\corra\\anaconda3\\lib\\site-packages\\sklearn\\svm\\_base.py:1237: ConvergenceWarning: Liblinear failed to converge, increase the number of iterations.\n",
      "  warnings.warn(\n",
      "c:\\Users\\corra\\anaconda3\\lib\\site-packages\\sklearn\\svm\\_base.py:1237: ConvergenceWarning: Liblinear failed to converge, increase the number of iterations.\n",
      "  warnings.warn(\n",
      "c:\\Users\\corra\\anaconda3\\lib\\site-packages\\sklearn\\svm\\_base.py:1237: ConvergenceWarning: Liblinear failed to converge, increase the number of iterations.\n",
      "  warnings.warn(\n",
      "c:\\Users\\corra\\anaconda3\\lib\\site-packages\\sklearn\\svm\\_base.py:1237: ConvergenceWarning: Liblinear failed to converge, increase the number of iterations.\n",
      "  warnings.warn(\n",
      "c:\\Users\\corra\\anaconda3\\lib\\site-packages\\sklearn\\svm\\_base.py:1237: ConvergenceWarning: Liblinear failed to converge, increase the number of iterations.\n",
      "  warnings.warn(\n",
      "c:\\Users\\corra\\anaconda3\\lib\\site-packages\\sklearn\\svm\\_base.py:1237: ConvergenceWarning: Liblinear failed to converge, increase the number of iterations.\n",
      "  warnings.warn(\n"
     ]
    },
    {
     "name": "stdout",
     "output_type": "stream",
     "text": [
      "Validation accuracy 0.571103526734926\n",
      "Modalità di estrazione: filtered\n"
     ]
    },
    {
     "name": "stderr",
     "output_type": "stream",
     "text": [
      "c:\\Users\\corra\\anaconda3\\lib\\site-packages\\sklearn\\svm\\_base.py:1237: ConvergenceWarning: Liblinear failed to converge, increase the number of iterations.\n",
      "  warnings.warn(\n",
      "c:\\Users\\corra\\anaconda3\\lib\\site-packages\\sklearn\\svm\\_base.py:1237: ConvergenceWarning: Liblinear failed to converge, increase the number of iterations.\n",
      "  warnings.warn(\n",
      "c:\\Users\\corra\\anaconda3\\lib\\site-packages\\sklearn\\svm\\_base.py:1237: ConvergenceWarning: Liblinear failed to converge, increase the number of iterations.\n",
      "  warnings.warn(\n",
      "c:\\Users\\corra\\anaconda3\\lib\\site-packages\\sklearn\\svm\\_base.py:1237: ConvergenceWarning: Liblinear failed to converge, increase the number of iterations.\n",
      "  warnings.warn(\n",
      "c:\\Users\\corra\\anaconda3\\lib\\site-packages\\sklearn\\svm\\_base.py:1237: ConvergenceWarning: Liblinear failed to converge, increase the number of iterations.\n",
      "  warnings.warn(\n",
      "c:\\Users\\corra\\anaconda3\\lib\\site-packages\\sklearn\\svm\\_base.py:1237: ConvergenceWarning: Liblinear failed to converge, increase the number of iterations.\n",
      "  warnings.warn(\n"
     ]
    },
    {
     "name": "stdout",
     "output_type": "stream",
     "text": [
      "Validation accuracy 0.563367463026166\n"
     ]
    },
    {
     "name": "stderr",
     "output_type": "stream",
     "text": [
      "c:\\Users\\corra\\anaconda3\\lib\\site-packages\\sklearn\\svm\\_base.py:1237: ConvergenceWarning: Liblinear failed to converge, increase the number of iterations.\n",
      "  warnings.warn(\n"
     ]
    }
   ],
   "source": [
    "import os\n",
    "import numpy as np\n",
    "from sklearn.preprocessing import MinMaxScaler\n",
    "from sklearn.svm import LinearSVC\n",
    "from sklearn.model_selection import GridSearchCV\n",
    "from sklearn.metrics import classification_report, ConfusionMatrixDisplay\n",
    "\n",
    "# Configurazioni da esplorare\n",
    "embedding_dim = [32, 64, 128]  # Dimensioni degli embedding\n",
    "representations = [False, True]  # False = solo \"word\", True = \"word + pos\"\n",
    "\n",
    "# Directory e path\n",
    "parent_dir = os.path.abspath(os.path.join(os.getcwd(), os.pardir))\n",
    "dir_name = 'itwac'\n",
    "conllu_dir = 'data/profiling_output/11462'\n",
    "results = []\n",
    "\n",
    "# Parametri della GridSearch\n",
    "param_grid = {\n",
    "    'C': [10, 1, 0.1, 0.01, 0.001],\n",
    "    'dual': [True, False]\n",
    "}\n",
    "\n",
    "# Aggiungi le modalità di estrazione\n",
    "feature_modes = [\"all_mean\", \"sep_means\", \"filtered\"]\n",
    "\n",
    "for dim in embedding_dim:\n",
    "    embeddings_path = f'{dir_name}/itwac{dim}.txt'\n",
    "    all_documents_paths = []\n",
    "    for file_name in os.listdir(conllu_dir):\n",
    "        file_path = os.path.join(conllu_dir, file_name)\n",
    "        all_documents_paths.append(file_path)\n",
    "    embeddings = load_word_embeddings(parent_dir+\"/\"+embeddings_path)\n",
    "    \n",
    "    for postg in representations:\n",
    "        representation_type = \"word + pos\" if postg else \"word\"\n",
    "        print()\n",
    "        print(f\"Modello: Embedding Dim={dim} di {representation_type}\")\n",
    "        \n",
    "        all_documents = []\n",
    "        for document_path in all_documents_paths:\n",
    "            document_tokens = get_tokens_from_file(document_path, postg=postg)\n",
    "            all_documents.append(document_tokens)\n",
    "\n",
    "        # Itera sulle modalità di estrazione se è \"word+pos\"\n",
    "        if postg:\n",
    "            for mode in feature_modes:\n",
    "                print(f\"Modalità di estrazione: {mode}\")\n",
    "                \n",
    "                if mode == \"all_mean\":\n",
    "                    all_features = [compute_all_embeddings_mean(doc, dim) for doc in all_documents]\n",
    "                elif mode == \"sep_means\":\n",
    "                    all_features = [compute_filtered_embeddings_sep_means(doc, dim) for doc in all_documents]\n",
    "                elif mode == \"filtered\":\n",
    "                    all_features = [compute_filtered_embeddings_mean(doc, dim) for doc in all_documents]\n",
    "                \n",
    "                all_labels = create_label_list(all_documents_paths)\n",
    "                train_features, train_labels, test_features, test_labels = train_test_split(\n",
    "                    all_features, all_labels, all_documents_paths)\n",
    "                # Feature extraction e scaling\n",
    "                scaler = MinMaxScaler()\n",
    "                X_train = scaler.fit_transform(train_features)\n",
    "\n",
    "                # GridSearch con SVM lineare\n",
    "                svc = LinearSVC()\n",
    "                grid_search = GridSearchCV(estimator=svc, param_grid=param_grid, cv=5, refit=True)\n",
    "                grid_search.fit(X_train, train_labels)\n",
    "\n",
    "                # Calcola metriche su train e test\n",
    "                X_test = scaler.transform(test_features)\n",
    "                predictions = grid_search.best_estimator_.predict(X_test)\n",
    "                val_acc = grid_search.best_score_  # Media delle validation accuracy nei fold\n",
    "                test_acc = np.mean(predictions == test_labels)  # Test accuracy\n",
    "\n",
    "                # Salva il risultato\n",
    "                results.append({\n",
    "                    \"embedding_dim\": dim,\n",
    "                    \"representation\": representation_type,\n",
    "                    \"mode\": mode,\n",
    "                    \"val_acc\": val_acc,\n",
    "                    \"test_predictions\": predictions,\n",
    "                    \"test_acc\": test_acc,\n",
    "                    \"test_labels\": test_labels,\n",
    "                    \"best_params\": grid_search.best_params_\n",
    "                })\n",
    "\n",
    "                print(\"Validation accuracy\", val_acc)\n",
    "        else:\n",
    "            # Solo una modalità per \"word\"\n",
    "            all_features = [compute_all_embeddings_mean(doc, dim) for doc in all_documents]\n",
    "            all_labels = create_label_list(all_documents_paths)\n",
    "            train_features, train_labels, test_features, test_labels = train_test_split(\n",
    "                all_features, all_labels, all_documents_paths)\n",
    "            scaler = MinMaxScaler()\n",
    "            X_train = scaler.fit_transform(train_features)\n",
    "\n",
    "            # GridSearch con SVM lineare\n",
    "            svc = LinearSVC()\n",
    "            grid_search = GridSearchCV(estimator=svc, param_grid=param_grid, cv=5, refit=True)\n",
    "            grid_search.fit(X_train, train_labels)\n",
    "\n",
    "            # Calcola metriche su train e test\n",
    "            X_test = scaler.transform(test_features)\n",
    "            predictions = grid_search.best_estimator_.predict(X_test)\n",
    "            val_acc = grid_search.best_score_  # Media delle validation accuracy nei fold\n",
    "            test_acc = np.mean(predictions == test_labels)  # Test accuracy\n",
    "\n",
    "            # Salva il risultato\n",
    "            results.append({\n",
    "                \"embedding_dim\": dim,\n",
    "                \"representation\": representation_type,\n",
    "                \"mode\": \"all_mean\",  # Default per \"word\"\n",
    "                \"val_acc\": val_acc,\n",
    "                \"test_predictions\": predictions,\n",
    "                \"test_acc\": test_acc,\n",
    "                \"test_labels\": test_labels,\n",
    "                \"best_params\": grid_search.best_params_\n",
    "            })\n",
    "\n",
    "            print(\"Validation accuracy\", val_acc)\n",
    "\n",
    "\n",
    "# Trova i modelli migliori per validation accuracy\n",
    "best_val_model = max(results, key=lambda x: x[\"val_acc\"])\n",
    "\n",
    "# Confusion matrix e classification report per il miglior modello di validazione\n",
    "best_dim = best_val_model[\"embedding_dim\"]\n",
    "best_mode = best_val_model[\"mode\"]"
   ]
  },
  {
   "cell_type": "code",
   "execution_count": 64,
   "metadata": {},
   "outputs": [
    {
     "name": "stdout",
     "output_type": "stream",
     "text": [
      "\n",
      " Best model basato sulla Validation Accuracy:\n",
      "\n",
      " Best params: {'C': 0.1, 'dual': True}\n",
      "Dimensione Embedding: 128, utilizzando: word\n",
      "Modalità di combinazione embs: all_mean\n",
      "Validation Accuracy: 0.5961319681456201\n",
      "Test Accuracy: 0.5372727272727272\n",
      "\n",
      "Classification Report:\n",
      "              precision    recall  f1-score   support\n",
      "\n",
      "           F       0.53      0.76      0.62      2200\n",
      "           M       0.57      0.31      0.40      2200\n",
      "\n",
      "    accuracy                           0.54      4400\n",
      "   macro avg       0.55      0.54      0.51      4400\n",
      "weighted avg       0.55      0.54      0.51      4400\n",
      "\n",
      "Confusion Matrix:\n"
     ]
    },
    {
     "data": {
      "image/png": "[encoded data removed]",
      "text/plain": [
       "<Figure size 432x288 with 2 Axes>"
      ]
     },
     "metadata": {
      "needs_background": "light"
     },
     "output_type": "display_data"
    }
   ],
   "source": [
    "import matplotlib.pyplot as plt\n",
    "\n",
    "# Trova il modello migliore per validation accuracy\n",
    "best_val_model = max(results, key=lambda x: x[\"val_acc\"])\n",
    "\n",
    "# Estrai i dettagli del modello migliore\n",
    "best_dim = best_val_model[\"embedding_dim\"]\n",
    "best_rep = best_val_model[\"representation\"]\n",
    "best_test_predictions = best_val_model[\"test_predictions\"]\n",
    "best_test_labels = best_val_model[\"test_labels\"]\n",
    "\n",
    "print(\"\\n Best model basato sulla Validation Accuracy:\")\n",
    "print(f\"\\n Best params: {best_val_model['best_params']}\")\n",
    "print(f\"Dimensione Embedding: {best_dim}, utilizzando: {best_rep}\")\n",
    "print(f\"Modalità di combinazione embs: {best_mode}\")\n",
    "print(\"Validation Accuracy:\", best_val_model[\"val_acc\"])\n",
    "print(\"Test Accuracy:\", best_val_model[\"test_acc\"])\n",
    "\n",
    "# Confusion Matrix e Classification Report per il modello migliore\n",
    "print(\"\\nClassification Report:\")\n",
    "print(classification_report(best_test_labels, best_test_predictions, zero_division=0))\n",
    "\n",
    "print(\"Confusion Matrix:\")\n",
    "ConfusionMatrixDisplay.from_predictions(\n",
    "    best_test_labels,\n",
    "    best_test_predictions,\n",
    "    xticks_rotation=\"vertical\",\n",
    "    cmap=\"Blues\"\n",
    ")\n",
    "plt.show()"
   ]
  },
  {
   "cell_type": "code",
   "execution_count": 65,
   "metadata": {},
   "outputs": [
    {
     "data": {
      "image/png": "[encoded data removed]",
      "text/plain": [
       "<Figure size 864x576 with 1 Axes>"
      ]
     },
     "metadata": {
      "needs_background": "light"
     },
     "output_type": "display_data"
    }
   ],
   "source": [
    "# Trova i risultati per ogni rappresentazione\n",
    "val_accuracies = {\"word\": [], \"word + pos\": []}\n",
    "test_accuracies = {\"word\": [], \"word + pos\": []}\n",
    "embs_sizes = sorted(list(set(result[\"embedding_dim\"] for result in results)))\n",
    "\n",
    "# Calcola la media delle accuratezze per ciascuna dimensione di embedding\n",
    "for rep in [\"word\", \"word + pos\"]:\n",
    "    val_acc_per_dim = {dim: [] for dim in embs_sizes}\n",
    "    test_acc_per_dim = {dim: [] for dim in embs_sizes}\n",
    "    \n",
    "    for result in results:\n",
    "        if result[\"representation\"] == rep:\n",
    "            dim = result[\"embedding_dim\"]\n",
    "            val_acc_per_dim[dim].append(result[\"val_acc\"])\n",
    "            test_acc_per_dim[dim].append(result[\"test_acc\"])\n",
    "    \n",
    "    # Calcola la media\n",
    "    val_accuracies[rep] = [np.mean(val_acc_per_dim[dim]) for dim in embs_sizes]\n",
    "    test_accuracies[rep] = [np.mean(test_acc_per_dim[dim]) for dim in embs_sizes]\n",
    "\n",
    "# Colori per ogni rappresentazione\n",
    "colors = {\"word\": \"blue\", \"word + pos\": \"green\"}\n",
    "\n",
    "# Grafico delle accuracy per il best model\n",
    "plt.figure(figsize=(12, 8))\n",
    "\n",
    "for rep in [\"word\", \"word + pos\"]:\n",
    "    plt.plot(\n",
    "        embs_sizes,\n",
    "        val_accuracies[rep],\n",
    "        label=f\"Validation Accuracy ({rep})\",\n",
    "        color=colors[rep],\n",
    "        linestyle=\"--\",\n",
    "        marker=\"o\"\n",
    "    )\n",
    "\n",
    "plt.title(\"Validation Accuracy rispetto differenti rappresentazioni\")\n",
    "plt.xlabel(\"Dimensione Embeddings\")\n",
    "plt.ylabel(\"Accuracy\")\n",
    "plt.xticks(embs_sizes)\n",
    "plt.legend()\n",
    "plt.grid(True)\n",
    "plt.show()\n"
   ]
  },
  {
   "cell_type": "code",
   "execution_count": 66,
   "metadata": {},
   "outputs": [
    {
     "data": {
      "image/png": "[encoded data removed]",
      "text/plain": [
       "<Figure size 864x576 with 1 Axes>"
      ]
     },
     "metadata": {
      "needs_background": "light"
     },
     "output_type": "display_data"
    }
   ],
   "source": [
    "# Trova i risultati per ogni rappresentazione\n",
    "val_accuracies = {\"all_mean\": [], \"filtered\": [], \"sep_means\": []}\n",
    "test_accuracies = {\"all_mean\": [], \"filtered\": [], \"sep_means\": []}\n",
    "embs_sizes = sorted(list(set(result[\"embedding_dim\"] for result in results)))\n",
    "\n",
    "# Calcola la media delle accuratezze per ciascuna dimensione di embedding\n",
    "for mode in [\"all_mean\", \"filtered\", \"sep_means\"]:\n",
    "    val_acc_per_dim = {dim: [] for dim in embs_sizes}\n",
    "    test_acc_per_dim = {dim: [] for dim in embs_sizes}\n",
    "    \n",
    "    for result in results:\n",
    "        if result[\"mode\"] == mode:\n",
    "            dim = result[\"embedding_dim\"]\n",
    "            val_acc_per_dim[dim].append(result[\"val_acc\"])\n",
    "            test_acc_per_dim[dim].append(result[\"test_acc\"])\n",
    "    \n",
    "    # Calcola la media\n",
    "    val_accuracies[mode] = [np.mean(val_acc_per_dim[dim]) for dim in embs_sizes]\n",
    "    test_accuracies[mode] = [np.mean(test_acc_per_dim[dim]) for dim in embs_sizes]\n",
    "\n",
    "# Colori per ogni rappresentazione\n",
    "colors = {\"all_mean\": \"blue\", \"filtered\": \"red\", \"sep_means\": \"green\"}\n",
    "\n",
    "# Grafico delle accuracy per il best model\n",
    "plt.figure(figsize=(12, 8))\n",
    "\n",
    "for mode in [\"all_mean\", \"filtered\", \"sep_means\"]:\n",
    "    plt.plot(\n",
    "        embs_sizes,\n",
    "        val_accuracies[mode],\n",
    "        label=f\"Validation Accuracy (combinando con {mode})\",\n",
    "        color=colors[mode],\n",
    "        linestyle=\"--\",\n",
    "        marker=\"o\"\n",
    "    )\n",
    "\n",
    "plt.title(\"Validation Accuracy rispetto strategie di combinazione\")\n",
    "plt.xlabel(\"Dimensione Embeddings\")\n",
    "plt.ylabel(\"Accuracy\")\n",
    "plt.xticks(embs_sizes)\n",
    "plt.legend()\n",
    "plt.grid(True)\n",
    "plt.show()\n"
   ]
  },
  {
   "cell_type": "code",
   "execution_count": null,
   "metadata": {},
   "outputs": [],
   "source": []
  }
 ],
 "metadata": {
  "kernelspec": {
   "display_name": "base",
   "language": "python",
   "name": "python3"
  },
  "language_info": {
   "codemirror_mode": {
    "name": "ipython",
    "version": 3
   },
   "file_extension": ".py",
   "mimetype": "text/x-python",
   "name": "python",
   "nbconvert_exporter": "python",
   "pygments_lexer": "ipython3",
   "version": "3.9.17"
  }
 },
 "nbformat": 4,
 "nbformat_minor": 2
}
