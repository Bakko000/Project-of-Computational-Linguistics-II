{
 "cells": [
  {
   "cell_type": "code",
   "execution_count": 8,
   "metadata": {},
   "outputs": [],
   "source": [
    "import re #pacchetto per espressioni regolari\n",
    "import os #pacchetto per muoversi nelle cartelle\n",
    "from sklearn.preprocessing import MaxAbsScaler\n",
    "from sklearn.feature_extraction import DictVectorizer\n",
    "from sklearn.metrics import classification_report, ConfusionMatrixDisplay\n",
    "from sklearn.model_selection import GridSearchCV\n",
    "from sklearn.svm import LinearSVC\n",
    "import numpy as np\n",
    "import matplotlib.pyplot as plt\n",
    "import sys\n",
    "sys.path.append('..')  # Add parent directory to the Python path\n",
    "from utils.helpers import *\n"
   ]
  },
  {
   "cell_type": "code",
   "execution_count": 9,
   "metadata": {},
   "outputs": [],
   "source": [
    "# Carica file conllu\n",
    "conllu_dir = 'data/profiling_output/11226/'"
   ]
  },
  {
   "cell_type": "code",
   "execution_count": 10,
   "metadata": {},
   "outputs": [],
   "source": [
    "# Ottieni tutti i documenti\n",
    "all_documents = []\n",
    "for file_name in os.listdir(conllu_dir):\n",
    "    file_path = os.path.join(conllu_dir, file_name)\n",
    "    document = Document(file_path)\n",
    "    load_document_sentences(document)\n",
    "    all_documents.append(document)"
   ]
  },
  {
   "cell_type": "code",
   "execution_count": 11,
   "metadata": {},
   "outputs": [],
   "source": [
    "# Funzione specifica per gli ngrammi tutti gli esperimenti\n",
    "\n",
    "def train_test_split(all_documents):\n",
    "    train_features_dict, train_labels = [], []\n",
    "    test_features_dict, test_labels = [], []\n",
    "    \n",
    "    for document in all_documents:\n",
    "        if document.split == 'training':\n",
    "            train_features_dict.append(document.features)\n",
    "            train_labels.append(document.gender)\n",
    "        else:\n",
    "            test_features_dict.append(document.features)\n",
    "            test_labels.append(document.gender)\n",
    "    \n",
    "    return train_features_dict, train_labels, test_features_dict, test_labels"
   ]
  },
  {
   "cell_type": "markdown",
   "metadata": {},
   "source": [
    "# Ngrams model selection"
   ]
  },
  {
   "cell_type": "code",
   "execution_count": 12,
   "metadata": {},
   "outputs": [
    {
     "name": "stdout",
     "output_type": "stream",
     "text": [
      "\n",
      "Modello: uni-grammi di word\n",
      "Numero features dopo il filtro: 1063\n",
      "Validation accuracy: 0.508843537414966\n",
      "\n",
      "Modello: uni-grammi di lemma\n",
      "Numero features dopo il filtro: 912\n",
      "Validation accuracy: 0.5317889317889317\n",
      "\n",
      "Modello: uni-grammi di pos\n",
      "Numero features dopo il filtro: 16\n",
      "Validation accuracy: 0.5803456517742231\n",
      "\n",
      "Modello: uni-grammi di char\n",
      "Numero features dopo il filtro: 102\n"
     ]
    },
    {
     "name": "stderr",
     "output_type": "stream",
     "text": [
      "c:\\Users\\corra\\anaconda3\\lib\\site-packages\\sklearn\\svm\\_base.py:1237: ConvergenceWarning: Liblinear failed to converge, increase the number of iterations.\n",
      "  warnings.warn(\n",
      "c:\\Users\\corra\\anaconda3\\lib\\site-packages\\sklearn\\svm\\_base.py:1237: ConvergenceWarning: Liblinear failed to converge, increase the number of iterations.\n",
      "  warnings.warn(\n",
      "c:\\Users\\corra\\anaconda3\\lib\\site-packages\\sklearn\\svm\\_base.py:1237: ConvergenceWarning: Liblinear failed to converge, increase the number of iterations.\n",
      "  warnings.warn(\n",
      "c:\\Users\\corra\\anaconda3\\lib\\site-packages\\sklearn\\svm\\_base.py:1237: ConvergenceWarning: Liblinear failed to converge, increase the number of iterations.\n",
      "  warnings.warn(\n",
      "c:\\Users\\corra\\anaconda3\\lib\\site-packages\\sklearn\\svm\\_base.py:1237: ConvergenceWarning: Liblinear failed to converge, increase the number of iterations.\n",
      "  warnings.warn(\n"
     ]
    },
    {
     "name": "stdout",
     "output_type": "stream",
     "text": [
      "Validation accuracy: 0.5763467549181834\n",
      "\n",
      "Modello: bi-grammi di word\n",
      "Numero features dopo il filtro: 929\n",
      "Validation accuracy: 0.5358429858429858\n",
      "\n",
      "Modello: bi-grammi di lemma\n",
      "Numero features dopo il filtro: 1095\n",
      "Validation accuracy: 0.5439694796837654\n",
      "\n",
      "Modello: bi-grammi di pos\n",
      "Numero features dopo il filtro: 186\n"
     ]
    },
    {
     "name": "stderr",
     "output_type": "stream",
     "text": [
      "c:\\Users\\corra\\anaconda3\\lib\\site-packages\\sklearn\\svm\\_base.py:1237: ConvergenceWarning: Liblinear failed to converge, increase the number of iterations.\n",
      "  warnings.warn(\n"
     ]
    },
    {
     "name": "stdout",
     "output_type": "stream",
     "text": [
      "Validation accuracy: 0.5682938040080897\n",
      "\n",
      "Modello: bi-grammi di char\n",
      "Numero features dopo il filtro: 1972\n"
     ]
    },
    {
     "name": "stderr",
     "output_type": "stream",
     "text": [
      "c:\\Users\\corra\\anaconda3\\lib\\site-packages\\sklearn\\svm\\_base.py:1237: ConvergenceWarning: Liblinear failed to converge, increase the number of iterations.\n",
      "  warnings.warn(\n",
      "c:\\Users\\corra\\anaconda3\\lib\\site-packages\\sklearn\\svm\\_base.py:1237: ConvergenceWarning: Liblinear failed to converge, increase the number of iterations.\n",
      "  warnings.warn(\n",
      "c:\\Users\\corra\\anaconda3\\lib\\site-packages\\sklearn\\svm\\_base.py:1237: ConvergenceWarning: Liblinear failed to converge, increase the number of iterations.\n",
      "  warnings.warn(\n",
      "c:\\Users\\corra\\anaconda3\\lib\\site-packages\\sklearn\\svm\\_base.py:1237: ConvergenceWarning: Liblinear failed to converge, increase the number of iterations.\n",
      "  warnings.warn(\n",
      "c:\\Users\\corra\\anaconda3\\lib\\site-packages\\sklearn\\svm\\_base.py:1237: ConvergenceWarning: Liblinear failed to converge, increase the number of iterations.\n",
      "  warnings.warn(\n"
     ]
    },
    {
     "name": "stdout",
     "output_type": "stream",
     "text": [
      "Validation accuracy: 0.545311638168781\n",
      "\n",
      "Modello: tri-grammi di word\n",
      "Numero features dopo il filtro: 248\n",
      "Validation accuracy: 0.5520775877918734\n",
      "\n",
      "Modello: tri-grammi di lemma\n",
      "Numero features dopo il filtro: 381\n",
      "Validation accuracy: 0.5507262364405221\n",
      "\n",
      "Modello: tri-grammi di pos\n",
      "Numero features dopo il filtro: 998\n",
      "Validation accuracy: 0.5682662254090827\n",
      "\n",
      "Modello: tri-grammi di char\n",
      "Numero features dopo il filtro: 4889\n"
     ]
    },
    {
     "name": "stderr",
     "output_type": "stream",
     "text": [
      "c:\\Users\\corra\\anaconda3\\lib\\site-packages\\sklearn\\svm\\_base.py:1237: ConvergenceWarning: Liblinear failed to converge, increase the number of iterations.\n",
      "  warnings.warn(\n",
      "c:\\Users\\corra\\anaconda3\\lib\\site-packages\\sklearn\\svm\\_base.py:1237: ConvergenceWarning: Liblinear failed to converge, increase the number of iterations.\n",
      "  warnings.warn(\n",
      "c:\\Users\\corra\\anaconda3\\lib\\site-packages\\sklearn\\svm\\_base.py:1237: ConvergenceWarning: Liblinear failed to converge, increase the number of iterations.\n",
      "  warnings.warn(\n"
     ]
    },
    {
     "name": "stdout",
     "output_type": "stream",
     "text": [
      "Validation accuracy: 0.5371391799963228\n",
      "\n",
      "Modello: quadri-grammi di word\n",
      "Numero features dopo il filtro: 110\n",
      "Validation accuracy: 0.5155727155727157\n",
      "\n",
      "Modello: quadri-grammi di lemma\n",
      "Numero features dopo il filtro: 127\n",
      "Validation accuracy: 0.5155727155727156\n",
      "\n",
      "Modello: quadri-grammi di pos\n",
      "Numero features dopo il filtro: 1728\n",
      "Validation accuracy: 0.560204081632653\n",
      "\n",
      "Modello: quadri-grammi di char\n",
      "Numero features dopo il filtro: 8874\n",
      "Validation accuracy: 0.5304191947049091\n"
     ]
    }
   ],
   "source": [
    "# Configurazioni da esplorare\n",
    "representations = [\"word\", \"lemma\", \"pos\", \"char\"]\n",
    "ngrams = {1: \"uni\", 2: \"bi\", 3: \"tri\", 4: \"quadri\"}\n",
    "results = []  # Lista per salvare i risultati\n",
    "\n",
    "# Parametri della GridSearch\n",
    "param_grid = {\n",
    "    'C': [10, 1, 0.1, 0.01, 0.001],\n",
    "    'dual': [True, False]\n",
    "}\n",
    "\n",
    "for n in ngrams.keys():\n",
    "    for rep in representations:\n",
    "        print()\n",
    "        print(f\"Modello: {ngrams[n]}-grammi di {rep}\")\n",
    "        \n",
    "        # Estrai i documenti con la rappresentazione desiderata\n",
    "        extract_documents_ngrams_normalized(all_documents, type=rep, n=n)  # n è passato direttamente come intero\n",
    "        \n",
    "        # Split train-test\n",
    "        train_features_dict, train_labels, test_features_dict, test_labels = train_test_split(all_documents)\n",
    "        \n",
    "        # Feature extraction e scaling\n",
    "        vectorizer = DictVectorizer()\n",
    "        X_train = vectorizer.fit_transform(train_features_dict)\n",
    "        scaler = MaxAbsScaler()\n",
    "        X_train = scaler.fit_transform(X_train)\n",
    "         \n",
    "        train_features_dict = filter_features(train_features_dict, 2)\n",
    "        print(f'Numero features dopo il filtro: {get_num_features(train_features_dict)}')\n",
    "\n",
    "        # GridSearch con SVM lineare\n",
    "        svc = LinearSVC()\n",
    "        grid_search = GridSearchCV(estimator=svc, param_grid=param_grid, cv=5, refit=True)\n",
    "        grid_search.fit(X_train, train_labels)\n",
    "        \n",
    "        # Calcola metriche su train e test\n",
    "        X_test = vectorizer.transform(test_features_dict)\n",
    "        X_test = scaler.transform(X_test)\n",
    "        predictions = grid_search.best_estimator_.predict(X_test)\n",
    "        val_acc = grid_search.best_score_  # Media delle validation accuracy nei fold\n",
    "        test_acc = np.mean(predictions == test_labels)  # Test accuracy\n",
    "        \n",
    "        # Salva il risultato\n",
    "        results.append({\n",
    "            \"ngram\": n,  # Usa direttamente il numero di n-grammi\n",
    "            \"representation\": rep,\n",
    "            \"val_acc\": val_acc,\n",
    "            \"test_acc\": test_acc,\n",
    "            \"best_params\": grid_search.best_params_,\n",
    "            \"best_model\": grid_search.best_estimator_,\n",
    "            \"test_labels\": test_labels,\n",
    "            \"test_predictions\": predictions\n",
    "        })\n",
    "        \n",
    "        print(\"Validation accuracy:\", val_acc)\n",
    "\n",
    "        # Calcolo del miglior estimator sul cv\n",
    "        best_model = grid_search.best_estimator_\n",
    "        \n"
   ]
  },
  {
   "cell_type": "markdown",
   "metadata": {},
   "source": [
    "# Model Evaluation"
   ]
  },
  {
   "cell_type": "code",
   "execution_count": 13,
   "metadata": {},
   "outputs": [
    {
     "name": "stdout",
     "output_type": "stream",
     "text": [
      "\n",
      " Best model basato sulla Validation Accuracy:\n",
      "\n",
      " Best params: {'C': 0.01, 'dual': True}\n",
      "N-grammi: 1, utilizzando: pos\n",
      "Validation Accuracy: 0.5803456517742231\n",
      "Test Accuracy: 0.5571428571428572\n",
      "\n",
      "Classification Report:\n",
      "              precision    recall  f1-score   support\n",
      "\n",
      "           F       0.56      0.66      0.60       396\n",
      "           M       0.55      0.45      0.50       374\n",
      "\n",
      "    accuracy                           0.56       770\n",
      "   macro avg       0.56      0.55      0.55       770\n",
      "weighted avg       0.56      0.56      0.55       770\n",
      "\n",
      "Confusion Matrix:\n"
     ]
    },
    {
     "data": {
      "image/png": "[encoded data removed]",
      "text/plain": [
       "<Figure size 432x288 with 2 Axes>"
      ]
     },
     "metadata": {
      "needs_background": "light"
     },
     "output_type": "display_data"
    }
   ],
   "source": [
    "# Trova il modello migliore per validation accuracy\n",
    "best_val_model = max(results, key=lambda x: x[\"val_acc\"])\n",
    "\n",
    "# Estrai i dettagli del modello migliore\n",
    "best_ngram = best_val_model[\"ngram\"]\n",
    "best_representation = best_val_model[\"representation\"]\n",
    "best_test_predictions = best_val_model[\"test_predictions\"]\n",
    "best_test_labels = best_val_model[\"test_labels\"]\n",
    "\n",
    "print(\"\\n Best model basato sulla Validation Accuracy:\")\n",
    "print(f\"\\n Best params: {best_val_model['best_params']}\")\n",
    "print(f\"N-grammi: {best_ngram}, utilizzando: {best_representation}\")\n",
    "print(\"Validation Accuracy:\", best_val_model[\"val_acc\"])\n",
    "print(\"Test Accuracy:\", best_val_model[\"test_acc\"])\n",
    "\n",
    "# Confusion Matrix e Classification Report per il modello migliore\n",
    "print(\"\\nClassification Report:\")\n",
    "print(classification_report(best_test_labels, best_test_predictions, zero_division=0))\n",
    "\n",
    "print(\"Confusion Matrix:\")\n",
    "ConfusionMatrixDisplay.from_predictions(\n",
    "    best_test_labels,\n",
    "    best_test_predictions,\n",
    "    xticks_rotation=\"vertical\",\n",
    "    cmap=\"Blues\"\n",
    ")\n",
    "plt.show()\n"
   ]
  },
  {
   "cell_type": "markdown",
   "metadata": {},
   "source": [
    "# Plot"
   ]
  },
  {
   "cell_type": "code",
   "execution_count": 14,
   "metadata": {},
   "outputs": [
    {
     "data": {
      "image/png": "[encoded data removed]",
      "text/plain": [
       "<Figure size 864x576 with 1 Axes>"
      ]
     },
     "metadata": {
      "needs_background": "light"
     },
     "output_type": "display_data"
    }
   ],
   "source": [
    "# Trova i risultati per ogni rappresentazione\n",
    "val_accuracies = {\"word\": [], \"lemma\": [], \"pos\": [], \"char\": []}\n",
    "test_accuracies = {\"word\": [], \"lemma\": [], \"pos\": [], \"char\": []}\n",
    "ngram_sizes = []\n",
    "\n",
    "for result in results:\n",
    "    rep = result[\"representation\"]\n",
    "    ngram_sizes.append(result[\"ngram\"])\n",
    "    val_accuracies[rep].append(result[\"val_acc\"])\n",
    "    test_accuracies[rep].append(result[\"test_acc\"])\n",
    "\n",
    "# Elimina duplicati per i n-gram sizes\n",
    "ngram_sizes = sorted(list(set(ngram_sizes)))\n",
    "\n",
    "# Colori per ogni rappresentazione\n",
    "colors = {\"word\": \"blue\", \"lemma\": \"green\", \"pos\": \"red\", \"char\": \"orange\"}\n",
    "\n",
    "# Grafico delle accuracy per il best model\n",
    "plt.figure(figsize=(12, 8))\n",
    "\n",
    "for rep in [\"word\", \"lemma\", \"pos\", \"char\"]:\n",
    "    plt.plot(\n",
    "        ngram_sizes,\n",
    "        val_accuracies[rep],\n",
    "        label=f\"Validation Accuracy ({rep})\",\n",
    "        color=colors[rep],\n",
    "        linestyle=\"--\",\n",
    "        marker=\"o\"\n",
    "    )\n",
    "   \n",
    "\n",
    "plt.title(\"Validation Accuracy rispetto le differenti rappresentazioni\")\n",
    "plt.xlabel(\"Dimensione n-grammi\")\n",
    "plt.ylabel(\"Accuracy\")\n",
    "plt.xticks(ngram_sizes)\n",
    "plt.legend()\n",
    "plt.grid(True)\n",
    "plt.show()\n"
   ]
  }
 ],
 "metadata": {
  "kernelspec": {
   "display_name": "base",
   "language": "python",
   "name": "python3"
  },
  "language_info": {
   "codemirror_mode": {
    "name": "ipython",
    "version": 3
   },
   "file_extension": ".py",
   "mimetype": "text/x-python",
   "name": "python",
   "nbconvert_exporter": "python",
   "pygments_lexer": "ipython3",
   "version": "3.9.17"
  }
 },
 "nbformat": 4,
 "nbformat_minor": 2
}
