{
 "cells": [
  {
   "cell_type": "code",
   "execution_count": 1,
   "metadata": {},
   "outputs": [],
   "source": [
    "import re #pacchetto per espressioni regolari\n",
    "import os #pacchetto per muoversi nelle cartelle\n",
    "import sys\n",
    "sys.path.append('..')  # Add parent directory to the Python path\n",
    "from utils.helpers import *\n"
   ]
  },
  {
   "cell_type": "code",
   "execution_count": 2,
   "metadata": {},
   "outputs": [],
   "source": [
    "train_path = 'data/training.txt'\n",
    "test_path = 'data/test.txt'\n",
    "\n",
    "out_dir = 'data/profiling_input'"
   ]
  },
  {
   "cell_type": "code",
   "execution_count": 3,
   "metadata": {},
   "outputs": [
    {
     "data": {
      "text/plain": [
       "'training'"
      ]
     },
     "execution_count": 3,
     "metadata": {},
     "output_type": "execute_result"
    }
   ],
   "source": [
    "split = get_split(train_path)\n",
    "split"
   ]
  },
  {
   "cell_type": "code",
   "execution_count": 5,
   "metadata": {},
   "outputs": [],
   "source": [
    "\n",
    "# Necessario eitchettare il blind test\n",
    "\n",
    "# Read gold.txt file and extract gender values\n",
    "with open(\"data/gold.txt\", \"r\") as gold_file:\n",
    "    gold_data = gold_file.readlines()\n",
    "\n",
    "# Extract gender labels\n",
    "gender_list = [line.split()[1].strip() for line in gold_data]\n",
    "\n",
    "# Read test.txt file\n",
    "with open(\"data/GxG_Twitter (1).txt\", \"r\") as test_file:\n",
    "    test_data = test_file.readlines()\n",
    "\n",
    "# Replace \"?\" with gender labels sequentially\n",
    "updated_test_data = []\n",
    "gender_index = 0  # Index to track which gender label to use\n",
    "in_doc = False\n",
    "for line in test_data:\n",
    "    if '<doc id=\"' in line:\n",
    "        in_doc = True\n",
    "        if '?' in line:\n",
    "            label = gender_list[gender_index]\n",
    "            updated_line = line.replace(\"?\", label)\n",
    "            gender_index += 1\n",
    "        else:\n",
    "            updated_line = line\n",
    "    elif \"</doc>\" in line:\n",
    "        in_doc = False\n",
    "        updated_line = line\n",
    "    elif in_doc:\n",
    "        # If inside a <doc>...</doc> block, continue appending the lines\n",
    "        updated_line = line.replace(\"?\", label)\n",
    "    else:\n",
    "        updated_line = line\n",
    "    updated_test_data.append(updated_line)\n",
    "\n",
    "# Write the updated test data to a new file\n",
    "with open(\"data/test.txt\", \"w\") as updated_test_file:\n",
    "    updated_test_file.writelines(updated_test_data)\n"
   ]
  },
  {
   "cell_type": "code",
   "execution_count": null,
   "metadata": {},
   "outputs": [],
   "source": [
    "import os\n",
    "\n",
    "for file_path in [train_path, test_path]:\n",
    "    split = get_split(file_path)\n",
    "\n",
    "    for line in open(file_path, 'r'):\n",
    "        line = line.strip() # remove any leading/trailing whitespace\n",
    "        \n",
    "        if '<doc id=\"' in line:    # find a new document\n",
    "            doc_id, genre, gender = get_doc_info(line)\n",
    "            out_file_name = f'{split}#{doc_id}#{genre}#{gender}.txt'\n",
    "            # Replace \"?\" with \"Question Punct. Mark\" in the output file name. \"?\" gives os error\n",
    "            out_file_name = out_file_name.replace(\"?\", \"QPM\")\n",
    "            out_file_path = os.path.join(out_dir, out_file_name)\n",
    "            user_post = []\n",
    "\n",
    "        elif '</doc>' in line:     # end of user\n",
    "            with open(out_file_path, 'w') as out_file:\n",
    "                for post in user_post:\n",
    "                    out_file.write(post)\n",
    "                    out_file.write('\\n')\n",
    "\n",
    "        elif line != '':  # text of a post\n",
    "            user_post.append(line)\n"
   ]
  },
  {
   "cell_type": "code",
   "execution_count": null,
   "metadata": {},
   "outputs": [],
   "source": []
  }
 ],
 "metadata": {
  "kernelspec": {
   "display_name": "base",
   "language": "python",
   "name": "python3"
  },
  "language_info": {
   "codemirror_mode": {
    "name": "ipython",
    "version": 3
   },
   "file_extension": ".py",
   "mimetype": "text/x-python",
   "name": "python",
   "nbconvert_exporter": "python",
   "pygments_lexer": "ipython3",
   "version": "3.9.17"
  }
 },
 "nbformat": 4,
 "nbformat_minor": 2
}
