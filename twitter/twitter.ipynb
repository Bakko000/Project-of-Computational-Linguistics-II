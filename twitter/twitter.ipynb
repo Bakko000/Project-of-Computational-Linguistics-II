{
 "cells": [
  {
   "cell_type": "code",
   "execution_count": 24,
   "metadata": {},
   "outputs": [],
   "source": [
    "import re #pacchetto per espressioni regolari\n",
    "import os #pacchetto per muoversi nelle cartelle\n",
    "import sys\n",
    "sys.path.append('..')  # Add parent directory to the Python path\n",
    "from utils.helpers import  *\n"
   ]
  },
  {
   "cell_type": "code",
   "execution_count": 25,
   "metadata": {},
   "outputs": [],
   "source": [
    "train_path = 'data/training.txt'\n",
    "test_path = 'data/test.txt'\n",
    "\n",
    "out_dir = 'data/profiling_input'"
   ]
  },
  {
   "cell_type": "code",
   "execution_count": 26,
   "metadata": {},
   "outputs": [
    {
     "data": {
      "text/plain": [
       "'test'"
      ]
     },
     "execution_count": 26,
     "metadata": {},
     "output_type": "execute_result"
    }
   ],
   "source": [
    "split = get_split(test_path)\n",
    "split"
   ]
  },
  {
   "cell_type": "code",
   "execution_count": 27,
   "metadata": {},
   "outputs": [
    {
     "ename": "NameError",
     "evalue": "name 'get_doc_info' is not defined",
     "output_type": "error",
     "traceback": [
      "\u001b[1;31m---------------------------------------------------------------------------\u001b[0m",
      "\u001b[1;31mNameError\u001b[0m                                 Traceback (most recent call last)",
      "Input \u001b[1;32mIn [27]\u001b[0m, in \u001b[0;36m<cell line: 1>\u001b[1;34m()\u001b[0m\n\u001b[0;32m      5\u001b[0m line \u001b[38;5;241m=\u001b[39m line\u001b[38;5;241m.\u001b[39mstrip() \u001b[38;5;66;03m# rimuoviamo eventuali spazi e ritorni a capo\u001b[39;00m\n\u001b[0;32m      7\u001b[0m \u001b[38;5;28;01mif\u001b[39;00m \u001b[38;5;124m'\u001b[39m\u001b[38;5;124m<doc id=\u001b[39m\u001b[38;5;124m\"\u001b[39m\u001b[38;5;124m'\u001b[39m \u001b[38;5;129;01min\u001b[39;00m line:    \u001b[38;5;66;03m# troviamo un nuovo documento\u001b[39;00m\n\u001b[1;32m----> 8\u001b[0m     doc_id, genre, gender \u001b[38;5;241m=\u001b[39m \u001b[43mget_doc_info\u001b[49m(line)\n\u001b[0;32m      9\u001b[0m     out_file_name \u001b[38;5;241m=\u001b[39m \u001b[38;5;124mf\u001b[39m\u001b[38;5;124m'\u001b[39m\u001b[38;5;132;01m{\u001b[39;00msplit\u001b[38;5;132;01m}\u001b[39;00m\u001b[38;5;124m#\u001b[39m\u001b[38;5;132;01m{\u001b[39;00mdoc_id\u001b[38;5;132;01m}\u001b[39;00m\u001b[38;5;124m#\u001b[39m\u001b[38;5;132;01m{\u001b[39;00mgenre\u001b[38;5;132;01m}\u001b[39;00m\u001b[38;5;124m#\u001b[39m\u001b[38;5;132;01m{\u001b[39;00mgender\u001b[38;5;132;01m}\u001b[39;00m\u001b[38;5;124m.txt\u001b[39m\u001b[38;5;124m'\u001b[39m\n\u001b[0;32m     10\u001b[0m     out_file_path \u001b[38;5;241m=\u001b[39m os\u001b[38;5;241m.\u001b[39mpath\u001b[38;5;241m.\u001b[39mjoin(out_dir, out_file_name)\n",
      "\u001b[1;31mNameError\u001b[0m: name 'get_doc_info' is not defined"
     ]
    }
   ],
   "source": [
    "for file_path in [train_path, test_path]:\n",
    "    split = get_split(file_path)\n",
    "\n",
    "    for line in open(file_path, 'r'):\n",
    "        line = line.strip() # rimuoviamo eventuali spazi e ritorni a capo\n",
    "\n",
    "        if '<doc id=\"' in line:    # troviamo un nuovo documento\n",
    "            doc_id, genre, gender = get_doc_info(line)\n",
    "            out_file_name = f'{split}#{doc_id}#{genre}#{gender}.txt'\n",
    "            out_file_path = os.path.join(out_dir, out_file_name)\n",
    "            user_post = []\n",
    "\n",
    "        elif '</doc>' in line:     # fine dell'utente\n",
    "            with open(out_file_path, 'w') as out_file:\n",
    "                for post in user_post:\n",
    "                    out_file.write(post)\n",
    "                    out_file.write('\\n')\n",
    "\n",
    "        elif line != '':  # siamo in corrispondenza del testo di un post\n",
    "            user_post.append(line)"
   ]
  }
 ],
 "metadata": {
  "kernelspec": {
   "display_name": "base",
   "language": "python",
   "name": "python3"
  },
  "language_info": {
   "codemirror_mode": {
    "name": "ipython",
    "version": 3
   },
   "file_extension": ".py",
   "mimetype": "text/x-python",
   "name": "python",
   "nbconvert_exporter": "python",
   "pygments_lexer": "ipython3",
   "version": "3.9.17"
  }
 },
 "nbformat": 4,
 "nbformat_minor": 2
}
