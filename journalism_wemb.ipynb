{
 "cells": [
  {
   "cell_type": "code",
   "execution_count": 9,
   "metadata": {},
   "outputs": [],
   "source": [
    "import sqlite3\n",
    "import numpy as np"
   ]
  },
  {
   "cell_type": "code",
   "execution_count": 2,
   "metadata": {},
   "outputs": [],
   "source": [
    "dim = 32\n",
    "dir = 'itwac'\n",
    "\n",
    "sql_path = f'{dir}/itwac{dim}.sqlite'\n",
    "txt_path = f'{dir}/itwac{dim}.txt'"
   ]
  },
  {
   "cell_type": "code",
   "execution_count": 3,
   "metadata": {},
   "outputs": [],
   "source": [
    "con = sqlite3.connect(sql_path)"
   ]
  },
  {
   "cell_type": "code",
   "execution_count": 4,
   "metadata": {},
   "outputs": [],
   "source": [
    "cur = con.cursor()"
   ]
  },
  {
   "cell_type": "code",
   "execution_count": 5,
   "metadata": {},
   "outputs": [],
   "source": [
    "with open(txt_path, 'w+') as out_file:\n",
    "    for embedding in cur.execute(\"SELECT * FROM store\"):\n",
    "        str_embedding = [str(el) for el in embedding[:-1]]\n",
    "        out_file.write('\\t'.join(str_embedding)+'\\n')\n",
    "\n",
    "out_file.close()"
   ]
  },
  {
   "cell_type": "code",
   "execution_count": 6,
   "metadata": {},
   "outputs": [],
   "source": [
    "embeddings_dim = 32\n",
    "embeddings_path = f'itwac/itwac{embeddings_dim}.txt'"
   ]
  },
  {
   "cell_type": "code",
   "execution_count": 7,
   "metadata": {},
   "outputs": [],
   "source": [
    "def load_word_embeddings(src_path):\n",
    "    embeddings = dict()\n",
    "    for line in open(src_path, 'r'):\n",
    "        line = line.strip().split('\\t')\n",
    "        word = line[0]\n",
    "        embedding = line[1:]\n",
    "        embedding = [float(comp) for comp in embedding] # convertiamo le componenti dell'embedding in float\n",
    "        embeddings[word] = np.asarray(embedding) # trasformiamo la lista delle componenti in un vettore di numpy\n",
    "    return embeddings"
   ]
  },
  {
   "cell_type": "code",
   "execution_count": 10,
   "metadata": {},
   "outputs": [],
   "source": [
    "embeddings = load_word_embeddings(embeddings_path)\n"
   ]
  },
  {
   "cell_type": "code",
   "execution_count": 21,
   "metadata": {},
   "outputs": [
    {
     "data": {
      "text/plain": [
       "array([ 0.00693607, -0.13223223,  0.17766103, -0.1846723 ,  0.10832494,\n",
       "       -0.16631842,  0.1188259 , -0.19742745, -0.09738307,  0.05717961,\n",
       "       -0.03427332,  0.03524074, -0.05007853,  0.12838058, -0.41803515,\n",
       "        0.02980422,  0.02071255, -0.13293201,  0.04718199, -0.08186675,\n",
       "        0.2480845 ,  0.08449214, -0.35181698,  0.11689875, -0.06619578,\n",
       "        0.27993774, -0.26592675,  0.24080883, -0.01441755,  0.23544694,\n",
       "        0.03297047,  0.33640549])"
      ]
     },
     "execution_count": 21,
     "metadata": {},
     "output_type": "execute_result"
    }
   ],
   "source": [
    "embeddings['veder-']"
   ]
  },
  {
   "cell_type": "code",
   "execution_count": 22,
   "metadata": {},
   "outputs": [
    {
     "name": "stdout",
     "output_type": "stream",
     "text": [
      "Valore minimo = -0.7974681258201599\n",
      "Valore massimo = 0.7941803336143494\n"
     ]
    }
   ],
   "source": [
    "min_value = 99999\n",
    "max_value = -99999\n",
    "for word in embeddings:\n",
    "    for comp in embeddings[word]:\n",
    "        if comp > max_value:\n",
    "            max_value = comp\n",
    "        elif comp < min_value:\n",
    "            min_value = comp\n",
    "\n",
    "print(f'Valore minimo = {min_value}')\n",
    "print(f'Valore massimo = {max_value}')"
   ]
  },
  {
   "cell_type": "code",
   "execution_count": 23,
   "metadata": {},
   "outputs": [],
   "source": [
    "words = ['mela', 'pera', 'banana', 'arancia', 'kiwi', 'mandarino', 'automobile', 'camion', 'pullman', 'moto', 'bici', 'autobus']\n",
    "\n",
    "embs = [embeddings[word] for word in words] \n",
    "embs = np.stack(embs, axis=0) # la funzione stack \"attacca\" una lista di vettori, creando una matrice"
   ]
  },
  {
   "cell_type": "code",
   "execution_count": 24,
   "metadata": {},
   "outputs": [
    {
     "data": {
      "text/plain": [
       "(12, 32)"
      ]
     },
     "execution_count": 24,
     "metadata": {},
     "output_type": "execute_result"
    }
   ],
   "source": [
    "embs.shape\n"
   ]
  },
  {
   "cell_type": "code",
   "execution_count": 32,
   "metadata": {},
   "outputs": [],
   "source": [
    "from sklearn.manifold import TSNE\n",
    "reduced_embs = TSNE(n_components=2, learning_rate='auto', init='random', perplexity=3).fit_transform(embs)"
   ]
  },
  {
   "cell_type": "code",
   "execution_count": 33,
   "metadata": {},
   "outputs": [
    {
     "data": {
      "image/png": "[encoded data removed]",
      "text/plain": [
       "<Figure size 432x288 with 1 Axes>"
      ]
     },
     "metadata": {
      "needs_background": "light"
     },
     "output_type": "display_data"
    }
   ],
   "source": [
    "import matplotlib.pyplot as plt\n",
    "fig, ax = plt.subplots()\n",
    "ax.scatter(reduced_embs[:,0], reduced_embs[:,1])\n",
    "for i, word in enumerate(words):\n",
    "    ax.annotate(word, (reduced_embs[i,0]+0.5, reduced_embs[i, 1]+0.5))"
   ]
  },
  {
   "cell_type": "code",
   "execution_count": 34,
   "metadata": {},
   "outputs": [],
   "source": [
    "conllu_dir = 'profiling_output/11152'"
   ]
  },
  {
   "cell_type": "code",
   "execution_count": 36,
   "metadata": {},
   "outputs": [],
   "source": [
    "import os\n",
    "all_documents_paths = []\n",
    "for file_name in os.listdir(conllu_dir):\n",
    "    file_path = os.path.join(conllu_dir, file_name)\n",
    "    all_documents_paths.append(file_path)\n"
   ]
  },
  {
   "cell_type": "code",
   "execution_count": 37,
   "metadata": {},
   "outputs": [],
   "source": [
    "import re\n",
    "\n",
    "def get_digits(text):\n",
    "    try:\n",
    "      val = int(text)\n",
    "    except:\n",
    "      text = re.sub('\\d', '@Dg', text)\n",
    "      return text\n",
    "    if val >= 0 and val < 2100:\n",
    "      return str(val)\n",
    "    else:\n",
    "      return \"DIGLEN_\" + str(len(str(val)))\n",
    "\n",
    "def normalize_text(word):\n",
    "    if \"http\" in word or (\".\" in word and \"/\" in word):\n",
    "      word = str(\"___URL___\")\n",
    "      return word\n",
    "    if len(word) > 26:\n",
    "      return \"__LONG-LONG__\"\n",
    "    new_word = get_digits(word)\n",
    "    if new_word != word:\n",
    "      word = new_word\n",
    "    if word[0].isupper():\n",
    "      word = word.capitalize()\n",
    "    else:\n",
    "      word = word.lower()\n",
    "    return word"
   ]
  },
  {
   "cell_type": "code",
   "execution_count": 38,
   "metadata": {},
   "outputs": [],
   "source": [
    "def get_tokens_from_file(src_path):\n",
    "    document_tokens = []\n",
    "    lines_to_skip = 0\n",
    "    take_pos = False\n",
    "    for line in open(src_path, 'r'):\n",
    "        # print(f'\\nRiga: {line.strip()}')\n",
    "        if line[0].isdigit():\n",
    "            splitted_line = line.strip().split('\\t')\n",
    "            if '-' in splitted_line[0]:\n",
    "                # print('Ho trovato un - ')\n",
    "                skip_ids = splitted_line[0].split('-')\n",
    "                # print('Indici da saltare', skip_ids)\n",
    "                lines_to_skip = int(skip_ids[1]) - int(skip_ids[0]) + 1 # l'indice ci indica quali righe saltare\n",
    "                take_pos = True # booleano che indica che dobbiamo prendere la pos della prossima parola\n",
    "                word = normalize_text(splitted_line[1])\n",
    "                pos = splitted_line[3]\n",
    "                token = {\n",
    "                    'word': word,\n",
    "                    'pos': '_'\n",
    "                }\n",
    "                # print(f'Preso token {word}')\n",
    "                document_tokens.append(token)\n",
    "            else:\n",
    "                if lines_to_skip == 0:\n",
    "                    \n",
    "                    word = normalize_text(splitted_line[1])\n",
    "                    pos = splitted_line[3]\n",
    "                    token = {\n",
    "                        'word': word,\n",
    "                        'pos': pos\n",
    "                    }\n",
    "                    # print(f'Preso token {word}')\n",
    "                    document_tokens.append(token)\n",
    "                if take_pos:\n",
    "                    pos = splitted_line[3]\n",
    "                    document_tokens[-1]['pos'] = pos\n",
    "                    take_pos = False\n",
    "                lines_to_skip = max(0, lines_to_skip-1)\n",
    "    return document_tokens"
   ]
  },
  {
   "cell_type": "code",
   "execution_count": 39,
   "metadata": {},
   "outputs": [],
   "source": [
    "all_documents = []\n",
    "\n",
    "for document_path in all_documents_paths:\n",
    "    document_tokens = get_tokens_from_file(document_path)\n",
    "    all_documents.append(document_tokens)"
   ]
  },
  {
   "cell_type": "code",
   "execution_count": 43,
   "metadata": {},
   "outputs": [
    {
     "data": {
      "text/plain": [
       "[{'word': '\"', 'pos': 'PUNCT'},\n",
       " {'word': 'Gay', 'pos': 'PROPN'},\n",
       " {'word': 'Pride', 'pos': 'PROPN'},\n",
       " {'word': '?', 'pos': 'PUNCT'},\n",
       " {'word': 'Solo', 'pos': 'ADV'},\n",
       " {'word': 'folklore', 'pos': 'NOUN'},\n",
       " {'word': '\"', 'pos': 'PUNCT'},\n",
       " {'word': '.', 'pos': 'PUNCT'},\n",
       " {'word': 'A', 'pos': 'ADP'},\n",
       " {'word': 'Novara', 'pos': 'PROPN'},\n",
       " {'word': 'il', 'pos': 'DET'},\n",
       " {'word': 'sindaco', 'pos': 'NOUN'},\n",
       " {'word': 'leghista', 'pos': 'ADJ'},\n",
       " {'word': 'nega', 'pos': 'VERB'},\n",
       " {'word': 'il', 'pos': 'DET'},\n",
       " {'word': 'patrocinio', 'pos': 'NOUN'},\n",
       " {'word': 'ed', 'pos': 'CCONJ'},\n",
       " {'word': 'è', 'pos': 'AUX'},\n",
       " {'word': 'polemica', 'pos': 'NOUN'},\n",
       " {'word': '\"', 'pos': 'PUNCT'}]"
      ]
     },
     "execution_count": 43,
     "metadata": {},
     "output_type": "execute_result"
    }
   ],
   "source": [
    "all_documents[0][:20]\n"
   ]
  },
  {
   "cell_type": "code",
   "execution_count": 48,
   "metadata": {},
   "outputs": [],
   "source": [
    "def compute_embeddings_mean(document_embeddings):\n",
    "    sum_array = np.sum(document_embeddings, axis=0)\n",
    "    mean_array = np.divide(sum_array, len(document_embeddings))\n",
    "    return mean_array"
   ]
  },
  {
   "cell_type": "code",
   "execution_count": 50,
   "metadata": {},
   "outputs": [],
   "source": [
    "def compute_filtered_embeddings_mean(document_tokens):\n",
    "    document_embeddings = []\n",
    "    \n",
    "    for token in document_tokens:\n",
    "        word = token['word']\n",
    "        pos = token['pos']\n",
    "        if word in embeddings and pos in ['ADJ', 'NOUN', 'VERB']:\n",
    "            document_embeddings.append(embeddings[word])\n",
    "    \n",
    "    if len(document_embeddings) == 0:\n",
    "        mean_document_embeddings = np.zeros(embeddings_dim)\n",
    "    else:\n",
    "        mean_document_embeddings = compute_embeddings_mean(document_embeddings)\n",
    "    return mean_document_embeddings"
   ]
  },
  {
   "cell_type": "code",
   "execution_count": 51,
   "metadata": {},
   "outputs": [],
   "source": [
    "def extract_features(documents):\n",
    "    dataset_features = []\n",
    "    for document_tokens in documents:\n",
    "        # document_embeddings = compute_all_embeddings_mean(document_tokens)\n",
    "        document_embeddings = compute_filtered_embeddings_mean(document_tokens)\n",
    "        # document_embeddings = compute_filtered_embeddings_sep_means(document_tokens)\n",
    "        dataset_features.append(document_embeddings)\n",
    "    return dataset_features"
   ]
  },
  {
   "cell_type": "code",
   "execution_count": 53,
   "metadata": {},
   "outputs": [],
   "source": [
    "all_features = extract_features(all_documents)\n"
   ]
  },
  {
   "cell_type": "code",
   "execution_count": 54,
   "metadata": {},
   "outputs": [
    {
     "data": {
      "text/plain": [
       "(400, 32)"
      ]
     },
     "execution_count": 54,
     "metadata": {},
     "output_type": "execute_result"
    }
   ],
   "source": [
    "len(all_features), len(all_features[0])\n"
   ]
  },
  {
   "cell_type": "code",
   "execution_count": 55,
   "metadata": {},
   "outputs": [],
   "source": [
    "def create_label_list(all_documents_paths):\n",
    "    labels = []\n",
    "    for document_path in all_documents_paths:\n",
    "        document_path = document_path[:-len('.conllu')]\n",
    "        splitted_file_path = document_path.split('#')\n",
    "        genre = splitted_file_path[2]\n",
    "        gender = splitted_file_path[3]\n",
    "        labels.append(gender)\n",
    "    return labels"
   ]
  },
  {
   "cell_type": "code",
   "execution_count": 56,
   "metadata": {},
   "outputs": [],
   "source": [
    "all_labels = create_label_list(all_documents_paths)\n"
   ]
  },
  {
   "cell_type": "code",
   "execution_count": 57,
   "metadata": {},
   "outputs": [
    {
     "data": {
      "text/plain": [
       "['F', 'F', 'M', 'M', 'F', 'F', 'F', 'M', 'M', 'M']"
      ]
     },
     "execution_count": 57,
     "metadata": {},
     "output_type": "execute_result"
    }
   ],
   "source": [
    "all_labels[:10]\n"
   ]
  },
  {
   "cell_type": "code",
   "execution_count": 58,
   "metadata": {},
   "outputs": [],
   "source": [
    "def train_test_split(all_features, all_labels, all_documents_paths):\n",
    "    train_features, train_labels = [], []\n",
    "    test_features, test_labels = [], []\n",
    "    \n",
    "    for features, label,  document_path in zip(all_features, all_labels, all_documents_paths):\n",
    "        if 'training' in document_path:\n",
    "            train_features.append(features)\n",
    "            train_labels.append(label)\n",
    "        else:\n",
    "            test_features.append(features)\n",
    "            test_labels.append(label)\n",
    "    return train_features, train_labels, test_features, test_labels\n"
   ]
  },
  {
   "cell_type": "code",
   "execution_count": 59,
   "metadata": {},
   "outputs": [
    {
     "data": {
      "text/plain": [
       "(200, 200, 200, 200)"
      ]
     },
     "execution_count": 59,
     "metadata": {},
     "output_type": "execute_result"
    }
   ],
   "source": [
    "train_features, train_labels, test_features, test_labels = train_test_split(all_features, all_labels, all_documents_paths)\n",
    "len(train_features), len(train_labels), len(test_features), len(test_labels)"
   ]
  },
  {
   "cell_type": "code",
   "execution_count": 61,
   "metadata": {},
   "outputs": [],
   "source": [
    "from sklearn.preprocessing import MinMaxScaler\n",
    "\n",
    "scaler = MinMaxScaler()\n",
    "# X_train = np.stack(train_features, axis=0)\n",
    "X_train = scaler.fit_transform(train_features)"
   ]
  },
  {
   "cell_type": "code",
   "execution_count": 75,
   "metadata": {},
   "outputs": [
    {
     "name": "stdout",
     "output_type": "stream",
     "text": [
      "Best parameters found: {'C': 0.1, 'dual': True}\n",
      "Best score found: 0.595\n"
     ]
    }
   ],
   "source": [
    "from sklearn.model_selection import GridSearchCV\n",
    "from sklearn.svm import LinearSVC\n",
    "\n",
    "# Define the parameter grid to search through\n",
    "param_grid = {\n",
    "    'C': [0.1, 0.01, 0.001, 0.0001],  # Regularization parameter\n",
    "    'dual': [True, False]\n",
    "}\n",
    "\n",
    "# Initialize SVM with linear kernel\n",
    "svc = LinearSVC()\n",
    "\n",
    "# Initialize GridSearchCV with 5-fold cross-validation\n",
    "grid_search = GridSearchCV(estimator=svc, param_grid=param_grid, cv=5)\n",
    "\n",
    "# Fit the grid search to your data\n",
    "grid_search.fit(X_train, train_labels)\n",
    "\n",
    "# Get mean test scores across folds\n",
    "mean_test_scores = grid_search.cv_results_['mean_test_score']\n",
    "\n",
    "# Print the best parameters and best score\n",
    "print(\"Best parameters found:\", grid_search.best_params_)\n",
    "print(\"Best score found:\", grid_search.best_score_)"
   ]
  },
  {
   "cell_type": "code",
   "execution_count": 76,
   "metadata": {},
   "outputs": [],
   "source": [
    "X_test = scaler.transform(test_features)\n",
    "# Get the best estimator (model) found by grid search\n",
    "best_model = grid_search.best_estimator_\n",
    "\n",
    "# Now, you can use this best_model to make predictions on new data\n",
    "# For example, if you have new data X_new, you can predict its labels as follows:\n",
    "predictions = best_model.predict(X_test)"
   ]
  },
  {
   "cell_type": "code",
   "execution_count": 77,
   "metadata": {},
   "outputs": [
    {
     "name": "stdout",
     "output_type": "stream",
     "text": [
      "              precision    recall  f1-score   support\n",
      "\n",
      "           F       0.47      0.58      0.52       100\n",
      "           M       0.45      0.35      0.40       100\n",
      "\n",
      "    accuracy                           0.47       200\n",
      "   macro avg       0.46      0.46      0.46       200\n",
      "weighted avg       0.46      0.47      0.46       200\n",
      "\n"
     ]
    }
   ],
   "source": [
    "from sklearn.metrics import classification_report, ConfusionMatrixDisplay, confusion_matrix\n",
    "test_predictions = predictions\n",
    "print(classification_report(test_labels, test_predictions, zero_division=0)) # output_dict=True"
   ]
  }
 ],
 "metadata": {
  "kernelspec": {
   "display_name": "base",
   "language": "python",
   "name": "python3"
  },
  "language_info": {
   "codemirror_mode": {
    "name": "ipython",
    "version": 3
   },
   "file_extension": ".py",
   "mimetype": "text/x-python",
   "name": "python",
   "nbconvert_exporter": "python",
   "pygments_lexer": "ipython3",
   "version": "3.9.17"
  }
 },
 "nbformat": 4,
 "nbformat_minor": 2
}
