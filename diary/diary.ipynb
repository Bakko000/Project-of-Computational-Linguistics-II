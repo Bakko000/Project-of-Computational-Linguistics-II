{
 "cells": [
  {
   "cell_type": "code",
   "execution_count": 3,
   "metadata": {},
   "outputs": [],
   "source": [
    "import re #pacchetto per espressioni regolari\n",
    "import os #pacchetto per muoversi nelle cartelle\n",
    "import sys\n",
    "sys.path.append('..')  # Add parent directory to the Python path\n",
    "from utils.helpers import *\n"
   ]
  },
  {
   "cell_type": "code",
   "execution_count": 2,
   "metadata": {},
   "outputs": [],
   "source": [
    "train_path = 'data/training.txt'\n",
    "test_path = 'data/test.txt'\n",
    "out_dir = 'data/profiling_input'"
   ]
  },
  {
   "cell_type": "code",
   "execution_count": 3,
   "metadata": {},
   "outputs": [],
   "source": [
    "# Necessario etichettare il blind test\n",
    "\n",
    "# Read gold.txt file and extract gender values\n",
    "with open(\"data/gold.txt\", \"r\", encoding=\"utf-8\") as gold_file:\n",
    "    gold_data = gold_file.readlines()\n",
    "\n",
    "# Create a dictionary to store the gender values\n",
    "gender_dict = {}\n",
    "for line in gold_data:\n",
    "    line_parts = line.strip().split(\"\\t\")\n",
    "    doc_id = line_parts[0]\n",
    "    gender = line_parts[1]\n",
    "    gender_dict[doc_id] = gender\n",
    "\n",
    "# Read test.txt file and replace \"?\" with gender values\n",
    "with open(\"data/test.txt\", \"r\") as test_file:\n",
    "    test_data = test_file.readlines()\n",
    "\n",
    "# Replace \"?\" with gender values from gold.txt\n",
    "updated_test_data = []\n",
    "for line in test_data:\n",
    "    if \"?\" in line:\n",
    "        doc_ids = re.findall(r'id=\"(.*?)\"', line)\n",
    "        if doc_ids:  # Check if any doc_ids were found\n",
    "            doc_id = doc_ids[0]  # Take the first doc_id found\n",
    "            gender = gender_dict.get(doc_id, \"?\")\n",
    "            updated_line = line.replace(\"?\", gender)\n",
    "            updated_test_data.append(updated_line)\n",
    "        else:\n",
    "            updated_test_data.append(line)  # If no doc_id found, append line unchanged\n",
    "    else:\n",
    "        updated_test_data.append(line)\n",
    "\n",
    "# Write the updated test data to a new file\n",
    "with open(\"data/test.txt\", \"w\") as updated_test_file:\n",
    "    updated_test_file.writelines(updated_test_data)"
   ]
  },
  {
   "cell_type": "code",
   "execution_count": 5,
   "metadata": {},
   "outputs": [],
   "source": [
    "for file_path in [train_path, test_path]:\n",
    "    split = get_split(file_path)\n",
    "\n",
    "    for line in open(file_path, 'r'):\n",
    "        line = line.strip() # rimuoviamo eventuali spazi e ritorni a capo\n",
    "\n",
    "        if '<doc id=\"' in line:    # troviamo un nuovo documento\n",
    "            doc_id, genre, gender = get_doc_info(line)\n",
    "            out_file_name = f'{split}#{doc_id}#{genre}#{gender}.txt'\n",
    "            out_file_path = os.path.join(out_dir, out_file_name)\n",
    "            user_post = []\n",
    "\n",
    "        elif '</doc>' in line:     # fine dell'utente\n",
    "            with open(out_file_path, 'w') as out_file:\n",
    "                for post in user_post:\n",
    "                    out_file.write(post)\n",
    "                    out_file.write('\\n')\n",
    "\n",
    "        elif line != '':  # siamo in corrispondenza del testo di un post\n",
    "            user_post.append(line)"
   ]
  },
  {
   "cell_type": "code",
   "execution_count": 4,
   "metadata": {},
   "outputs": [],
   "source": [
    "profiling_output_path = 'data/profiling_output/11459.csv'"
   ]
  },
  {
   "cell_type": "code",
   "execution_count": 5,
   "metadata": {},
   "outputs": [],
   "source": [
    "features_names, documents_info, features = load_dataset(profiling_output_path)"
   ]
  },
  {
   "cell_type": "code",
   "execution_count": 6,
   "metadata": {},
   "outputs": [
    {
     "name": "stdout",
     "output_type": "stream",
     "text": [
      "Numero features: 141\n",
      "\n",
      "Lista features:\n",
      "['n_sentences', 'n_tokens', 'tokens_per_sent', 'char_per_tok', 'ttr_lemma_chunks_100', 'ttr_lemma_chunks_200', 'ttr_form_chunks_100', 'ttr_form_chunks_200', 'upos_dist_ADJ', 'upos_dist_ADP']\n"
     ]
    }
   ],
   "source": [
    "print(f'Numero features: {len(features_names)}')\n",
    "print('\\nLista features:')\n",
    "print(features_names[:10])"
   ]
  },
  {
   "cell_type": "code",
   "execution_count": 7,
   "metadata": {},
   "outputs": [
    {
     "data": {
      "text/plain": [
       "['F',\n",
       " 'F',\n",
       " 'M',\n",
       " 'F',\n",
       " 'M',\n",
       " 'M',\n",
       " 'M',\n",
       " 'F',\n",
       " 'F',\n",
       " 'F',\n",
       " 'F',\n",
       " 'M',\n",
       " 'F',\n",
       " 'M',\n",
       " 'M',\n",
       " 'F',\n",
       " 'F',\n",
       " 'M',\n",
       " 'F',\n",
       " 'M',\n",
       " 'F',\n",
       " 'M',\n",
       " 'M',\n",
       " 'M',\n",
       " 'M',\n",
       " 'F',\n",
       " 'F',\n",
       " 'F',\n",
       " 'F',\n",
       " 'M',\n",
       " 'M',\n",
       " 'M',\n",
       " 'F',\n",
       " 'M',\n",
       " 'F',\n",
       " 'F',\n",
       " 'F',\n",
       " 'F',\n",
       " 'M',\n",
       " 'M',\n",
       " 'F',\n",
       " 'M',\n",
       " 'F',\n",
       " 'F',\n",
       " 'F',\n",
       " 'M',\n",
       " 'M',\n",
       " 'F',\n",
       " 'F',\n",
       " 'F',\n",
       " 'M',\n",
       " 'F',\n",
       " 'F',\n",
       " 'M',\n",
       " 'M',\n",
       " 'M',\n",
       " 'M',\n",
       " 'F',\n",
       " 'M',\n",
       " 'F',\n",
       " 'M',\n",
       " 'F',\n",
       " 'F',\n",
       " 'M',\n",
       " 'M',\n",
       " 'F',\n",
       " 'M',\n",
       " 'F',\n",
       " 'M',\n",
       " 'F',\n",
       " 'M',\n",
       " 'M',\n",
       " 'F',\n",
       " 'F',\n",
       " 'M',\n",
       " 'M',\n",
       " 'M',\n",
       " 'M',\n",
       " 'M',\n",
       " 'M',\n",
       " 'F',\n",
       " 'F',\n",
       " 'F',\n",
       " 'F',\n",
       " 'F',\n",
       " 'F',\n",
       " 'M',\n",
       " 'F',\n",
       " 'M',\n",
       " 'M',\n",
       " 'F',\n",
       " 'M',\n",
       " 'F',\n",
       " 'F',\n",
       " 'M',\n",
       " 'F',\n",
       " 'M',\n",
       " 'M',\n",
       " 'M',\n",
       " 'M',\n",
       " 'F',\n",
       " 'F',\n",
       " 'M',\n",
       " 'M',\n",
       " 'M',\n",
       " 'M',\n",
       " 'M',\n",
       " 'F',\n",
       " 'F',\n",
       " 'M',\n",
       " 'M',\n",
       " 'F',\n",
       " 'F',\n",
       " 'F',\n",
       " 'M',\n",
       " 'M',\n",
       " 'F',\n",
       " 'F',\n",
       " 'M',\n",
       " 'M',\n",
       " 'M',\n",
       " 'F',\n",
       " 'M',\n",
       " 'F',\n",
       " 'F',\n",
       " 'M',\n",
       " 'F',\n",
       " 'M',\n",
       " 'M',\n",
       " 'M',\n",
       " 'F',\n",
       " 'M',\n",
       " 'F',\n",
       " 'M',\n",
       " 'F',\n",
       " 'F',\n",
       " 'F',\n",
       " 'M',\n",
       " 'M',\n",
       " 'F',\n",
       " 'F',\n",
       " 'M',\n",
       " 'M',\n",
       " 'F',\n",
       " 'F',\n",
       " 'F',\n",
       " 'F',\n",
       " 'M',\n",
       " 'F',\n",
       " 'M',\n",
       " 'M',\n",
       " 'M',\n",
       " 'M',\n",
       " 'M',\n",
       " 'M',\n",
       " 'M',\n",
       " 'F',\n",
       " 'M',\n",
       " 'M',\n",
       " 'F',\n",
       " 'F',\n",
       " 'F',\n",
       " 'M',\n",
       " 'F',\n",
       " 'F',\n",
       " 'F',\n",
       " 'F',\n",
       " 'F',\n",
       " 'M',\n",
       " 'F',\n",
       " 'M',\n",
       " 'M',\n",
       " 'F',\n",
       " 'F',\n",
       " 'M',\n",
       " 'F',\n",
       " 'M',\n",
       " 'M',\n",
       " 'M',\n",
       " 'M',\n",
       " 'F',\n",
       " 'F',\n",
       " 'M',\n",
       " 'F',\n",
       " 'M',\n",
       " 'M',\n",
       " 'F',\n",
       " 'F',\n",
       " 'F',\n",
       " 'F',\n",
       " 'M',\n",
       " 'M',\n",
       " 'M',\n",
       " 'M',\n",
       " 'F',\n",
       " 'F',\n",
       " 'M',\n",
       " 'F',\n",
       " 'F',\n",
       " 'F',\n",
       " 'M',\n",
       " 'F',\n",
       " 'F',\n",
       " 'F',\n",
       " 'F',\n",
       " 'M',\n",
       " 'F',\n",
       " 'M',\n",
       " 'M',\n",
       " 'M',\n",
       " 'M',\n",
       " 'M',\n",
       " 'M',\n",
       " 'F',\n",
       " 'M',\n",
       " 'F',\n",
       " 'M',\n",
       " 'M',\n",
       " 'F',\n",
       " 'M',\n",
       " 'F',\n",
       " 'F',\n",
       " 'F',\n",
       " 'M',\n",
       " 'M',\n",
       " 'F',\n",
       " 'M',\n",
       " 'F',\n",
       " 'M',\n",
       " 'F',\n",
       " 'M',\n",
       " 'F',\n",
       " 'F',\n",
       " 'F',\n",
       " 'F',\n",
       " 'F',\n",
       " 'M',\n",
       " 'F',\n",
       " 'M',\n",
       " 'F',\n",
       " 'F',\n",
       " 'F',\n",
       " 'M',\n",
       " 'M',\n",
       " 'F',\n",
       " 'M',\n",
       " 'M',\n",
       " 'M',\n",
       " 'F',\n",
       " 'M',\n",
       " 'M',\n",
       " 'M',\n",
       " 'F',\n",
       " 'F',\n",
       " 'F',\n",
       " 'F',\n",
       " 'M',\n",
       " 'F',\n",
       " 'M',\n",
       " 'M',\n",
       " 'M',\n",
       " 'F',\n",
       " 'F',\n",
       " 'F',\n",
       " 'M',\n",
       " 'M',\n",
       " 'F',\n",
       " 'M',\n",
       " 'F',\n",
       " 'M',\n",
       " 'F',\n",
       " 'M',\n",
       " 'M',\n",
       " 'F']"
      ]
     },
     "execution_count": 7,
     "metadata": {},
     "output_type": "execute_result"
    }
   ],
   "source": [
    "labels = create_label_list(documents_info)\n",
    "labels"
   ]
  },
  {
   "cell_type": "code",
   "execution_count": 8,
   "metadata": {},
   "outputs": [
    {
     "name": "stdout",
     "output_type": "stream",
     "text": [
      "Documenti training set: 200 200\n",
      "Documenti test set: 74 74\n"
     ]
    }
   ],
   "source": [
    "train_features, train_labels, test_features, test_labels = train_test_split(documents_info, features, labels)\n",
    "\n",
    "print('Documenti training set:', len(train_features), len(train_labels))\n",
    "print('Documenti test set:', len(test_features), len(test_labels))"
   ]
  },
  {
   "cell_type": "code",
   "execution_count": 9,
   "metadata": {},
   "outputs": [],
   "source": [
    "from sklearn.preprocessing import MinMaxScaler\n",
    "scaler = MinMaxScaler()\n",
    "X_train = scaler.fit_transform(train_features)\n",
    "X_test = scaler.transform(test_features)\n",
    "\n",
    "# Conversione in DataFrame senza specificare i nomi delle colonne\n",
    "save_df(X_train, train_labels, \"diary\")\n",
    "save_df(X_test, test_labels, \"diary_test\")"
   ]
  },
  {
   "cell_type": "code",
   "execution_count": 10,
   "metadata": {},
   "outputs": [
    {
     "name": "stderr",
     "output_type": "stream",
     "text": [
      "c:\\Users\\corra\\anaconda3\\lib\\site-packages\\sklearn\\svm\\_base.py:1237: ConvergenceWarning: Liblinear failed to converge, increase the number of iterations.\n",
      "  warnings.warn(\n",
      "c:\\Users\\corra\\anaconda3\\lib\\site-packages\\sklearn\\svm\\_base.py:1237: ConvergenceWarning: Liblinear failed to converge, increase the number of iterations.\n",
      "  warnings.warn(\n",
      "c:\\Users\\corra\\anaconda3\\lib\\site-packages\\sklearn\\svm\\_base.py:1237: ConvergenceWarning: Liblinear failed to converge, increase the number of iterations.\n",
      "  warnings.warn(\n",
      "c:\\Users\\corra\\anaconda3\\lib\\site-packages\\sklearn\\svm\\_base.py:1237: ConvergenceWarning: Liblinear failed to converge, increase the number of iterations.\n",
      "  warnings.warn(\n",
      "c:\\Users\\corra\\anaconda3\\lib\\site-packages\\sklearn\\svm\\_base.py:1237: ConvergenceWarning: Liblinear failed to converge, increase the number of iterations.\n",
      "  warnings.warn(\n"
     ]
    },
    {
     "name": "stdout",
     "output_type": "stream",
     "text": [
      "Best parameters found: {'C': 0.0005, 'dual': True}\n",
      "Best score found: 0.64\n"
     ]
    }
   ],
   "source": [
    "from sklearn.svm import LinearSVC\n",
    "from sklearn.model_selection import GridSearchCV\n",
    "\n",
    "# Define the parameter grid to search through\n",
    "param_grid = {\n",
    "    'C': [10, 1, 0.1, 0.01, 0.001, 0.0005],  # Regularization parameter\n",
    "    'dual': [True, False]\n",
    "}\n",
    "\n",
    "# Initialize SVM with linear kernel\n",
    "svc = LinearSVC()\n",
    "\n",
    "# Initialize GridSearchCV with 5-fold cross-validation\n",
    "grid_search = GridSearchCV(estimator=svc, param_grid=param_grid, cv=5)\n",
    "\n",
    "# Fit the grid search to your data\n",
    "grid_search.fit(X_train, train_labels)\n",
    "\n",
    "# Get mean test scores across folds\n",
    "mean_test_scores = grid_search.cv_results_['mean_test_score']\n",
    "\n",
    "# Print the best parameters and best score\n",
    "print(\"Best parameters found:\", grid_search.best_params_)\n",
    "print(\"Best score found:\", grid_search.best_score_)"
   ]
  },
  {
   "cell_type": "code",
   "execution_count": 11,
   "metadata": {},
   "outputs": [],
   "source": [
    "# Get the best estimator (model) found by grid search\n",
    "best_model = grid_search.best_estimator_\n",
    "\n",
    "# Now, you can use this best_model to make predictions on new data\n",
    "# For example, if you have new data X_new, you can predict its labels as follows:\n",
    "predictions = best_model.predict(X_test)"
   ]
  },
  {
   "cell_type": "code",
   "execution_count": 12,
   "metadata": {},
   "outputs": [
    {
     "name": "stdout",
     "output_type": "stream",
     "text": [
      "              precision    recall  f1-score   support\n",
      "\n",
      "           F       0.56      0.27      0.36        37\n",
      "           M       0.52      0.78      0.62        37\n",
      "\n",
      "    accuracy                           0.53        74\n",
      "   macro avg       0.54      0.53      0.49        74\n",
      "weighted avg       0.54      0.53      0.49        74\n",
      "\n"
     ]
    }
   ],
   "source": [
    "from sklearn.metrics import classification_report, ConfusionMatrixDisplay, confusion_matrix\n",
    "test_predictions = predictions\n",
    "print(classification_report(test_labels, test_predictions, zero_division=0)) # output_dict=True"
   ]
  },
  {
   "cell_type": "code",
   "execution_count": 13,
   "metadata": {},
   "outputs": [
    {
     "data": {
      "image/png": "[encoded data removed]",
      "text/plain": [
       "<Figure size 432x288 with 2 Axes>"
      ]
     },
     "metadata": {
      "needs_background": "light"
     },
     "output_type": "display_data"
    }
   ],
   "source": [
    "ConfusionMatrixDisplay.from_predictions(test_labels, test_predictions, xticks_rotation='vertical', cmap='Blues');"
   ]
  },
  {
   "cell_type": "code",
   "execution_count": 15,
   "metadata": {},
   "outputs": [
    {
     "data": {
      "text/plain": [
       "(1, 141)"
      ]
     },
     "execution_count": 15,
     "metadata": {},
     "output_type": "execute_result"
    }
   ],
   "source": [
    "coefs = best_model.coef_ # ndarray of shape (1, n_features) if n_classes == 2 else (n_classes, n_features)\n",
    "coefs.shape"
   ]
  },
  {
   "cell_type": "code",
   "execution_count": 16,
   "metadata": {},
   "outputs": [],
   "source": [
    "svc=best_model"
   ]
  },
  {
   "cell_type": "code",
   "execution_count": 17,
   "metadata": {},
   "outputs": [
    {
     "name": "stdout",
     "output_type": "stream",
     "text": [
      "Feature importance class F\n"
     ]
    },
    {
     "data": {
      "image/png": "[encoded data removed]",
      "text/plain": [
       "<Figure size 432x288 with 1 Axes>"
      ]
     },
     "metadata": {
      "needs_background": "light"
     },
     "output_type": "display_data"
    }
   ],
   "source": [
    "import matplotlib.pyplot as plt\n",
    "\n",
    "# Assuming `coefs` is your coefficients obtained from the SVM model\n",
    "# Assuming `features_names` is a list containing the names of your features\n",
    "idx = 0\n",
    "class_coefs = coefs[idx]\n",
    "\n",
    "feature_importances = {feature_name: coef for feature_name, coef in zip(features_names, class_coefs)}\n",
    "sorted_feature_importances = dict(sorted(feature_importances.items(), key=lambda item: item[1], reverse=True))\n",
    "\n",
    "num_to_plot = 20\n",
    "print(f'Feature importance class {svc.classes_[idx]}')\n",
    "plt.barh(range(num_to_plot), list(sorted_feature_importances.values())[:num_to_plot], align='center')\n",
    "plt.yticks(range(num_to_plot), list(sorted_feature_importances.keys())[:num_to_plot])\n",
    "plt.show()\n"
   ]
  }
 ],
 "metadata": {
  "kernelspec": {
   "display_name": "base",
   "language": "python",
   "name": "python3"
  },
  "language_info": {
   "codemirror_mode": {
    "name": "ipython",
    "version": 3
   },
   "file_extension": ".py",
   "mimetype": "text/x-python",
   "name": "python",
   "nbconvert_exporter": "python",
   "pygments_lexer": "ipython3",
   "version": "3.9.17"
  }
 },
 "nbformat": 4,
 "nbformat_minor": 2
}
